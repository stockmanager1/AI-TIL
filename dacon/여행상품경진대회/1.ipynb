{
  "nbformat": 4,
  "nbformat_minor": 0,
  "metadata": {
    "colab": {
      "name": "1.ipynb",
      "provenance": [],
      "collapsed_sections": []
    },
    "kernelspec": {
      "name": "python3",
      "display_name": "Python 3"
    },
    "language_info": {
      "name": "python"
    },
    "widgets": {
      "application/vnd.jupyter.widget-state+json": {
        "a0689f9ad2864607a7bec367742cfdc0": {
          "model_module": "@jupyter-widgets/controls",
          "model_name": "IntProgressModel",
          "model_module_version": "1.5.0",
          "state": {
            "_dom_classes": [],
            "_model_module": "@jupyter-widgets/controls",
            "_model_module_version": "1.5.0",
            "_model_name": "IntProgressModel",
            "_view_count": null,
            "_view_module": "@jupyter-widgets/controls",
            "_view_module_version": "1.5.0",
            "_view_name": "ProgressView",
            "bar_style": "",
            "description": "Processing: ",
            "description_tooltip": null,
            "layout": "IPY_MODEL_2641fb12c9054b6594f8cb54d9c00edd",
            "max": 3,
            "min": 0,
            "orientation": "horizontal",
            "style": "IPY_MODEL_2fa225cd0eff46059ad138e1ac802351",
            "value": 3
          }
        },
        "2641fb12c9054b6594f8cb54d9c00edd": {
          "model_module": "@jupyter-widgets/base",
          "model_name": "LayoutModel",
          "model_module_version": "1.2.0",
          "state": {
            "_model_module": "@jupyter-widgets/base",
            "_model_module_version": "1.2.0",
            "_model_name": "LayoutModel",
            "_view_count": null,
            "_view_module": "@jupyter-widgets/base",
            "_view_module_version": "1.2.0",
            "_view_name": "LayoutView",
            "align_content": null,
            "align_items": null,
            "align_self": null,
            "border": null,
            "bottom": null,
            "display": null,
            "flex": null,
            "flex_flow": null,
            "grid_area": null,
            "grid_auto_columns": null,
            "grid_auto_flow": null,
            "grid_auto_rows": null,
            "grid_column": null,
            "grid_gap": null,
            "grid_row": null,
            "grid_template_areas": null,
            "grid_template_columns": null,
            "grid_template_rows": null,
            "height": null,
            "justify_content": null,
            "justify_items": null,
            "left": null,
            "margin": null,
            "max_height": null,
            "max_width": null,
            "min_height": null,
            "min_width": null,
            "object_fit": null,
            "object_position": null,
            "order": null,
            "overflow": null,
            "overflow_x": null,
            "overflow_y": null,
            "padding": null,
            "right": null,
            "top": null,
            "visibility": null,
            "width": null
          }
        },
        "2fa225cd0eff46059ad138e1ac802351": {
          "model_module": "@jupyter-widgets/controls",
          "model_name": "ProgressStyleModel",
          "model_module_version": "1.5.0",
          "state": {
            "_model_module": "@jupyter-widgets/controls",
            "_model_module_version": "1.5.0",
            "_model_name": "ProgressStyleModel",
            "_view_count": null,
            "_view_module": "@jupyter-widgets/base",
            "_view_module_version": "1.2.0",
            "_view_name": "StyleView",
            "bar_color": null,
            "description_width": ""
          }
        },
        "afda8eb37f13470d81cdc7bef5ed8052": {
          "model_module": "@jupyter-widgets/controls",
          "model_name": "TextModel",
          "model_module_version": "1.5.0",
          "state": {
            "_dom_classes": [],
            "_model_module": "@jupyter-widgets/controls",
            "_model_module_version": "1.5.0",
            "_model_name": "TextModel",
            "_view_count": null,
            "_view_module": "@jupyter-widgets/controls",
            "_view_module_version": "1.5.0",
            "_view_name": "TextView",
            "continuous_update": true,
            "description": "",
            "description_tooltip": null,
            "disabled": false,
            "layout": "IPY_MODEL_14aed351288749b48123569d8c24041f",
            "placeholder": "​",
            "style": "IPY_MODEL_68ff16c6f7c44ab3bc9f406963cac5a4",
            "value": "Following data types have been inferred automatically, if they are correct press enter to continue or type 'quit' otherwise."
          }
        },
        "14aed351288749b48123569d8c24041f": {
          "model_module": "@jupyter-widgets/base",
          "model_name": "LayoutModel",
          "model_module_version": "1.2.0",
          "state": {
            "_model_module": "@jupyter-widgets/base",
            "_model_module_version": "1.2.0",
            "_model_name": "LayoutModel",
            "_view_count": null,
            "_view_module": "@jupyter-widgets/base",
            "_view_module_version": "1.2.0",
            "_view_name": "LayoutView",
            "align_content": null,
            "align_items": null,
            "align_self": null,
            "border": null,
            "bottom": null,
            "display": null,
            "flex": null,
            "flex_flow": null,
            "grid_area": null,
            "grid_auto_columns": null,
            "grid_auto_flow": null,
            "grid_auto_rows": null,
            "grid_column": null,
            "grid_gap": null,
            "grid_row": null,
            "grid_template_areas": null,
            "grid_template_columns": null,
            "grid_template_rows": null,
            "height": null,
            "justify_content": null,
            "justify_items": null,
            "left": null,
            "margin": null,
            "max_height": null,
            "max_width": null,
            "min_height": null,
            "min_width": null,
            "object_fit": null,
            "object_position": null,
            "order": null,
            "overflow": null,
            "overflow_x": null,
            "overflow_y": null,
            "padding": null,
            "right": null,
            "top": null,
            "visibility": null,
            "width": "100%"
          }
        },
        "68ff16c6f7c44ab3bc9f406963cac5a4": {
          "model_module": "@jupyter-widgets/controls",
          "model_name": "DescriptionStyleModel",
          "model_module_version": "1.5.0",
          "state": {
            "_model_module": "@jupyter-widgets/controls",
            "_model_module_version": "1.5.0",
            "_model_name": "DescriptionStyleModel",
            "_view_count": null,
            "_view_module": "@jupyter-widgets/base",
            "_view_module_version": "1.2.0",
            "_view_name": "StyleView",
            "description_width": ""
          }
        },
        "cec8e9689efb4d289360dce8ebb18db6": {
          "model_module": "@jupyter-widgets/controls",
          "model_name": "IntProgressModel",
          "model_module_version": "1.5.0",
          "state": {
            "_dom_classes": [],
            "_model_module": "@jupyter-widgets/controls",
            "_model_module_version": "1.5.0",
            "_model_name": "IntProgressModel",
            "_view_count": null,
            "_view_module": "@jupyter-widgets/controls",
            "_view_module_version": "1.5.0",
            "_view_name": "ProgressView",
            "bar_style": "",
            "description": "Processing: ",
            "description_tooltip": null,
            "layout": "IPY_MODEL_c338bdec8dec42fc8e4280d02906b129",
            "max": 74,
            "min": 0,
            "orientation": "horizontal",
            "style": "IPY_MODEL_5518c6e221754dcaa38a39375fbf0137",
            "value": 74
          }
        },
        "c338bdec8dec42fc8e4280d02906b129": {
          "model_module": "@jupyter-widgets/base",
          "model_name": "LayoutModel",
          "model_module_version": "1.2.0",
          "state": {
            "_model_module": "@jupyter-widgets/base",
            "_model_module_version": "1.2.0",
            "_model_name": "LayoutModel",
            "_view_count": null,
            "_view_module": "@jupyter-widgets/base",
            "_view_module_version": "1.2.0",
            "_view_name": "LayoutView",
            "align_content": null,
            "align_items": null,
            "align_self": null,
            "border": null,
            "bottom": null,
            "display": null,
            "flex": null,
            "flex_flow": null,
            "grid_area": null,
            "grid_auto_columns": null,
            "grid_auto_flow": null,
            "grid_auto_rows": null,
            "grid_column": null,
            "grid_gap": null,
            "grid_row": null,
            "grid_template_areas": null,
            "grid_template_columns": null,
            "grid_template_rows": null,
            "height": null,
            "justify_content": null,
            "justify_items": null,
            "left": null,
            "margin": null,
            "max_height": null,
            "max_width": null,
            "min_height": null,
            "min_width": null,
            "object_fit": null,
            "object_position": null,
            "order": null,
            "overflow": null,
            "overflow_x": null,
            "overflow_y": null,
            "padding": null,
            "right": null,
            "top": null,
            "visibility": null,
            "width": null
          }
        },
        "5518c6e221754dcaa38a39375fbf0137": {
          "model_module": "@jupyter-widgets/controls",
          "model_name": "ProgressStyleModel",
          "model_module_version": "1.5.0",
          "state": {
            "_model_module": "@jupyter-widgets/controls",
            "_model_module_version": "1.5.0",
            "_model_name": "ProgressStyleModel",
            "_view_count": null,
            "_view_module": "@jupyter-widgets/base",
            "_view_module_version": "1.2.0",
            "_view_name": "StyleView",
            "bar_color": null,
            "description_width": ""
          }
        }
      }
    }
  },
  "cells": [
    {
      "cell_type": "markdown",
      "source": [
        "#데이콘 Basic 여행 상품 신청 여부 예측 경진대회 -1 출처 : 마라맛 개발자"
      ],
      "metadata": {
        "id": "ZDdjqQ4NXigP"
      }
    },
    {
      "cell_type": "markdown",
      "source": [
        "출처 : https://dacon.io/competitions/official/235959/codeshare"
      ],
      "metadata": {
        "id": "odSRWpZzXzqx"
      }
    },
    {
      "cell_type": "markdown",
      "source": [
        "##문제를 풀어낸 순서\n",
        "\n",
        "1. 라이브러리 불러오기\n",
        "\n",
        "2. 데이터 불러오기\n",
        "\n",
        "3. EDA  & 전처리\n",
        "\n",
        "  3.1 EDA\n",
        "\n",
        "        3.1.1 수치형 데이터\n",
        "\n",
        "        3.1.2 범주형 데이터\n",
        "  \n",
        "  3.2 전처리\n",
        "\n",
        "        3.2.1 결측치 처리\n",
        "\n",
        "        3.2.2 스케일링\n",
        "\n",
        "        3.2.3 인코딩\n",
        "\n",
        "4. 모델링\n",
        "\n",
        "  4.1 split\n",
        "\n",
        "  4.2 성능 검증용 함수\n",
        "\n",
        "  4.3 모델 automl로 선정\n",
        "\n",
        "5. 제출"
      ],
      "metadata": {
        "id": "THDuK5lvX37b"
      }
    },
    {
      "cell_type": "markdown",
      "source": [
        "## 1. 라이브러리 불러오기"
      ],
      "metadata": {
        "id": "PyMxTx44Yr8l"
      }
    },
    {
      "cell_type": "code",
      "source": [
        "!pip install pycaret\n",
        "\n",
        "!pip install markupsafe==2.1.1\n",
        "\n",
        "!pip install pandas-profiling==3.1.0"
      ],
      "metadata": {
        "colab": {
          "base_uri": "https://localhost:8080/",
          "height": 1000
        },
        "id": "v11_uvMYZgis",
        "outputId": "48b2a9c6-653b-4550-ca86-4d28b86cfce5"
      },
      "execution_count": 73,
      "outputs": [
        {
          "output_type": "stream",
          "name": "stdout",
          "text": [
            "Looking in indexes: https://pypi.org/simple, https://us-python.pkg.dev/colab-wheels/public/simple/\n",
            "Requirement already satisfied: pycaret in /usr/local/lib/python3.7/dist-packages (2.3.10)\n",
            "Requirement already satisfied: pandas-profiling>=2.8.0 in /usr/local/lib/python3.7/dist-packages (from pycaret) (3.1.0)\n",
            "Requirement already satisfied: scipy<=1.5.4 in /usr/local/lib/python3.7/dist-packages (from pycaret) (1.5.4)\n",
            "Requirement already satisfied: umap-learn in /usr/local/lib/python3.7/dist-packages (from pycaret) (0.5.3)\n",
            "Requirement already satisfied: cufflinks>=0.17.0 in /usr/local/lib/python3.7/dist-packages (from pycaret) (0.17.3)\n",
            "Requirement already satisfied: pyyaml<6.0.0 in /usr/local/lib/python3.7/dist-packages (from pycaret) (5.4.1)\n",
            "Requirement already satisfied: pandas in /usr/local/lib/python3.7/dist-packages (from pycaret) (1.3.5)\n",
            "Requirement already satisfied: kmodes>=0.10.1 in /usr/local/lib/python3.7/dist-packages (from pycaret) (0.12.1)\n",
            "Requirement already satisfied: matplotlib in /usr/local/lib/python3.7/dist-packages (from pycaret) (3.1.3)\n",
            "Requirement already satisfied: textblob in /usr/local/lib/python3.7/dist-packages (from pycaret) (0.15.3)\n",
            "Requirement already satisfied: nltk in /usr/local/lib/python3.7/dist-packages (from pycaret) (3.7)\n",
            "Requirement already satisfied: joblib in /usr/local/lib/python3.7/dist-packages (from pycaret) (1.0.1)\n",
            "Requirement already satisfied: mlxtend>=0.17.0 in /usr/local/lib/python3.7/dist-packages (from pycaret) (0.19.0)\n",
            "Requirement already satisfied: mlflow in /usr/local/lib/python3.7/dist-packages (from pycaret) (1.28.0)\n",
            "Requirement already satisfied: lightgbm>=2.3.1 in /usr/local/lib/python3.7/dist-packages (from pycaret) (3.3.2)\n",
            "Requirement already satisfied: scikit-learn==0.23.2 in /usr/local/lib/python3.7/dist-packages (from pycaret) (0.23.2)\n",
            "Requirement already satisfied: scikit-plot in /usr/local/lib/python3.7/dist-packages (from pycaret) (0.3.7)\n",
            "Requirement already satisfied: yellowbrick>=1.0.1 in /usr/local/lib/python3.7/dist-packages (from pycaret) (1.3.post1)\n",
            "Requirement already satisfied: ipywidgets in /usr/local/lib/python3.7/dist-packages (from pycaret) (7.7.1)\n",
            "Requirement already satisfied: numba<0.55 in /usr/local/lib/python3.7/dist-packages (from pycaret) (0.54.1)\n",
            "Requirement already satisfied: spacy<2.4.0 in /usr/local/lib/python3.7/dist-packages (from pycaret) (2.3.7)\n",
            "Requirement already satisfied: plotly>=4.4.1 in /usr/local/lib/python3.7/dist-packages (from pycaret) (5.5.0)\n",
            "Requirement already satisfied: wordcloud in /usr/local/lib/python3.7/dist-packages (from pycaret) (1.8.2.2)\n",
            "Requirement already satisfied: gensim<4.0.0 in /usr/local/lib/python3.7/dist-packages (from pycaret) (3.6.0)\n",
            "Requirement already satisfied: pyod in /usr/local/lib/python3.7/dist-packages (from pycaret) (1.0.4)\n",
            "Requirement already satisfied: IPython in /usr/local/lib/python3.7/dist-packages (from pycaret) (7.9.0)\n",
            "Requirement already satisfied: seaborn in /usr/local/lib/python3.7/dist-packages (from pycaret) (0.11.2)\n",
            "Requirement already satisfied: imbalanced-learn==0.7.0 in /usr/local/lib/python3.7/dist-packages (from pycaret) (0.7.0)\n",
            "Requirement already satisfied: Boruta in /usr/local/lib/python3.7/dist-packages (from pycaret) (0.3)\n",
            "Requirement already satisfied: pyLDAvis in /usr/local/lib/python3.7/dist-packages (from pycaret) (3.2.2)\n",
            "Requirement already satisfied: numpy>=1.13.3 in /usr/local/lib/python3.7/dist-packages (from imbalanced-learn==0.7.0->pycaret) (1.19.5)\n",
            "Requirement already satisfied: threadpoolctl>=2.0.0 in /usr/local/lib/python3.7/dist-packages (from scikit-learn==0.23.2->pycaret) (3.1.0)\n",
            "Requirement already satisfied: six>=1.9.0 in /usr/local/lib/python3.7/dist-packages (from cufflinks>=0.17.0->pycaret) (1.15.0)\n",
            "Requirement already satisfied: colorlover>=0.2.1 in /usr/local/lib/python3.7/dist-packages (from cufflinks>=0.17.0->pycaret) (0.3.0)\n",
            "Requirement already satisfied: setuptools>=34.4.1 in /usr/local/lib/python3.7/dist-packages (from cufflinks>=0.17.0->pycaret) (57.4.0)\n",
            "Requirement already satisfied: smart-open>=1.2.1 in /usr/local/lib/python3.7/dist-packages (from gensim<4.0.0->pycaret) (5.2.1)\n",
            "Requirement already satisfied: traitlets>=4.2 in /usr/local/lib/python3.7/dist-packages (from IPython->pycaret) (5.1.1)\n",
            "Requirement already satisfied: pickleshare in /usr/local/lib/python3.7/dist-packages (from IPython->pycaret) (0.7.5)\n",
            "Requirement already satisfied: decorator in /usr/local/lib/python3.7/dist-packages (from IPython->pycaret) (4.4.2)\n",
            "Requirement already satisfied: pexpect in /usr/local/lib/python3.7/dist-packages (from IPython->pycaret) (4.8.0)\n",
            "Requirement already satisfied: prompt-toolkit<2.1.0,>=2.0.0 in /usr/local/lib/python3.7/dist-packages (from IPython->pycaret) (2.0.10)\n",
            "Requirement already satisfied: backcall in /usr/local/lib/python3.7/dist-packages (from IPython->pycaret) (0.2.0)\n",
            "Requirement already satisfied: jedi>=0.10 in /usr/local/lib/python3.7/dist-packages (from IPython->pycaret) (0.18.1)\n",
            "Requirement already satisfied: pygments in /usr/local/lib/python3.7/dist-packages (from IPython->pycaret) (2.6.1)\n",
            "Requirement already satisfied: ipython-genutils~=0.2.0 in /usr/local/lib/python3.7/dist-packages (from ipywidgets->pycaret) (0.2.0)\n",
            "Requirement already satisfied: ipykernel>=4.5.1 in /usr/local/lib/python3.7/dist-packages (from ipywidgets->pycaret) (5.3.4)\n",
            "Requirement already satisfied: widgetsnbextension~=3.6.0 in /usr/local/lib/python3.7/dist-packages (from ipywidgets->pycaret) (3.6.1)\n",
            "Requirement already satisfied: jupyterlab-widgets>=1.0.0 in /usr/local/lib/python3.7/dist-packages (from ipywidgets->pycaret) (3.0.2)\n",
            "Requirement already satisfied: tornado>=4.2 in /usr/local/lib/python3.7/dist-packages (from ipykernel>=4.5.1->ipywidgets->pycaret) (5.1.1)\n",
            "Requirement already satisfied: jupyter-client in /usr/local/lib/python3.7/dist-packages (from ipykernel>=4.5.1->ipywidgets->pycaret) (6.1.12)\n",
            "Requirement already satisfied: parso<0.9.0,>=0.8.0 in /usr/local/lib/python3.7/dist-packages (from jedi>=0.10->IPython->pycaret) (0.8.3)\n",
            "Requirement already satisfied: wheel in /usr/local/lib/python3.7/dist-packages (from lightgbm>=2.3.1->pycaret) (0.37.1)\n",
            "Requirement already satisfied: pyparsing!=2.0.4,!=2.1.2,!=2.1.6,>=2.0.1 in /usr/local/lib/python3.7/dist-packages (from matplotlib->pycaret) (3.0.9)\n",
            "Requirement already satisfied: cycler>=0.10 in /usr/local/lib/python3.7/dist-packages (from matplotlib->pycaret) (0.11.0)\n",
            "Requirement already satisfied: kiwisolver>=1.0.1 in /usr/local/lib/python3.7/dist-packages (from matplotlib->pycaret) (1.4.4)\n",
            "Requirement already satisfied: python-dateutil>=2.1 in /usr/local/lib/python3.7/dist-packages (from matplotlib->pycaret) (2.8.2)\n",
            "Requirement already satisfied: typing-extensions in /usr/local/lib/python3.7/dist-packages (from kiwisolver>=1.0.1->matplotlib->pycaret) (4.1.1)\n",
            "Requirement already satisfied: llvmlite<0.38,>=0.37.0rc1 in /usr/local/lib/python3.7/dist-packages (from numba<0.55->pycaret) (0.37.0)\n",
            "Requirement already satisfied: pytz>=2017.3 in /usr/local/lib/python3.7/dist-packages (from pandas->pycaret) (2022.2.1)\n",
            "Requirement already satisfied: pydantic>=1.8.1 in /usr/local/lib/python3.7/dist-packages (from pandas-profiling>=2.8.0->pycaret) (1.9.2)\n",
            "Requirement already satisfied: phik>=0.11.1 in /usr/local/lib/python3.7/dist-packages (from pandas-profiling>=2.8.0->pycaret) (0.12.2)\n",
            "Requirement already satisfied: htmlmin>=0.1.12 in /usr/local/lib/python3.7/dist-packages (from pandas-profiling>=2.8.0->pycaret) (0.1.12)\n",
            "Requirement already satisfied: requests>=2.24.0 in /usr/local/lib/python3.7/dist-packages (from pandas-profiling>=2.8.0->pycaret) (2.28.1)\n",
            "Requirement already satisfied: tqdm>=4.48.2 in /usr/local/lib/python3.7/dist-packages (from pandas-profiling>=2.8.0->pycaret) (4.64.0)\n",
            "Requirement already satisfied: tangled-up-in-unicode==0.1.0 in /usr/local/lib/python3.7/dist-packages (from pandas-profiling>=2.8.0->pycaret) (0.1.0)\n",
            "Requirement already satisfied: missingno>=0.4.2 in /usr/local/lib/python3.7/dist-packages (from pandas-profiling>=2.8.0->pycaret) (0.5.1)\n",
            "Requirement already satisfied: jinja2>=2.11.1 in /usr/local/lib/python3.7/dist-packages (from pandas-profiling>=2.8.0->pycaret) (2.11.3)\n",
            "Collecting matplotlib\n",
            "  Using cached matplotlib-3.5.3-cp37-cp37m-manylinux_2_5_x86_64.manylinux1_x86_64.whl (11.2 MB)\n",
            "Requirement already satisfied: visions[type_image_path]==0.7.4 in /usr/local/lib/python3.7/dist-packages (from pandas-profiling>=2.8.0->pycaret) (0.7.4)\n",
            "Requirement already satisfied: markupsafe~=2.0.1 in /usr/local/lib/python3.7/dist-packages (from pandas-profiling>=2.8.0->pycaret) (2.0.1)\n",
            "Requirement already satisfied: multimethod>=1.4 in /usr/local/lib/python3.7/dist-packages (from pandas-profiling>=2.8.0->pycaret) (1.8)\n",
            "Requirement already satisfied: networkx>=2.4 in /usr/local/lib/python3.7/dist-packages (from visions[type_image_path]==0.7.4->pandas-profiling>=2.8.0->pycaret) (2.6.3)\n",
            "Requirement already satisfied: attrs>=19.3.0 in /usr/local/lib/python3.7/dist-packages (from visions[type_image_path]==0.7.4->pandas-profiling>=2.8.0->pycaret) (22.1.0)\n",
            "Requirement already satisfied: Pillow in /usr/local/lib/python3.7/dist-packages (from visions[type_image_path]==0.7.4->pandas-profiling>=2.8.0->pycaret) (7.1.2)\n",
            "Requirement already satisfied: imagehash in /usr/local/lib/python3.7/dist-packages (from visions[type_image_path]==0.7.4->pandas-profiling>=2.8.0->pycaret) (4.2.1)\n",
            "Requirement already satisfied: packaging>=20.0 in /usr/local/lib/python3.7/dist-packages (from matplotlib->pycaret) (21.3)\n",
            "Requirement already satisfied: fonttools>=4.22.0 in /usr/local/lib/python3.7/dist-packages (from matplotlib->pycaret) (4.37.1)\n",
            "Requirement already satisfied: tenacity>=6.2.0 in /usr/local/lib/python3.7/dist-packages (from plotly>=4.4.1->pycaret) (8.0.1)\n",
            "Requirement already satisfied: wcwidth in /usr/local/lib/python3.7/dist-packages (from prompt-toolkit<2.1.0,>=2.0.0->IPython->pycaret) (0.2.5)\n",
            "Requirement already satisfied: urllib3<1.27,>=1.21.1 in /usr/local/lib/python3.7/dist-packages (from requests>=2.24.0->pandas-profiling>=2.8.0->pycaret) (1.24.3)\n",
            "Requirement already satisfied: certifi>=2017.4.17 in /usr/local/lib/python3.7/dist-packages (from requests>=2.24.0->pandas-profiling>=2.8.0->pycaret) (2022.6.15)\n",
            "Requirement already satisfied: charset-normalizer<3,>=2 in /usr/local/lib/python3.7/dist-packages (from requests>=2.24.0->pandas-profiling>=2.8.0->pycaret) (2.1.0)\n",
            "Requirement already satisfied: idna<4,>=2.5 in /usr/local/lib/python3.7/dist-packages (from requests>=2.24.0->pandas-profiling>=2.8.0->pycaret) (2.10)\n",
            "Requirement already satisfied: srsly<1.1.0,>=1.0.2 in /usr/local/lib/python3.7/dist-packages (from spacy<2.4.0->pycaret) (1.0.5)\n",
            "Requirement already satisfied: thinc<7.5.0,>=7.4.1 in /usr/local/lib/python3.7/dist-packages (from spacy<2.4.0->pycaret) (7.4.5)\n",
            "Requirement already satisfied: blis<0.8.0,>=0.4.0 in /usr/local/lib/python3.7/dist-packages (from spacy<2.4.0->pycaret) (0.7.8)\n",
            "Requirement already satisfied: wasabi<1.1.0,>=0.4.0 in /usr/local/lib/python3.7/dist-packages (from spacy<2.4.0->pycaret) (0.10.1)\n",
            "Requirement already satisfied: plac<1.2.0,>=0.9.6 in /usr/local/lib/python3.7/dist-packages (from spacy<2.4.0->pycaret) (1.1.3)\n",
            "Requirement already satisfied: cymem<2.1.0,>=2.0.2 in /usr/local/lib/python3.7/dist-packages (from spacy<2.4.0->pycaret) (2.0.6)\n",
            "Requirement already satisfied: murmurhash<1.1.0,>=0.28.0 in /usr/local/lib/python3.7/dist-packages (from spacy<2.4.0->pycaret) (1.0.8)\n",
            "Requirement already satisfied: preshed<3.1.0,>=3.0.2 in /usr/local/lib/python3.7/dist-packages (from spacy<2.4.0->pycaret) (3.0.7)\n",
            "Requirement already satisfied: catalogue<1.1.0,>=0.0.7 in /usr/local/lib/python3.7/dist-packages (from spacy<2.4.0->pycaret) (1.0.0)\n",
            "Requirement already satisfied: importlib-metadata>=0.20 in /usr/local/lib/python3.7/dist-packages (from catalogue<1.1.0,>=0.0.7->spacy<2.4.0->pycaret) (4.12.0)\n",
            "Requirement already satisfied: zipp>=0.5 in /usr/local/lib/python3.7/dist-packages (from importlib-metadata>=0.20->catalogue<1.1.0,>=0.0.7->spacy<2.4.0->pycaret) (3.8.1)\n",
            "Requirement already satisfied: notebook>=4.4.1 in /usr/local/lib/python3.7/dist-packages (from widgetsnbextension~=3.6.0->ipywidgets->pycaret) (5.3.1)\n",
            "Requirement already satisfied: terminado>=0.8.1 in /usr/local/lib/python3.7/dist-packages (from notebook>=4.4.1->widgetsnbextension~=3.6.0->ipywidgets->pycaret) (0.13.3)\n",
            "Requirement already satisfied: nbformat in /usr/local/lib/python3.7/dist-packages (from notebook>=4.4.1->widgetsnbextension~=3.6.0->ipywidgets->pycaret) (5.4.0)\n",
            "Requirement already satisfied: jupyter-core>=4.4.0 in /usr/local/lib/python3.7/dist-packages (from notebook>=4.4.1->widgetsnbextension~=3.6.0->ipywidgets->pycaret) (4.11.1)\n",
            "Requirement already satisfied: nbconvert in /usr/local/lib/python3.7/dist-packages (from notebook>=4.4.1->widgetsnbextension~=3.6.0->ipywidgets->pycaret) (5.6.1)\n",
            "Requirement already satisfied: Send2Trash in /usr/local/lib/python3.7/dist-packages (from notebook>=4.4.1->widgetsnbextension~=3.6.0->ipywidgets->pycaret) (1.8.0)\n",
            "Requirement already satisfied: pyzmq>=13 in /usr/local/lib/python3.7/dist-packages (from jupyter-client->ipykernel>=4.5.1->ipywidgets->pycaret) (23.2.1)\n",
            "Requirement already satisfied: ptyprocess in /usr/local/lib/python3.7/dist-packages (from terminado>=0.8.1->notebook>=4.4.1->widgetsnbextension~=3.6.0->ipywidgets->pycaret) (0.7.0)\n",
            "Requirement already satisfied: PyWavelets in /usr/local/lib/python3.7/dist-packages (from imagehash->visions[type_image_path]==0.7.4->pandas-profiling>=2.8.0->pycaret) (1.3.0)\n",
            "Requirement already satisfied: databricks-cli<1,>=0.8.7 in /usr/local/lib/python3.7/dist-packages (from mlflow->pycaret) (0.17.2)\n",
            "Requirement already satisfied: Flask<3 in /usr/local/lib/python3.7/dist-packages (from mlflow->pycaret) (1.1.4)\n",
            "Requirement already satisfied: protobuf<5,>=3.12.0 in /usr/local/lib/python3.7/dist-packages (from mlflow->pycaret) (3.17.3)\n",
            "Requirement already satisfied: cloudpickle<3 in /usr/local/lib/python3.7/dist-packages (from mlflow->pycaret) (1.5.0)\n",
            "Requirement already satisfied: gunicorn<21 in /usr/local/lib/python3.7/dist-packages (from mlflow->pycaret) (20.1.0)\n",
            "Requirement already satisfied: alembic<2 in /usr/local/lib/python3.7/dist-packages (from mlflow->pycaret) (1.8.1)\n",
            "Requirement already satisfied: entrypoints<1 in /usr/local/lib/python3.7/dist-packages (from mlflow->pycaret) (0.4)\n",
            "Requirement already satisfied: prometheus-flask-exporter<1 in /usr/local/lib/python3.7/dist-packages (from mlflow->pycaret) (0.20.3)\n",
            "Requirement already satisfied: sqlparse<1,>=0.4.0 in /usr/local/lib/python3.7/dist-packages (from mlflow->pycaret) (0.4.2)\n",
            "Requirement already satisfied: docker<6,>=4.0.0 in /usr/local/lib/python3.7/dist-packages (from mlflow->pycaret) (5.0.3)\n",
            "Requirement already satisfied: sqlalchemy<2,>=1.4.0 in /usr/local/lib/python3.7/dist-packages (from mlflow->pycaret) (1.4.40)\n",
            "Requirement already satisfied: click<9,>=7.0 in /usr/local/lib/python3.7/dist-packages (from mlflow->pycaret) (7.1.2)\n",
            "Requirement already satisfied: querystring-parser<2 in /usr/local/lib/python3.7/dist-packages (from mlflow->pycaret) (1.2.4)\n",
            "Requirement already satisfied: gitpython<4,>=2.1.0 in /usr/local/lib/python3.7/dist-packages (from mlflow->pycaret) (3.1.27)\n",
            "Requirement already satisfied: Mako in /usr/local/lib/python3.7/dist-packages (from alembic<2->mlflow->pycaret) (1.2.1)\n",
            "Requirement already satisfied: importlib-resources in /usr/local/lib/python3.7/dist-packages (from alembic<2->mlflow->pycaret) (5.9.0)\n",
            "Requirement already satisfied: pyjwt>=1.7.0 in /usr/local/lib/python3.7/dist-packages (from databricks-cli<1,>=0.8.7->mlflow->pycaret) (2.4.0)\n",
            "Requirement already satisfied: tabulate>=0.7.7 in /usr/local/lib/python3.7/dist-packages (from databricks-cli<1,>=0.8.7->mlflow->pycaret) (0.8.10)\n",
            "Requirement already satisfied: oauthlib>=3.1.0 in /usr/local/lib/python3.7/dist-packages (from databricks-cli<1,>=0.8.7->mlflow->pycaret) (3.2.0)\n",
            "Requirement already satisfied: websocket-client>=0.32.0 in /usr/local/lib/python3.7/dist-packages (from docker<6,>=4.0.0->mlflow->pycaret) (1.4.0)\n",
            "Requirement already satisfied: itsdangerous<2.0,>=0.24 in /usr/local/lib/python3.7/dist-packages (from Flask<3->mlflow->pycaret) (1.1.0)\n",
            "Requirement already satisfied: Werkzeug<2.0,>=0.15 in /usr/local/lib/python3.7/dist-packages (from Flask<3->mlflow->pycaret) (1.0.1)\n",
            "Requirement already satisfied: gitdb<5,>=4.0.1 in /usr/local/lib/python3.7/dist-packages (from gitpython<4,>=2.1.0->mlflow->pycaret) (4.0.9)\n",
            "Requirement already satisfied: smmap<6,>=3.0.1 in /usr/local/lib/python3.7/dist-packages (from gitdb<5,>=4.0.1->gitpython<4,>=2.1.0->mlflow->pycaret) (5.0.0)\n",
            "Requirement already satisfied: prometheus-client in /usr/local/lib/python3.7/dist-packages (from prometheus-flask-exporter<1->mlflow->pycaret) (0.14.1)\n",
            "Requirement already satisfied: greenlet!=0.4.17 in /usr/local/lib/python3.7/dist-packages (from sqlalchemy<2,>=1.4.0->mlflow->pycaret) (1.1.2)\n",
            "Requirement already satisfied: mistune<2,>=0.8.1 in /usr/local/lib/python3.7/dist-packages (from nbconvert->notebook>=4.4.1->widgetsnbextension~=3.6.0->ipywidgets->pycaret) (0.8.4)\n",
            "Requirement already satisfied: bleach in /usr/local/lib/python3.7/dist-packages (from nbconvert->notebook>=4.4.1->widgetsnbextension~=3.6.0->ipywidgets->pycaret) (5.0.1)\n",
            "Requirement already satisfied: testpath in /usr/local/lib/python3.7/dist-packages (from nbconvert->notebook>=4.4.1->widgetsnbextension~=3.6.0->ipywidgets->pycaret) (0.6.0)\n",
            "Requirement already satisfied: defusedxml in /usr/local/lib/python3.7/dist-packages (from nbconvert->notebook>=4.4.1->widgetsnbextension~=3.6.0->ipywidgets->pycaret) (0.7.1)\n",
            "Requirement already satisfied: pandocfilters>=1.4.1 in /usr/local/lib/python3.7/dist-packages (from nbconvert->notebook>=4.4.1->widgetsnbextension~=3.6.0->ipywidgets->pycaret) (1.5.0)\n",
            "Requirement already satisfied: jsonschema>=2.6 in /usr/local/lib/python3.7/dist-packages (from nbformat->notebook>=4.4.1->widgetsnbextension~=3.6.0->ipywidgets->pycaret) (4.3.3)\n",
            "Requirement already satisfied: fastjsonschema in /usr/local/lib/python3.7/dist-packages (from nbformat->notebook>=4.4.1->widgetsnbextension~=3.6.0->ipywidgets->pycaret) (2.16.1)\n",
            "Requirement already satisfied: pyrsistent!=0.17.0,!=0.17.1,!=0.17.2,>=0.14.0 in /usr/local/lib/python3.7/dist-packages (from jsonschema>=2.6->nbformat->notebook>=4.4.1->widgetsnbextension~=3.6.0->ipywidgets->pycaret) (0.18.1)\n",
            "Requirement already satisfied: webencodings in /usr/local/lib/python3.7/dist-packages (from bleach->nbconvert->notebook>=4.4.1->widgetsnbextension~=3.6.0->ipywidgets->pycaret) (0.5.1)\n",
            "Requirement already satisfied: regex>=2021.8.3 in /usr/local/lib/python3.7/dist-packages (from nltk->pycaret) (2022.6.2)\n",
            "Requirement already satisfied: funcy in /usr/local/lib/python3.7/dist-packages (from pyLDAvis->pycaret) (1.17)\n",
            "Requirement already satisfied: numexpr in /usr/local/lib/python3.7/dist-packages (from pyLDAvis->pycaret) (2.8.3)\n",
            "Requirement already satisfied: future in /usr/local/lib/python3.7/dist-packages (from pyLDAvis->pycaret) (0.16.0)\n",
            "Requirement already satisfied: statsmodels in /usr/local/lib/python3.7/dist-packages (from pyod->pycaret) (0.12.2)\n",
            "Requirement already satisfied: patsy>=0.5 in /usr/local/lib/python3.7/dist-packages (from statsmodels->pyod->pycaret) (0.5.2)\n",
            "Requirement already satisfied: pynndescent>=0.5 in /usr/local/lib/python3.7/dist-packages (from umap-learn->pycaret) (0.5.7)\n",
            "Installing collected packages: matplotlib\n",
            "  Attempting uninstall: matplotlib\n",
            "    Found existing installation: matplotlib 3.1.3\n",
            "    Uninstalling matplotlib-3.1.3:\n",
            "      Successfully uninstalled matplotlib-3.1.3\n",
            "Successfully installed matplotlib-3.5.3\n"
          ]
        },
        {
          "output_type": "display_data",
          "data": {
            "application/vnd.colab-display-data+json": {
              "pip_warning": {
                "packages": [
                  "matplotlib",
                  "mpl_toolkits"
                ]
              }
            }
          },
          "metadata": {}
        },
        {
          "output_type": "stream",
          "name": "stdout",
          "text": [
            "Looking in indexes: https://pypi.org/simple, https://us-python.pkg.dev/colab-wheels/public/simple/\n",
            "Collecting markupsafe==2.1.1\n",
            "  Using cached MarkupSafe-2.1.1-cp37-cp37m-manylinux_2_17_x86_64.manylinux2014_x86_64.whl (25 kB)\n",
            "Installing collected packages: markupsafe\n",
            "  Attempting uninstall: markupsafe\n",
            "    Found existing installation: MarkupSafe 2.0.1\n",
            "    Uninstalling MarkupSafe-2.0.1:\n",
            "      Successfully uninstalled MarkupSafe-2.0.1\n",
            "\u001b[31mERROR: pip's dependency resolver does not currently take into account all the packages that are installed. This behaviour is the source of the following dependency conflicts.\n",
            "pandas-profiling 3.1.0 requires markupsafe~=2.0.1, but you have markupsafe 2.1.1 which is incompatible.\u001b[0m\n",
            "Successfully installed markupsafe-2.1.1\n"
          ]
        },
        {
          "output_type": "display_data",
          "data": {
            "application/vnd.colab-display-data+json": {
              "pip_warning": {
                "packages": [
                  "markupsafe"
                ]
              }
            }
          },
          "metadata": {}
        },
        {
          "output_type": "stream",
          "name": "stdout",
          "text": [
            "Looking in indexes: https://pypi.org/simple, https://us-python.pkg.dev/colab-wheels/public/simple/\n",
            "Requirement already satisfied: pandas-profiling==3.1.0 in /usr/local/lib/python3.7/dist-packages (3.1.0)\n",
            "Requirement already satisfied: tangled-up-in-unicode==0.1.0 in /usr/local/lib/python3.7/dist-packages (from pandas-profiling==3.1.0) (0.1.0)\n",
            "Requirement already satisfied: scipy>=1.4.1 in /usr/local/lib/python3.7/dist-packages (from pandas-profiling==3.1.0) (1.5.4)\n",
            "Requirement already satisfied: missingno>=0.4.2 in /usr/local/lib/python3.7/dist-packages (from pandas-profiling==3.1.0) (0.5.1)\n",
            "Requirement already satisfied: seaborn>=0.10.1 in /usr/local/lib/python3.7/dist-packages (from pandas-profiling==3.1.0) (0.11.2)\n",
            "Requirement already satisfied: pandas!=1.0.0,!=1.0.1,!=1.0.2,!=1.1.0,>=0.25.3 in /usr/local/lib/python3.7/dist-packages (from pandas-profiling==3.1.0) (1.3.5)\n",
            "Requirement already satisfied: multimethod>=1.4 in /usr/local/lib/python3.7/dist-packages (from pandas-profiling==3.1.0) (1.8)\n",
            "Requirement already satisfied: numpy>=1.16.0 in /usr/local/lib/python3.7/dist-packages (from pandas-profiling==3.1.0) (1.19.5)\n",
            "Requirement already satisfied: matplotlib>=3.2.0 in /usr/local/lib/python3.7/dist-packages (from pandas-profiling==3.1.0) (3.5.3)\n",
            "Collecting markupsafe~=2.0.1\n",
            "  Using cached MarkupSafe-2.0.1-cp37-cp37m-manylinux_2_5_x86_64.manylinux1_x86_64.manylinux_2_12_x86_64.manylinux2010_x86_64.whl (31 kB)\n",
            "Requirement already satisfied: htmlmin>=0.1.12 in /usr/local/lib/python3.7/dist-packages (from pandas-profiling==3.1.0) (0.1.12)\n",
            "Requirement already satisfied: pydantic>=1.8.1 in /usr/local/lib/python3.7/dist-packages (from pandas-profiling==3.1.0) (1.9.2)\n",
            "Requirement already satisfied: tqdm>=4.48.2 in /usr/local/lib/python3.7/dist-packages (from pandas-profiling==3.1.0) (4.64.0)\n",
            "Requirement already satisfied: requests>=2.24.0 in /usr/local/lib/python3.7/dist-packages (from pandas-profiling==3.1.0) (2.28.1)\n",
            "Requirement already satisfied: PyYAML>=5.0.0 in /usr/local/lib/python3.7/dist-packages (from pandas-profiling==3.1.0) (5.4.1)\n",
            "Requirement already satisfied: phik>=0.11.1 in /usr/local/lib/python3.7/dist-packages (from pandas-profiling==3.1.0) (0.12.2)\n",
            "Requirement already satisfied: visions[type_image_path]==0.7.4 in /usr/local/lib/python3.7/dist-packages (from pandas-profiling==3.1.0) (0.7.4)\n",
            "Requirement already satisfied: joblib~=1.0.1 in /usr/local/lib/python3.7/dist-packages (from pandas-profiling==3.1.0) (1.0.1)\n",
            "Requirement already satisfied: jinja2>=2.11.1 in /usr/local/lib/python3.7/dist-packages (from pandas-profiling==3.1.0) (2.11.3)\n",
            "Requirement already satisfied: networkx>=2.4 in /usr/local/lib/python3.7/dist-packages (from visions[type_image_path]==0.7.4->pandas-profiling==3.1.0) (2.6.3)\n",
            "Requirement already satisfied: attrs>=19.3.0 in /usr/local/lib/python3.7/dist-packages (from visions[type_image_path]==0.7.4->pandas-profiling==3.1.0) (22.1.0)\n",
            "Requirement already satisfied: Pillow in /usr/local/lib/python3.7/dist-packages (from visions[type_image_path]==0.7.4->pandas-profiling==3.1.0) (7.1.2)\n",
            "Requirement already satisfied: imagehash in /usr/local/lib/python3.7/dist-packages (from visions[type_image_path]==0.7.4->pandas-profiling==3.1.0) (4.2.1)\n",
            "Requirement already satisfied: packaging>=20.0 in /usr/local/lib/python3.7/dist-packages (from matplotlib>=3.2.0->pandas-profiling==3.1.0) (21.3)\n",
            "Requirement already satisfied: kiwisolver>=1.0.1 in /usr/local/lib/python3.7/dist-packages (from matplotlib>=3.2.0->pandas-profiling==3.1.0) (1.4.4)\n",
            "Requirement already satisfied: fonttools>=4.22.0 in /usr/local/lib/python3.7/dist-packages (from matplotlib>=3.2.0->pandas-profiling==3.1.0) (4.37.1)\n",
            "Requirement already satisfied: cycler>=0.10 in /usr/local/lib/python3.7/dist-packages (from matplotlib>=3.2.0->pandas-profiling==3.1.0) (0.11.0)\n",
            "Requirement already satisfied: pyparsing>=2.2.1 in /usr/local/lib/python3.7/dist-packages (from matplotlib>=3.2.0->pandas-profiling==3.1.0) (3.0.9)\n",
            "Requirement already satisfied: python-dateutil>=2.7 in /usr/local/lib/python3.7/dist-packages (from matplotlib>=3.2.0->pandas-profiling==3.1.0) (2.8.2)\n",
            "Requirement already satisfied: typing-extensions in /usr/local/lib/python3.7/dist-packages (from kiwisolver>=1.0.1->matplotlib>=3.2.0->pandas-profiling==3.1.0) (4.1.1)\n",
            "Requirement already satisfied: pytz>=2017.3 in /usr/local/lib/python3.7/dist-packages (from pandas!=1.0.0,!=1.0.1,!=1.0.2,!=1.1.0,>=0.25.3->pandas-profiling==3.1.0) (2022.2.1)\n",
            "Requirement already satisfied: six>=1.5 in /usr/local/lib/python3.7/dist-packages (from python-dateutil>=2.7->matplotlib>=3.2.0->pandas-profiling==3.1.0) (1.15.0)\n",
            "Requirement already satisfied: charset-normalizer<3,>=2 in /usr/local/lib/python3.7/dist-packages (from requests>=2.24.0->pandas-profiling==3.1.0) (2.1.0)\n",
            "Requirement already satisfied: urllib3<1.27,>=1.21.1 in /usr/local/lib/python3.7/dist-packages (from requests>=2.24.0->pandas-profiling==3.1.0) (1.24.3)\n",
            "Requirement already satisfied: idna<4,>=2.5 in /usr/local/lib/python3.7/dist-packages (from requests>=2.24.0->pandas-profiling==3.1.0) (2.10)\n",
            "Requirement already satisfied: certifi>=2017.4.17 in /usr/local/lib/python3.7/dist-packages (from requests>=2.24.0->pandas-profiling==3.1.0) (2022.6.15)\n",
            "Requirement already satisfied: PyWavelets in /usr/local/lib/python3.7/dist-packages (from imagehash->visions[type_image_path]==0.7.4->pandas-profiling==3.1.0) (1.3.0)\n",
            "Installing collected packages: markupsafe\n",
            "  Attempting uninstall: markupsafe\n",
            "    Found existing installation: MarkupSafe 2.1.1\n",
            "    Uninstalling MarkupSafe-2.1.1:\n",
            "      Successfully uninstalled MarkupSafe-2.1.1\n",
            "Successfully installed markupsafe-2.0.1\n"
          ]
        },
        {
          "output_type": "display_data",
          "data": {
            "application/vnd.colab-display-data+json": {
              "pip_warning": {
                "packages": [
                  "markupsafe"
                ]
              }
            }
          },
          "metadata": {}
        }
      ]
    },
    {
      "cell_type": "code",
      "source": [
        "import numpy"
      ],
      "metadata": {
        "id": "vmvyFo9MaIFI"
      },
      "execution_count": 74,
      "outputs": []
    },
    {
      "cell_type": "code",
      "source": [
        "import imp\n",
        "import pandas as pd\n",
        "import numpy as np\n",
        "import matplotlib.pyplot as plt\n",
        "import seaborn as sns\n",
        "\n",
        "from sklearn.preprocessing import RobustScaler, StandardScaler, MinMaxScaler, LabelEncoder\n",
        "from sklearn.impute import SimpleImputer\n",
        "from sklearn.metrics import f1_score, accuracy_score, precision_score, recall_score, classification_report, confusion_matrix, roc_curve, roc_auc_score, log_loss\n",
        "from sklearn.model_selection import train_test_split\n",
        "from sklearn.ensemble import RandomForestClassifier, ExtraTreesClassifier, VotingClassifier\n",
        "\n",
        "import lightgbm \n",
        "\n",
        "from pycaret.classification import *\n",
        "\n",
        "import warnings\n",
        "warnings.filterwarnings('ignore')\n"
      ],
      "metadata": {
        "id": "8xtdunjtYnRi"
      },
      "execution_count": 75,
      "outputs": []
    },
    {
      "cell_type": "markdown",
      "source": [
        "이때 몇가지 이슈가 발생\n",
        "\n",
        "대표적으로 pycaret에서 계속 오류가 발생. automl할때 쓰는 건데 좀 앞으로 알아두면 좋을듯?\n",
        "\n",
        "importerror: missing optional dependency 'jinja2'.\n",
        "\n",
        "이때\n",
        "\n",
        "    !pip install pycaret\n",
        "\n",
        "    !pip install markupsafe==2.1.1\n",
        "\n",
        "    !pip install pandas-profiling==3.1.0\n",
        "\n",
        "을 사용해서 해결"
      ],
      "metadata": {
        "id": "ci9QmVwOZMXs"
      }
    },
    {
      "cell_type": "markdown",
      "source": [
        "## 2. 데이터 불러오기"
      ],
      "metadata": {
        "id": "hXKqh30RaSfX"
      }
    },
    {
      "cell_type": "code",
      "source": [
        "!pip install gdrive_dataset"
      ],
      "metadata": {
        "colab": {
          "base_uri": "https://localhost:8080/"
        },
        "id": "6jpFFiVnZfL6",
        "outputId": "71bb107b-b221-44b1-f69e-2d35eec54661"
      },
      "execution_count": 76,
      "outputs": [
        {
          "output_type": "stream",
          "name": "stdout",
          "text": [
            "Looking in indexes: https://pypi.org/simple, https://us-python.pkg.dev/colab-wheels/public/simple/\n",
            "Requirement already satisfied: gdrive_dataset in /usr/local/lib/python3.7/dist-packages (0.0.6)\n",
            "Requirement already satisfied: googledrivedownloader in /usr/local/lib/python3.7/dist-packages (from gdrive_dataset) (0.4)\n"
          ]
        }
      ]
    },
    {
      "cell_type": "code",
      "source": [
        "from gdrivedataset import loader\n",
        "file_id = '15qA4X0jTAhYUyiW-rq81rQGXWCC7_CSB'\n",
        "loader.load_from_google_drive(file_id)"
      ],
      "metadata": {
        "colab": {
          "base_uri": "https://localhost:8080/"
        },
        "id": "Jp8awq9Xa0R0",
        "outputId": "16dc99ee-52cf-481d-8682-00bdb6c632f2"
      },
      "execution_count": 77,
      "outputs": [
        {
          "output_type": "stream",
          "name": "stdout",
          "text": [
            "========== files ============\n",
            "\n",
            "data/test.csv\n",
            "data/train.csv\n",
            "data/sample_submission.csv\n",
            "\n",
            "=============================\n"
          ]
        }
      ]
    },
    {
      "cell_type": "code",
      "source": [
        "!unzip -qq '/content/dataset.zip' # 압축파일 경로"
      ],
      "metadata": {
        "id": "yc5HkoQfa2CL",
        "colab": {
          "base_uri": "https://localhost:8080/"
        },
        "outputId": "887940c1-7cf7-43e8-adc3-89fd334d36fa"
      },
      "execution_count": 78,
      "outputs": [
        {
          "output_type": "stream",
          "name": "stdout",
          "text": [
            "replace sample_submission.csv? [y]es, [n]o, [A]ll, [N]one, [r]ename: y\n",
            "replace test.csv? [y]es, [n]o, [A]ll, [N]one, [r]ename: y\n",
            "replace train.csv? [y]es, [n]o, [A]ll, [N]one, [r]ename: y\n"
          ]
        }
      ]
    },
    {
      "cell_type": "code",
      "source": [
        "test_df = pd.read_csv('test.csv')"
      ],
      "metadata": {
        "id": "ofJLjffSa38M"
      },
      "execution_count": 79,
      "outputs": []
    },
    {
      "cell_type": "code",
      "source": [
        "train_df = pd.read_csv('train.csv')"
      ],
      "metadata": {
        "id": "LSBUv1z4a5Zm"
      },
      "execution_count": 80,
      "outputs": []
    },
    {
      "cell_type": "code",
      "source": [
        "train_df"
      ],
      "metadata": {
        "colab": {
          "base_uri": "https://localhost:8080/",
          "height": 592
        },
        "id": "ulFrBIaTa7CX",
        "outputId": "7b219336-146b-44f3-e7da-cdaae7ac1591"
      },
      "execution_count": 81,
      "outputs": [
        {
          "output_type": "execute_result",
          "data": {
            "text/plain": [
              "        id   Age    TypeofContact  CityTier  DurationOfPitch      Occupation  \\\n",
              "0        1  28.0  Company Invited         1             10.0  Small Business   \n",
              "1        2  34.0     Self Enquiry         3              NaN  Small Business   \n",
              "2        3  45.0  Company Invited         1              NaN        Salaried   \n",
              "3        4  29.0  Company Invited         1              7.0  Small Business   \n",
              "4        5  42.0     Self Enquiry         3              6.0        Salaried   \n",
              "...    ...   ...              ...       ...              ...             ...   \n",
              "1950  1951  28.0     Self Enquiry         1             10.0  Small Business   \n",
              "1951  1952  41.0     Self Enquiry         3              8.0        Salaried   \n",
              "1952  1953  38.0  Company Invited         3             28.0  Small Business   \n",
              "1953  1954  28.0     Self Enquiry         3             30.0  Small Business   \n",
              "1954  1955  22.0  Company Invited         1              9.0        Salaried   \n",
              "\n",
              "      Gender  NumberOfPersonVisiting  NumberOfFollowups ProductPitched  \\\n",
              "0       Male                       3                4.0          Basic   \n",
              "1     Female                       2                4.0         Deluxe   \n",
              "2       Male                       2                3.0         Deluxe   \n",
              "3       Male                       3                5.0          Basic   \n",
              "4       Male                       2                3.0         Deluxe   \n",
              "...      ...                     ...                ...            ...   \n",
              "1950    Male                       3                5.0          Basic   \n",
              "1951  Female                       3                3.0   Super Deluxe   \n",
              "1952  Female                       3                4.0          Basic   \n",
              "1953  Female                       3                5.0         Deluxe   \n",
              "1954    Male                       2                4.0          Basic   \n",
              "\n",
              "      PreferredPropertyStar MaritalStatus  NumberOfTrips  Passport  \\\n",
              "0                       3.0       Married            3.0         0   \n",
              "1                       4.0        Single            1.0         1   \n",
              "2                       4.0       Married            2.0         0   \n",
              "3                       4.0       Married            3.0         0   \n",
              "4                       3.0      Divorced            2.0         0   \n",
              "...                     ...           ...            ...       ...   \n",
              "1950                    3.0        Single            2.0         0   \n",
              "1951                    5.0      Divorced            1.0         0   \n",
              "1952                    3.0      Divorced            7.0         0   \n",
              "1953                    3.0       Married            3.0         0   \n",
              "1954                    3.0      Divorced            1.0         1   \n",
              "\n",
              "      PitchSatisfactionScore  OwnCar  NumberOfChildrenVisiting Designation  \\\n",
              "0                          1       0                       1.0   Executive   \n",
              "1                          5       1                       0.0     Manager   \n",
              "2                          4       1                       0.0     Manager   \n",
              "3                          4       0                       1.0   Executive   \n",
              "4                          3       1                       0.0     Manager   \n",
              "...                      ...     ...                       ...         ...   \n",
              "1950                       1       1                       2.0   Executive   \n",
              "1951                       5       1                       1.0         AVP   \n",
              "1952                       2       1                       2.0   Executive   \n",
              "1953                       1       1                       2.0     Manager   \n",
              "1954                       3       0                       0.0   Executive   \n",
              "\n",
              "      MonthlyIncome  ProdTaken  \n",
              "0           20384.0          0  \n",
              "1           19599.0          1  \n",
              "2               NaN          0  \n",
              "3           21274.0          1  \n",
              "4           19907.0          0  \n",
              "...             ...        ...  \n",
              "1950        20723.0          0  \n",
              "1951        31595.0          0  \n",
              "1952        21651.0          0  \n",
              "1953        22218.0          0  \n",
              "1954        17853.0          1  \n",
              "\n",
              "[1955 rows x 20 columns]"
            ],
            "text/html": [
              "\n",
              "  <div id=\"df-0cd3ab5f-3753-434c-968c-0b90417894da\">\n",
              "    <div class=\"colab-df-container\">\n",
              "      <div>\n",
              "<style scoped>\n",
              "    .dataframe tbody tr th:only-of-type {\n",
              "        vertical-align: middle;\n",
              "    }\n",
              "\n",
              "    .dataframe tbody tr th {\n",
              "        vertical-align: top;\n",
              "    }\n",
              "\n",
              "    .dataframe thead th {\n",
              "        text-align: right;\n",
              "    }\n",
              "</style>\n",
              "<table border=\"1\" class=\"dataframe\">\n",
              "  <thead>\n",
              "    <tr style=\"text-align: right;\">\n",
              "      <th></th>\n",
              "      <th>id</th>\n",
              "      <th>Age</th>\n",
              "      <th>TypeofContact</th>\n",
              "      <th>CityTier</th>\n",
              "      <th>DurationOfPitch</th>\n",
              "      <th>Occupation</th>\n",
              "      <th>Gender</th>\n",
              "      <th>NumberOfPersonVisiting</th>\n",
              "      <th>NumberOfFollowups</th>\n",
              "      <th>ProductPitched</th>\n",
              "      <th>PreferredPropertyStar</th>\n",
              "      <th>MaritalStatus</th>\n",
              "      <th>NumberOfTrips</th>\n",
              "      <th>Passport</th>\n",
              "      <th>PitchSatisfactionScore</th>\n",
              "      <th>OwnCar</th>\n",
              "      <th>NumberOfChildrenVisiting</th>\n",
              "      <th>Designation</th>\n",
              "      <th>MonthlyIncome</th>\n",
              "      <th>ProdTaken</th>\n",
              "    </tr>\n",
              "  </thead>\n",
              "  <tbody>\n",
              "    <tr>\n",
              "      <th>0</th>\n",
              "      <td>1</td>\n",
              "      <td>28.0</td>\n",
              "      <td>Company Invited</td>\n",
              "      <td>1</td>\n",
              "      <td>10.0</td>\n",
              "      <td>Small Business</td>\n",
              "      <td>Male</td>\n",
              "      <td>3</td>\n",
              "      <td>4.0</td>\n",
              "      <td>Basic</td>\n",
              "      <td>3.0</td>\n",
              "      <td>Married</td>\n",
              "      <td>3.0</td>\n",
              "      <td>0</td>\n",
              "      <td>1</td>\n",
              "      <td>0</td>\n",
              "      <td>1.0</td>\n",
              "      <td>Executive</td>\n",
              "      <td>20384.0</td>\n",
              "      <td>0</td>\n",
              "    </tr>\n",
              "    <tr>\n",
              "      <th>1</th>\n",
              "      <td>2</td>\n",
              "      <td>34.0</td>\n",
              "      <td>Self Enquiry</td>\n",
              "      <td>3</td>\n",
              "      <td>NaN</td>\n",
              "      <td>Small Business</td>\n",
              "      <td>Female</td>\n",
              "      <td>2</td>\n",
              "      <td>4.0</td>\n",
              "      <td>Deluxe</td>\n",
              "      <td>4.0</td>\n",
              "      <td>Single</td>\n",
              "      <td>1.0</td>\n",
              "      <td>1</td>\n",
              "      <td>5</td>\n",
              "      <td>1</td>\n",
              "      <td>0.0</td>\n",
              "      <td>Manager</td>\n",
              "      <td>19599.0</td>\n",
              "      <td>1</td>\n",
              "    </tr>\n",
              "    <tr>\n",
              "      <th>2</th>\n",
              "      <td>3</td>\n",
              "      <td>45.0</td>\n",
              "      <td>Company Invited</td>\n",
              "      <td>1</td>\n",
              "      <td>NaN</td>\n",
              "      <td>Salaried</td>\n",
              "      <td>Male</td>\n",
              "      <td>2</td>\n",
              "      <td>3.0</td>\n",
              "      <td>Deluxe</td>\n",
              "      <td>4.0</td>\n",
              "      <td>Married</td>\n",
              "      <td>2.0</td>\n",
              "      <td>0</td>\n",
              "      <td>4</td>\n",
              "      <td>1</td>\n",
              "      <td>0.0</td>\n",
              "      <td>Manager</td>\n",
              "      <td>NaN</td>\n",
              "      <td>0</td>\n",
              "    </tr>\n",
              "    <tr>\n",
              "      <th>3</th>\n",
              "      <td>4</td>\n",
              "      <td>29.0</td>\n",
              "      <td>Company Invited</td>\n",
              "      <td>1</td>\n",
              "      <td>7.0</td>\n",
              "      <td>Small Business</td>\n",
              "      <td>Male</td>\n",
              "      <td>3</td>\n",
              "      <td>5.0</td>\n",
              "      <td>Basic</td>\n",
              "      <td>4.0</td>\n",
              "      <td>Married</td>\n",
              "      <td>3.0</td>\n",
              "      <td>0</td>\n",
              "      <td>4</td>\n",
              "      <td>0</td>\n",
              "      <td>1.0</td>\n",
              "      <td>Executive</td>\n",
              "      <td>21274.0</td>\n",
              "      <td>1</td>\n",
              "    </tr>\n",
              "    <tr>\n",
              "      <th>4</th>\n",
              "      <td>5</td>\n",
              "      <td>42.0</td>\n",
              "      <td>Self Enquiry</td>\n",
              "      <td>3</td>\n",
              "      <td>6.0</td>\n",
              "      <td>Salaried</td>\n",
              "      <td>Male</td>\n",
              "      <td>2</td>\n",
              "      <td>3.0</td>\n",
              "      <td>Deluxe</td>\n",
              "      <td>3.0</td>\n",
              "      <td>Divorced</td>\n",
              "      <td>2.0</td>\n",
              "      <td>0</td>\n",
              "      <td>3</td>\n",
              "      <td>1</td>\n",
              "      <td>0.0</td>\n",
              "      <td>Manager</td>\n",
              "      <td>19907.0</td>\n",
              "      <td>0</td>\n",
              "    </tr>\n",
              "    <tr>\n",
              "      <th>...</th>\n",
              "      <td>...</td>\n",
              "      <td>...</td>\n",
              "      <td>...</td>\n",
              "      <td>...</td>\n",
              "      <td>...</td>\n",
              "      <td>...</td>\n",
              "      <td>...</td>\n",
              "      <td>...</td>\n",
              "      <td>...</td>\n",
              "      <td>...</td>\n",
              "      <td>...</td>\n",
              "      <td>...</td>\n",
              "      <td>...</td>\n",
              "      <td>...</td>\n",
              "      <td>...</td>\n",
              "      <td>...</td>\n",
              "      <td>...</td>\n",
              "      <td>...</td>\n",
              "      <td>...</td>\n",
              "      <td>...</td>\n",
              "    </tr>\n",
              "    <tr>\n",
              "      <th>1950</th>\n",
              "      <td>1951</td>\n",
              "      <td>28.0</td>\n",
              "      <td>Self Enquiry</td>\n",
              "      <td>1</td>\n",
              "      <td>10.0</td>\n",
              "      <td>Small Business</td>\n",
              "      <td>Male</td>\n",
              "      <td>3</td>\n",
              "      <td>5.0</td>\n",
              "      <td>Basic</td>\n",
              "      <td>3.0</td>\n",
              "      <td>Single</td>\n",
              "      <td>2.0</td>\n",
              "      <td>0</td>\n",
              "      <td>1</td>\n",
              "      <td>1</td>\n",
              "      <td>2.0</td>\n",
              "      <td>Executive</td>\n",
              "      <td>20723.0</td>\n",
              "      <td>0</td>\n",
              "    </tr>\n",
              "    <tr>\n",
              "      <th>1951</th>\n",
              "      <td>1952</td>\n",
              "      <td>41.0</td>\n",
              "      <td>Self Enquiry</td>\n",
              "      <td>3</td>\n",
              "      <td>8.0</td>\n",
              "      <td>Salaried</td>\n",
              "      <td>Female</td>\n",
              "      <td>3</td>\n",
              "      <td>3.0</td>\n",
              "      <td>Super Deluxe</td>\n",
              "      <td>5.0</td>\n",
              "      <td>Divorced</td>\n",
              "      <td>1.0</td>\n",
              "      <td>0</td>\n",
              "      <td>5</td>\n",
              "      <td>1</td>\n",
              "      <td>1.0</td>\n",
              "      <td>AVP</td>\n",
              "      <td>31595.0</td>\n",
              "      <td>0</td>\n",
              "    </tr>\n",
              "    <tr>\n",
              "      <th>1952</th>\n",
              "      <td>1953</td>\n",
              "      <td>38.0</td>\n",
              "      <td>Company Invited</td>\n",
              "      <td>3</td>\n",
              "      <td>28.0</td>\n",
              "      <td>Small Business</td>\n",
              "      <td>Female</td>\n",
              "      <td>3</td>\n",
              "      <td>4.0</td>\n",
              "      <td>Basic</td>\n",
              "      <td>3.0</td>\n",
              "      <td>Divorced</td>\n",
              "      <td>7.0</td>\n",
              "      <td>0</td>\n",
              "      <td>2</td>\n",
              "      <td>1</td>\n",
              "      <td>2.0</td>\n",
              "      <td>Executive</td>\n",
              "      <td>21651.0</td>\n",
              "      <td>0</td>\n",
              "    </tr>\n",
              "    <tr>\n",
              "      <th>1953</th>\n",
              "      <td>1954</td>\n",
              "      <td>28.0</td>\n",
              "      <td>Self Enquiry</td>\n",
              "      <td>3</td>\n",
              "      <td>30.0</td>\n",
              "      <td>Small Business</td>\n",
              "      <td>Female</td>\n",
              "      <td>3</td>\n",
              "      <td>5.0</td>\n",
              "      <td>Deluxe</td>\n",
              "      <td>3.0</td>\n",
              "      <td>Married</td>\n",
              "      <td>3.0</td>\n",
              "      <td>0</td>\n",
              "      <td>1</td>\n",
              "      <td>1</td>\n",
              "      <td>2.0</td>\n",
              "      <td>Manager</td>\n",
              "      <td>22218.0</td>\n",
              "      <td>0</td>\n",
              "    </tr>\n",
              "    <tr>\n",
              "      <th>1954</th>\n",
              "      <td>1955</td>\n",
              "      <td>22.0</td>\n",
              "      <td>Company Invited</td>\n",
              "      <td>1</td>\n",
              "      <td>9.0</td>\n",
              "      <td>Salaried</td>\n",
              "      <td>Male</td>\n",
              "      <td>2</td>\n",
              "      <td>4.0</td>\n",
              "      <td>Basic</td>\n",
              "      <td>3.0</td>\n",
              "      <td>Divorced</td>\n",
              "      <td>1.0</td>\n",
              "      <td>1</td>\n",
              "      <td>3</td>\n",
              "      <td>0</td>\n",
              "      <td>0.0</td>\n",
              "      <td>Executive</td>\n",
              "      <td>17853.0</td>\n",
              "      <td>1</td>\n",
              "    </tr>\n",
              "  </tbody>\n",
              "</table>\n",
              "<p>1955 rows × 20 columns</p>\n",
              "</div>\n",
              "      <button class=\"colab-df-convert\" onclick=\"convertToInteractive('df-0cd3ab5f-3753-434c-968c-0b90417894da')\"\n",
              "              title=\"Convert this dataframe to an interactive table.\"\n",
              "              style=\"display:none;\">\n",
              "        \n",
              "  <svg xmlns=\"http://www.w3.org/2000/svg\" height=\"24px\"viewBox=\"0 0 24 24\"\n",
              "       width=\"24px\">\n",
              "    <path d=\"M0 0h24v24H0V0z\" fill=\"none\"/>\n",
              "    <path d=\"M18.56 5.44l.94 2.06.94-2.06 2.06-.94-2.06-.94-.94-2.06-.94 2.06-2.06.94zm-11 1L8.5 8.5l.94-2.06 2.06-.94-2.06-.94L8.5 2.5l-.94 2.06-2.06.94zm10 10l.94 2.06.94-2.06 2.06-.94-2.06-.94-.94-2.06-.94 2.06-2.06.94z\"/><path d=\"M17.41 7.96l-1.37-1.37c-.4-.4-.92-.59-1.43-.59-.52 0-1.04.2-1.43.59L10.3 9.45l-7.72 7.72c-.78.78-.78 2.05 0 2.83L4 21.41c.39.39.9.59 1.41.59.51 0 1.02-.2 1.41-.59l7.78-7.78 2.81-2.81c.8-.78.8-2.07 0-2.86zM5.41 20L4 18.59l7.72-7.72 1.47 1.35L5.41 20z\"/>\n",
              "  </svg>\n",
              "      </button>\n",
              "      \n",
              "  <style>\n",
              "    .colab-df-container {\n",
              "      display:flex;\n",
              "      flex-wrap:wrap;\n",
              "      gap: 12px;\n",
              "    }\n",
              "\n",
              "    .colab-df-convert {\n",
              "      background-color: #E8F0FE;\n",
              "      border: none;\n",
              "      border-radius: 50%;\n",
              "      cursor: pointer;\n",
              "      display: none;\n",
              "      fill: #1967D2;\n",
              "      height: 32px;\n",
              "      padding: 0 0 0 0;\n",
              "      width: 32px;\n",
              "    }\n",
              "\n",
              "    .colab-df-convert:hover {\n",
              "      background-color: #E2EBFA;\n",
              "      box-shadow: 0px 1px 2px rgba(60, 64, 67, 0.3), 0px 1px 3px 1px rgba(60, 64, 67, 0.15);\n",
              "      fill: #174EA6;\n",
              "    }\n",
              "\n",
              "    [theme=dark] .colab-df-convert {\n",
              "      background-color: #3B4455;\n",
              "      fill: #D2E3FC;\n",
              "    }\n",
              "\n",
              "    [theme=dark] .colab-df-convert:hover {\n",
              "      background-color: #434B5C;\n",
              "      box-shadow: 0px 1px 3px 1px rgba(0, 0, 0, 0.15);\n",
              "      filter: drop-shadow(0px 1px 2px rgba(0, 0, 0, 0.3));\n",
              "      fill: #FFFFFF;\n",
              "    }\n",
              "  </style>\n",
              "\n",
              "      <script>\n",
              "        const buttonEl =\n",
              "          document.querySelector('#df-0cd3ab5f-3753-434c-968c-0b90417894da button.colab-df-convert');\n",
              "        buttonEl.style.display =\n",
              "          google.colab.kernel.accessAllowed ? 'block' : 'none';\n",
              "\n",
              "        async function convertToInteractive(key) {\n",
              "          const element = document.querySelector('#df-0cd3ab5f-3753-434c-968c-0b90417894da');\n",
              "          const dataTable =\n",
              "            await google.colab.kernel.invokeFunction('convertToInteractive',\n",
              "                                                     [key], {});\n",
              "          if (!dataTable) return;\n",
              "\n",
              "          const docLinkHtml = 'Like what you see? Visit the ' +\n",
              "            '<a target=\"_blank\" href=https://colab.research.google.com/notebooks/data_table.ipynb>data table notebook</a>'\n",
              "            + ' to learn more about interactive tables.';\n",
              "          element.innerHTML = '';\n",
              "          dataTable['output_type'] = 'display_data';\n",
              "          await google.colab.output.renderOutput(dataTable, element);\n",
              "          const docLink = document.createElement('div');\n",
              "          docLink.innerHTML = docLinkHtml;\n",
              "          element.appendChild(docLink);\n",
              "        }\n",
              "      </script>\n",
              "    </div>\n",
              "  </div>\n",
              "  "
            ]
          },
          "metadata": {},
          "execution_count": 81
        }
      ]
    },
    {
      "cell_type": "code",
      "source": [
        "test_df"
      ],
      "metadata": {
        "colab": {
          "base_uri": "https://localhost:8080/",
          "height": 626
        },
        "id": "CqPTpEJQa8xk",
        "outputId": "ddfa445f-0242-4f35-e99e-06bbba7847df"
      },
      "execution_count": 82,
      "outputs": [
        {
          "output_type": "execute_result",
          "data": {
            "text/plain": [
              "        id   Age    TypeofContact  CityTier  DurationOfPitch      Occupation  \\\n",
              "0        1  32.0  Company Invited         3              NaN  Small Business   \n",
              "1        2  46.0     Self Enquiry         2             11.0  Small Business   \n",
              "2        3  37.0     Self Enquiry         3             22.0  Small Business   \n",
              "3        4  43.0     Self Enquiry         1             36.0  Small Business   \n",
              "4        5  25.0     Self Enquiry         3              7.0  Large Business   \n",
              "...    ...   ...              ...       ...              ...             ...   \n",
              "2928  2929  54.0     Self Enquiry         1              6.0  Small Business   \n",
              "2929  2930  33.0     Self Enquiry         1              9.0  Small Business   \n",
              "2930  2931  33.0  Company Invited         1             31.0        Salaried   \n",
              "2931  2932  26.0     Self Enquiry         1              9.0  Small Business   \n",
              "2932  2933  31.0     Self Enquiry         1              9.0        Salaried   \n",
              "\n",
              "       Gender  NumberOfPersonVisiting  NumberOfFollowups ProductPitched  \\\n",
              "0        Male                       2                5.0         Deluxe   \n",
              "1        Male                       3                NaN         Deluxe   \n",
              "2        Male                       3                4.0         Deluxe   \n",
              "3        Male                       3                6.0         Deluxe   \n",
              "4      Female                       4                4.0          Basic   \n",
              "...       ...                     ...                ...            ...   \n",
              "2928   Female                       2                3.0   Super Deluxe   \n",
              "2929  Fe Male                       4                2.0         Deluxe   \n",
              "2930     Male                       4                4.0         Deluxe   \n",
              "2931     Male                       4                2.0          Basic   \n",
              "2932     Male                       3                5.0         Deluxe   \n",
              "\n",
              "      PreferredPropertyStar MaritalStatus  NumberOfTrips  Passport  \\\n",
              "0                       3.0       Married            1.0         0   \n",
              "1                       4.0       Married            1.0         1   \n",
              "2                       3.0       Married            5.0         0   \n",
              "3                       3.0     Unmarried            6.0         0   \n",
              "4                       4.0     Unmarried            3.0         1   \n",
              "...                     ...           ...            ...       ...   \n",
              "2928                    3.0        Single            7.0         0   \n",
              "2929                    3.0     Unmarried            2.0         0   \n",
              "2930                    3.0      Divorced            3.0         0   \n",
              "2931                    5.0     Unmarried            2.0         0   \n",
              "2932                    3.0      Divorced            3.0         0   \n",
              "\n",
              "      PitchSatisfactionScore  OwnCar  NumberOfChildrenVisiting Designation  \\\n",
              "0                          2       0                       1.0     Manager   \n",
              "1                          5       0                       1.0     Manager   \n",
              "2                          5       1                       0.0     Manager   \n",
              "3                          3       1                       2.0     Manager   \n",
              "4                          4       1                       3.0   Executive   \n",
              "...                      ...     ...                       ...         ...   \n",
              "2928                       4       1                       1.0         AVP   \n",
              "2929                       3       0                       1.0     Manager   \n",
              "2930                       4       1                       1.0     Manager   \n",
              "2931                       2       1                       3.0   Executive   \n",
              "2932                       4       1                       1.0     Manager   \n",
              "\n",
              "      MonthlyIncome  \n",
              "0           19668.0  \n",
              "1           20021.0  \n",
              "2           21334.0  \n",
              "3           22950.0  \n",
              "4           21880.0  \n",
              "...             ...  \n",
              "2928        32328.0  \n",
              "2929        23733.0  \n",
              "2930        23987.0  \n",
              "2931        22102.0  \n",
              "2932        22830.0  \n",
              "\n",
              "[2933 rows x 19 columns]"
            ],
            "text/html": [
              "\n",
              "  <div id=\"df-b40b3ae7-ff06-491b-9f66-a1d20a9231c5\">\n",
              "    <div class=\"colab-df-container\">\n",
              "      <div>\n",
              "<style scoped>\n",
              "    .dataframe tbody tr th:only-of-type {\n",
              "        vertical-align: middle;\n",
              "    }\n",
              "\n",
              "    .dataframe tbody tr th {\n",
              "        vertical-align: top;\n",
              "    }\n",
              "\n",
              "    .dataframe thead th {\n",
              "        text-align: right;\n",
              "    }\n",
              "</style>\n",
              "<table border=\"1\" class=\"dataframe\">\n",
              "  <thead>\n",
              "    <tr style=\"text-align: right;\">\n",
              "      <th></th>\n",
              "      <th>id</th>\n",
              "      <th>Age</th>\n",
              "      <th>TypeofContact</th>\n",
              "      <th>CityTier</th>\n",
              "      <th>DurationOfPitch</th>\n",
              "      <th>Occupation</th>\n",
              "      <th>Gender</th>\n",
              "      <th>NumberOfPersonVisiting</th>\n",
              "      <th>NumberOfFollowups</th>\n",
              "      <th>ProductPitched</th>\n",
              "      <th>PreferredPropertyStar</th>\n",
              "      <th>MaritalStatus</th>\n",
              "      <th>NumberOfTrips</th>\n",
              "      <th>Passport</th>\n",
              "      <th>PitchSatisfactionScore</th>\n",
              "      <th>OwnCar</th>\n",
              "      <th>NumberOfChildrenVisiting</th>\n",
              "      <th>Designation</th>\n",
              "      <th>MonthlyIncome</th>\n",
              "    </tr>\n",
              "  </thead>\n",
              "  <tbody>\n",
              "    <tr>\n",
              "      <th>0</th>\n",
              "      <td>1</td>\n",
              "      <td>32.0</td>\n",
              "      <td>Company Invited</td>\n",
              "      <td>3</td>\n",
              "      <td>NaN</td>\n",
              "      <td>Small Business</td>\n",
              "      <td>Male</td>\n",
              "      <td>2</td>\n",
              "      <td>5.0</td>\n",
              "      <td>Deluxe</td>\n",
              "      <td>3.0</td>\n",
              "      <td>Married</td>\n",
              "      <td>1.0</td>\n",
              "      <td>0</td>\n",
              "      <td>2</td>\n",
              "      <td>0</td>\n",
              "      <td>1.0</td>\n",
              "      <td>Manager</td>\n",
              "      <td>19668.0</td>\n",
              "    </tr>\n",
              "    <tr>\n",
              "      <th>1</th>\n",
              "      <td>2</td>\n",
              "      <td>46.0</td>\n",
              "      <td>Self Enquiry</td>\n",
              "      <td>2</td>\n",
              "      <td>11.0</td>\n",
              "      <td>Small Business</td>\n",
              "      <td>Male</td>\n",
              "      <td>3</td>\n",
              "      <td>NaN</td>\n",
              "      <td>Deluxe</td>\n",
              "      <td>4.0</td>\n",
              "      <td>Married</td>\n",
              "      <td>1.0</td>\n",
              "      <td>1</td>\n",
              "      <td>5</td>\n",
              "      <td>0</td>\n",
              "      <td>1.0</td>\n",
              "      <td>Manager</td>\n",
              "      <td>20021.0</td>\n",
              "    </tr>\n",
              "    <tr>\n",
              "      <th>2</th>\n",
              "      <td>3</td>\n",
              "      <td>37.0</td>\n",
              "      <td>Self Enquiry</td>\n",
              "      <td>3</td>\n",
              "      <td>22.0</td>\n",
              "      <td>Small Business</td>\n",
              "      <td>Male</td>\n",
              "      <td>3</td>\n",
              "      <td>4.0</td>\n",
              "      <td>Deluxe</td>\n",
              "      <td>3.0</td>\n",
              "      <td>Married</td>\n",
              "      <td>5.0</td>\n",
              "      <td>0</td>\n",
              "      <td>5</td>\n",
              "      <td>1</td>\n",
              "      <td>0.0</td>\n",
              "      <td>Manager</td>\n",
              "      <td>21334.0</td>\n",
              "    </tr>\n",
              "    <tr>\n",
              "      <th>3</th>\n",
              "      <td>4</td>\n",
              "      <td>43.0</td>\n",
              "      <td>Self Enquiry</td>\n",
              "      <td>1</td>\n",
              "      <td>36.0</td>\n",
              "      <td>Small Business</td>\n",
              "      <td>Male</td>\n",
              "      <td>3</td>\n",
              "      <td>6.0</td>\n",
              "      <td>Deluxe</td>\n",
              "      <td>3.0</td>\n",
              "      <td>Unmarried</td>\n",
              "      <td>6.0</td>\n",
              "      <td>0</td>\n",
              "      <td>3</td>\n",
              "      <td>1</td>\n",
              "      <td>2.0</td>\n",
              "      <td>Manager</td>\n",
              "      <td>22950.0</td>\n",
              "    </tr>\n",
              "    <tr>\n",
              "      <th>4</th>\n",
              "      <td>5</td>\n",
              "      <td>25.0</td>\n",
              "      <td>Self Enquiry</td>\n",
              "      <td>3</td>\n",
              "      <td>7.0</td>\n",
              "      <td>Large Business</td>\n",
              "      <td>Female</td>\n",
              "      <td>4</td>\n",
              "      <td>4.0</td>\n",
              "      <td>Basic</td>\n",
              "      <td>4.0</td>\n",
              "      <td>Unmarried</td>\n",
              "      <td>3.0</td>\n",
              "      <td>1</td>\n",
              "      <td>4</td>\n",
              "      <td>1</td>\n",
              "      <td>3.0</td>\n",
              "      <td>Executive</td>\n",
              "      <td>21880.0</td>\n",
              "    </tr>\n",
              "    <tr>\n",
              "      <th>...</th>\n",
              "      <td>...</td>\n",
              "      <td>...</td>\n",
              "      <td>...</td>\n",
              "      <td>...</td>\n",
              "      <td>...</td>\n",
              "      <td>...</td>\n",
              "      <td>...</td>\n",
              "      <td>...</td>\n",
              "      <td>...</td>\n",
              "      <td>...</td>\n",
              "      <td>...</td>\n",
              "      <td>...</td>\n",
              "      <td>...</td>\n",
              "      <td>...</td>\n",
              "      <td>...</td>\n",
              "      <td>...</td>\n",
              "      <td>...</td>\n",
              "      <td>...</td>\n",
              "      <td>...</td>\n",
              "    </tr>\n",
              "    <tr>\n",
              "      <th>2928</th>\n",
              "      <td>2929</td>\n",
              "      <td>54.0</td>\n",
              "      <td>Self Enquiry</td>\n",
              "      <td>1</td>\n",
              "      <td>6.0</td>\n",
              "      <td>Small Business</td>\n",
              "      <td>Female</td>\n",
              "      <td>2</td>\n",
              "      <td>3.0</td>\n",
              "      <td>Super Deluxe</td>\n",
              "      <td>3.0</td>\n",
              "      <td>Single</td>\n",
              "      <td>7.0</td>\n",
              "      <td>0</td>\n",
              "      <td>4</td>\n",
              "      <td>1</td>\n",
              "      <td>1.0</td>\n",
              "      <td>AVP</td>\n",
              "      <td>32328.0</td>\n",
              "    </tr>\n",
              "    <tr>\n",
              "      <th>2929</th>\n",
              "      <td>2930</td>\n",
              "      <td>33.0</td>\n",
              "      <td>Self Enquiry</td>\n",
              "      <td>1</td>\n",
              "      <td>9.0</td>\n",
              "      <td>Small Business</td>\n",
              "      <td>Fe Male</td>\n",
              "      <td>4</td>\n",
              "      <td>2.0</td>\n",
              "      <td>Deluxe</td>\n",
              "      <td>3.0</td>\n",
              "      <td>Unmarried</td>\n",
              "      <td>2.0</td>\n",
              "      <td>0</td>\n",
              "      <td>3</td>\n",
              "      <td>0</td>\n",
              "      <td>1.0</td>\n",
              "      <td>Manager</td>\n",
              "      <td>23733.0</td>\n",
              "    </tr>\n",
              "    <tr>\n",
              "      <th>2930</th>\n",
              "      <td>2931</td>\n",
              "      <td>33.0</td>\n",
              "      <td>Company Invited</td>\n",
              "      <td>1</td>\n",
              "      <td>31.0</td>\n",
              "      <td>Salaried</td>\n",
              "      <td>Male</td>\n",
              "      <td>4</td>\n",
              "      <td>4.0</td>\n",
              "      <td>Deluxe</td>\n",
              "      <td>3.0</td>\n",
              "      <td>Divorced</td>\n",
              "      <td>3.0</td>\n",
              "      <td>0</td>\n",
              "      <td>4</td>\n",
              "      <td>1</td>\n",
              "      <td>1.0</td>\n",
              "      <td>Manager</td>\n",
              "      <td>23987.0</td>\n",
              "    </tr>\n",
              "    <tr>\n",
              "      <th>2931</th>\n",
              "      <td>2932</td>\n",
              "      <td>26.0</td>\n",
              "      <td>Self Enquiry</td>\n",
              "      <td>1</td>\n",
              "      <td>9.0</td>\n",
              "      <td>Small Business</td>\n",
              "      <td>Male</td>\n",
              "      <td>4</td>\n",
              "      <td>2.0</td>\n",
              "      <td>Basic</td>\n",
              "      <td>5.0</td>\n",
              "      <td>Unmarried</td>\n",
              "      <td>2.0</td>\n",
              "      <td>0</td>\n",
              "      <td>2</td>\n",
              "      <td>1</td>\n",
              "      <td>3.0</td>\n",
              "      <td>Executive</td>\n",
              "      <td>22102.0</td>\n",
              "    </tr>\n",
              "    <tr>\n",
              "      <th>2932</th>\n",
              "      <td>2933</td>\n",
              "      <td>31.0</td>\n",
              "      <td>Self Enquiry</td>\n",
              "      <td>1</td>\n",
              "      <td>9.0</td>\n",
              "      <td>Salaried</td>\n",
              "      <td>Male</td>\n",
              "      <td>3</td>\n",
              "      <td>5.0</td>\n",
              "      <td>Deluxe</td>\n",
              "      <td>3.0</td>\n",
              "      <td>Divorced</td>\n",
              "      <td>3.0</td>\n",
              "      <td>0</td>\n",
              "      <td>4</td>\n",
              "      <td>1</td>\n",
              "      <td>1.0</td>\n",
              "      <td>Manager</td>\n",
              "      <td>22830.0</td>\n",
              "    </tr>\n",
              "  </tbody>\n",
              "</table>\n",
              "<p>2933 rows × 19 columns</p>\n",
              "</div>\n",
              "      <button class=\"colab-df-convert\" onclick=\"convertToInteractive('df-b40b3ae7-ff06-491b-9f66-a1d20a9231c5')\"\n",
              "              title=\"Convert this dataframe to an interactive table.\"\n",
              "              style=\"display:none;\">\n",
              "        \n",
              "  <svg xmlns=\"http://www.w3.org/2000/svg\" height=\"24px\"viewBox=\"0 0 24 24\"\n",
              "       width=\"24px\">\n",
              "    <path d=\"M0 0h24v24H0V0z\" fill=\"none\"/>\n",
              "    <path d=\"M18.56 5.44l.94 2.06.94-2.06 2.06-.94-2.06-.94-.94-2.06-.94 2.06-2.06.94zm-11 1L8.5 8.5l.94-2.06 2.06-.94-2.06-.94L8.5 2.5l-.94 2.06-2.06.94zm10 10l.94 2.06.94-2.06 2.06-.94-2.06-.94-.94-2.06-.94 2.06-2.06.94z\"/><path d=\"M17.41 7.96l-1.37-1.37c-.4-.4-.92-.59-1.43-.59-.52 0-1.04.2-1.43.59L10.3 9.45l-7.72 7.72c-.78.78-.78 2.05 0 2.83L4 21.41c.39.39.9.59 1.41.59.51 0 1.02-.2 1.41-.59l7.78-7.78 2.81-2.81c.8-.78.8-2.07 0-2.86zM5.41 20L4 18.59l7.72-7.72 1.47 1.35L5.41 20z\"/>\n",
              "  </svg>\n",
              "      </button>\n",
              "      \n",
              "  <style>\n",
              "    .colab-df-container {\n",
              "      display:flex;\n",
              "      flex-wrap:wrap;\n",
              "      gap: 12px;\n",
              "    }\n",
              "\n",
              "    .colab-df-convert {\n",
              "      background-color: #E8F0FE;\n",
              "      border: none;\n",
              "      border-radius: 50%;\n",
              "      cursor: pointer;\n",
              "      display: none;\n",
              "      fill: #1967D2;\n",
              "      height: 32px;\n",
              "      padding: 0 0 0 0;\n",
              "      width: 32px;\n",
              "    }\n",
              "\n",
              "    .colab-df-convert:hover {\n",
              "      background-color: #E2EBFA;\n",
              "      box-shadow: 0px 1px 2px rgba(60, 64, 67, 0.3), 0px 1px 3px 1px rgba(60, 64, 67, 0.15);\n",
              "      fill: #174EA6;\n",
              "    }\n",
              "\n",
              "    [theme=dark] .colab-df-convert {\n",
              "      background-color: #3B4455;\n",
              "      fill: #D2E3FC;\n",
              "    }\n",
              "\n",
              "    [theme=dark] .colab-df-convert:hover {\n",
              "      background-color: #434B5C;\n",
              "      box-shadow: 0px 1px 3px 1px rgba(0, 0, 0, 0.15);\n",
              "      filter: drop-shadow(0px 1px 2px rgba(0, 0, 0, 0.3));\n",
              "      fill: #FFFFFF;\n",
              "    }\n",
              "  </style>\n",
              "\n",
              "      <script>\n",
              "        const buttonEl =\n",
              "          document.querySelector('#df-b40b3ae7-ff06-491b-9f66-a1d20a9231c5 button.colab-df-convert');\n",
              "        buttonEl.style.display =\n",
              "          google.colab.kernel.accessAllowed ? 'block' : 'none';\n",
              "\n",
              "        async function convertToInteractive(key) {\n",
              "          const element = document.querySelector('#df-b40b3ae7-ff06-491b-9f66-a1d20a9231c5');\n",
              "          const dataTable =\n",
              "            await google.colab.kernel.invokeFunction('convertToInteractive',\n",
              "                                                     [key], {});\n",
              "          if (!dataTable) return;\n",
              "\n",
              "          const docLinkHtml = 'Like what you see? Visit the ' +\n",
              "            '<a target=\"_blank\" href=https://colab.research.google.com/notebooks/data_table.ipynb>data table notebook</a>'\n",
              "            + ' to learn more about interactive tables.';\n",
              "          element.innerHTML = '';\n",
              "          dataTable['output_type'] = 'display_data';\n",
              "          await google.colab.output.renderOutput(dataTable, element);\n",
              "          const docLink = document.createElement('div');\n",
              "          docLink.innerHTML = docLinkHtml;\n",
              "          element.appendChild(docLink);\n",
              "        }\n",
              "      </script>\n",
              "    </div>\n",
              "  </div>\n",
              "  "
            ]
          },
          "metadata": {},
          "execution_count": 82
        }
      ]
    },
    {
      "cell_type": "code",
      "source": [
        "train_df.info()"
      ],
      "metadata": {
        "colab": {
          "base_uri": "https://localhost:8080/"
        },
        "id": "0Cr6bUOda_Lx",
        "outputId": "94e5bd21-e2e1-4678-bc42-0f1ddd1f0ede"
      },
      "execution_count": 83,
      "outputs": [
        {
          "output_type": "stream",
          "name": "stdout",
          "text": [
            "<class 'pandas.core.frame.DataFrame'>\n",
            "RangeIndex: 1955 entries, 0 to 1954\n",
            "Data columns (total 20 columns):\n",
            " #   Column                    Non-Null Count  Dtype  \n",
            "---  ------                    --------------  -----  \n",
            " 0   id                        1955 non-null   int64  \n",
            " 1   Age                       1861 non-null   float64\n",
            " 2   TypeofContact             1945 non-null   object \n",
            " 3   CityTier                  1955 non-null   int64  \n",
            " 4   DurationOfPitch           1853 non-null   float64\n",
            " 5   Occupation                1955 non-null   object \n",
            " 6   Gender                    1955 non-null   object \n",
            " 7   NumberOfPersonVisiting    1955 non-null   int64  \n",
            " 8   NumberOfFollowups         1942 non-null   float64\n",
            " 9   ProductPitched            1955 non-null   object \n",
            " 10  PreferredPropertyStar     1945 non-null   float64\n",
            " 11  MaritalStatus             1955 non-null   object \n",
            " 12  NumberOfTrips             1898 non-null   float64\n",
            " 13  Passport                  1955 non-null   int64  \n",
            " 14  PitchSatisfactionScore    1955 non-null   int64  \n",
            " 15  OwnCar                    1955 non-null   int64  \n",
            " 16  NumberOfChildrenVisiting  1928 non-null   float64\n",
            " 17  Designation               1955 non-null   object \n",
            " 18  MonthlyIncome             1855 non-null   float64\n",
            " 19  ProdTaken                 1955 non-null   int64  \n",
            "dtypes: float64(7), int64(7), object(6)\n",
            "memory usage: 305.6+ KB\n"
          ]
        }
      ]
    },
    {
      "cell_type": "markdown",
      "source": [
        "여기서 잠깐 스탑\n",
        "\n",
        "지금 info문으로 우리는 대략적인 데이터에 대해 알게되었습니다,\n",
        "\n",
        "여기서  Non-Null Count 이부분 한번 보시면 \n",
        "\n",
        "데이터의 갯수가 각각 다른것을 알 수 있습니다.\n",
        "\n",
        "최대치가 1955인데 최소치가 1800대까지 떨어지네요.\n",
        "\n",
        "선택지는 3가지\n",
        "1. 삭제\n",
        "2. 0으로 채우기\n",
        "3. 평균치로 채우기\n",
        "4. Regression imputation\n",
        "\n",
        "등..... 여러가지가 존재한다.\n",
        "\n",
        "여기서는 mean을 사용\n",
        "\n",
        "\n",
        "결측치 처리 가이드 라인\n",
        "\n",
        "10% 미만 : 삭제 or 대치\n",
        "\n",
        "10% ~ 50% : regression or model based imputation\n",
        "\n",
        "50% 이상 : 해당 컬럼(변수) 자체 제거"
      ],
      "metadata": {
        "id": "wAOUpt1WbAOx"
      }
    },
    {
      "cell_type": "markdown",
      "source": [
        "데이터 정의서\n",
        "<pre>\n",
        "id : 샘플 아이디\n",
        "Age : 나이\n",
        "TypeofContact : 고객의 제품 인지 방법 (회사의 홍보 or 스스로 검색)\n",
        "CityTier : 주거 중인 도시의 등급. (인구, 시설, 생활 수준 기준) (1등급 > 2등급 > 3등급) \n",
        "DurationOfPitch : 영업 사원이 고객에게 제공하는 프레젠테이션 기간\n",
        "Occupation : 직업\n",
        "Gender : 성별\n",
        "NumberOfPersonVisiting : 고객과 함께 여행을 계획 중인 총 인원\n",
        "NumberOfFollowups : 영업 사원의 프레젠테이션 후 이루어진 후속 조치 수\n",
        "ProductPitched : 영업 사원이 제시한 상품\n",
        "PreferredPropertyStar : 선호 호텔 숙박업소 등급\n",
        "MaritalStatus : 결혼여부\n",
        "NumberOfTrips : 평균 연간 여행 횟수\n",
        "Passport : 여권 보유 여부 (0: 없음, 1: 있음)\n",
        "PitchSatisfactionScore : 영업 사원의 프레젠테이션 만족도\n",
        "OwnCar : 자동차 보유 여부 (0: 없음, 1: 있음)\n",
        "NumberOfChildrenVisiting : 함께 여행을 계획 중인 5세 미만의 어린이 수\n",
        "Designation : (직업의) 직급\n",
        "MonthlyIncome : 월 급여\n",
        "ProdTaken : 여행 패키지 신청 여부 (0: 신청 안 함, 1: 신청함)\n",
        "</pre>"
      ],
      "metadata": {
        "id": "nN2cWFDjcxmi"
      }
    },
    {
      "cell_type": "markdown",
      "source": [
        "## 3. EDA & 전처리"
      ],
      "metadata": {
        "id": "fLnq3Fc7c0hH"
      }
    },
    {
      "cell_type": "markdown",
      "source": [
        "EDA란? 수집한 데이터가 들어왔을 때, 이를 다양한 각도에서 관찰하고 이해하는 과정"
      ],
      "metadata": {
        "id": "gpLryaAAda5y"
      }
    },
    {
      "cell_type": "code",
      "source": [
        "train_df.rename(columns={\n",
        "'id' : '아이디'\n",
        ",'Age' : '나이'\n",
        ",'TypeofContact' : '탐색경로'\n",
        ",'CityTier' : '도시등급'\n",
        ",'DurationOfPitch' : '프리젠테이션기간'\n",
        ",'Occupation' : '직업'\n",
        ",'Gender' : '성별'\n",
        ",'NumberOfPersonVisiting' : '여행인원'\n",
        ",'NumberOfFollowups' : '후속조치수'\n",
        ",'ProductPitched' : '제시상품'\n",
        ",'PreferredPropertyStar' : '선호숙박등급'\n",
        ",'MaritalStatus' : '결혼여부'\n",
        ",'NumberOfTrips' : '연간여행횟수'\n",
        ",'Passport' : '여권보유'\n",
        ",'PitchSatisfactionScore' : '프레젠테이션만족도'\n",
        ",'OwnCar' : '자동차보유'\n",
        ",'NumberOfChildrenVisiting' : '미취학아동'\n",
        ",'Designation' : '직급'\n",
        ",'MonthlyIncome' : '월급여'\n",
        ",'ProdTaken' : '신청여부'\n",
        "}, inplace = True)\n",
        "test_df.rename(columns = {\n",
        "'id' : '아이디'\n",
        ",'Age' : '나이'\n",
        ",'TypeofContact' : '탐색경로'\n",
        ",'CityTier' : '도시등급'\n",
        ",'DurationOfPitch' : '프리젠테이션기간'\n",
        ",'Occupation' : '직업'\n",
        ",'Gender' : '성별'\n",
        ",'NumberOfPersonVisiting' : '여행인원'\n",
        ",'NumberOfFollowups' : '후속조치수'\n",
        ",'ProductPitched' : '제시상품'\n",
        ",'PreferredPropertyStar' : '선호숙박등급'\n",
        ",'MaritalStatus' : '결혼여부'\n",
        ",'NumberOfTrips' : '연간여행횟수'\n",
        ",'Passport' : '여권보유'\n",
        ",'PitchSatisfactionScore' : '프레젠테이션만족도'\n",
        ",'OwnCar' : '자동차보유'\n",
        ",'NumberOfChildrenVisiting' : '미취학아동'\n",
        ",'Designation' : '직급'\n",
        ",'MonthlyIncome' : '월급여'\n",
        ",'ProdTaken' : '신청여부'\n",
        "}, inplace = True)\n"
      ],
      "metadata": {
        "id": "bNsTSX3dcuJi"
      },
      "execution_count": 84,
      "outputs": []
    },
    {
      "cell_type": "markdown",
      "source": [
        "### 2.1 EDA"
      ],
      "metadata": {
        "id": "pNRpsaYJdA0u"
      }
    },
    {
      "cell_type": "markdown",
      "source": [
        "#### 2.1.1 수치형 데이터 탐색"
      ],
      "metadata": {
        "id": "bbPcUuyYdIz4"
      }
    },
    {
      "cell_type": "markdown",
      "source": [
        "수치형 데이터를 의미하는 코드\n",
        "\n",
        "    train_df.select_dtypes(exclude=['object']).columns"
      ],
      "metadata": {
        "id": "o3THQ36xdfk1"
      }
    },
    {
      "cell_type": "code",
      "source": [
        "print(train_df.select_dtypes(exclude=['object']).columns)"
      ],
      "metadata": {
        "colab": {
          "base_uri": "https://localhost:8080/"
        },
        "id": "-oEbMMEzc95u",
        "outputId": "fa833bbb-150a-4e22-bde3-e056712a8744"
      },
      "execution_count": 85,
      "outputs": [
        {
          "output_type": "stream",
          "name": "stdout",
          "text": [
            "Index(['아이디', '나이', '도시등급', '프리젠테이션기간', '여행인원', '후속조치수', '선호숙박등급', '연간여행횟수',\n",
            "       '여권보유', '프레젠테이션만족도', '자동차보유', '미취학아동', '월급여', '신청여부'],\n",
            "      dtype='object')\n"
          ]
        }
      ]
    },
    {
      "cell_type": "code",
      "source": [
        "train_df.describe()"
      ],
      "metadata": {
        "colab": {
          "base_uri": "https://localhost:8080/",
          "height": 399
        },
        "id": "KV-HufhSdO7i",
        "outputId": "159c2784-f459-4abe-be29-7ee6f1fe7bf8"
      },
      "execution_count": 86,
      "outputs": [
        {
          "output_type": "execute_result",
          "data": {
            "text/plain": [
              "               아이디           나이         도시등급     프리젠테이션기간         여행인원  \\\n",
              "count  1955.000000  1861.000000  1955.000000  1853.000000  1955.000000   \n",
              "mean    978.000000    37.462117     1.641432    15.524015     2.922762   \n",
              "std     564.504207     9.189948     0.908744     8.150057     0.712276   \n",
              "min       1.000000    18.000000     1.000000     5.000000     1.000000   \n",
              "25%     489.500000    31.000000     1.000000     9.000000     2.000000   \n",
              "50%     978.000000    36.000000     1.000000    14.000000     3.000000   \n",
              "75%    1466.500000    43.000000     3.000000    20.000000     3.000000   \n",
              "max    1955.000000    61.000000     3.000000    36.000000     5.000000   \n",
              "\n",
              "             후속조치수       선호숙박등급       연간여행횟수         여권보유    프레젠테이션만족도  \\\n",
              "count  1942.000000  1945.000000  1898.000000  1955.000000  1955.000000   \n",
              "mean      3.718332     3.568638     3.255532     0.291049     3.067519   \n",
              "std       1.004095     0.793196     1.814698     0.454362     1.372915   \n",
              "min       1.000000     3.000000     1.000000     0.000000     1.000000   \n",
              "25%       3.000000     3.000000     2.000000     0.000000     2.000000   \n",
              "50%       4.000000     3.000000     3.000000     0.000000     3.000000   \n",
              "75%       4.000000     4.000000     4.000000     1.000000     4.000000   \n",
              "max       6.000000     5.000000    19.000000     1.000000     5.000000   \n",
              "\n",
              "             자동차보유        미취학아동           월급여         신청여부  \n",
              "count  1955.000000  1928.000000   1855.000000  1955.000000  \n",
              "mean      0.619437     1.213174  23624.108895     0.195908  \n",
              "std       0.485649     0.859450   5640.482258     0.397000  \n",
              "min       0.000000     0.000000   1000.000000     0.000000  \n",
              "25%       0.000000     1.000000  20390.000000     0.000000  \n",
              "50%       1.000000     1.000000  22295.000000     0.000000  \n",
              "75%       1.000000     2.000000  25558.000000     0.000000  \n",
              "max       1.000000     3.000000  98678.000000     1.000000  "
            ],
            "text/html": [
              "\n",
              "  <div id=\"df-2a34d9ca-713d-483d-80aa-92f014682dab\">\n",
              "    <div class=\"colab-df-container\">\n",
              "      <div>\n",
              "<style scoped>\n",
              "    .dataframe tbody tr th:only-of-type {\n",
              "        vertical-align: middle;\n",
              "    }\n",
              "\n",
              "    .dataframe tbody tr th {\n",
              "        vertical-align: top;\n",
              "    }\n",
              "\n",
              "    .dataframe thead th {\n",
              "        text-align: right;\n",
              "    }\n",
              "</style>\n",
              "<table border=\"1\" class=\"dataframe\">\n",
              "  <thead>\n",
              "    <tr style=\"text-align: right;\">\n",
              "      <th></th>\n",
              "      <th>아이디</th>\n",
              "      <th>나이</th>\n",
              "      <th>도시등급</th>\n",
              "      <th>프리젠테이션기간</th>\n",
              "      <th>여행인원</th>\n",
              "      <th>후속조치수</th>\n",
              "      <th>선호숙박등급</th>\n",
              "      <th>연간여행횟수</th>\n",
              "      <th>여권보유</th>\n",
              "      <th>프레젠테이션만족도</th>\n",
              "      <th>자동차보유</th>\n",
              "      <th>미취학아동</th>\n",
              "      <th>월급여</th>\n",
              "      <th>신청여부</th>\n",
              "    </tr>\n",
              "  </thead>\n",
              "  <tbody>\n",
              "    <tr>\n",
              "      <th>count</th>\n",
              "      <td>1955.000000</td>\n",
              "      <td>1861.000000</td>\n",
              "      <td>1955.000000</td>\n",
              "      <td>1853.000000</td>\n",
              "      <td>1955.000000</td>\n",
              "      <td>1942.000000</td>\n",
              "      <td>1945.000000</td>\n",
              "      <td>1898.000000</td>\n",
              "      <td>1955.000000</td>\n",
              "      <td>1955.000000</td>\n",
              "      <td>1955.000000</td>\n",
              "      <td>1928.000000</td>\n",
              "      <td>1855.000000</td>\n",
              "      <td>1955.000000</td>\n",
              "    </tr>\n",
              "    <tr>\n",
              "      <th>mean</th>\n",
              "      <td>978.000000</td>\n",
              "      <td>37.462117</td>\n",
              "      <td>1.641432</td>\n",
              "      <td>15.524015</td>\n",
              "      <td>2.922762</td>\n",
              "      <td>3.718332</td>\n",
              "      <td>3.568638</td>\n",
              "      <td>3.255532</td>\n",
              "      <td>0.291049</td>\n",
              "      <td>3.067519</td>\n",
              "      <td>0.619437</td>\n",
              "      <td>1.213174</td>\n",
              "      <td>23624.108895</td>\n",
              "      <td>0.195908</td>\n",
              "    </tr>\n",
              "    <tr>\n",
              "      <th>std</th>\n",
              "      <td>564.504207</td>\n",
              "      <td>9.189948</td>\n",
              "      <td>0.908744</td>\n",
              "      <td>8.150057</td>\n",
              "      <td>0.712276</td>\n",
              "      <td>1.004095</td>\n",
              "      <td>0.793196</td>\n",
              "      <td>1.814698</td>\n",
              "      <td>0.454362</td>\n",
              "      <td>1.372915</td>\n",
              "      <td>0.485649</td>\n",
              "      <td>0.859450</td>\n",
              "      <td>5640.482258</td>\n",
              "      <td>0.397000</td>\n",
              "    </tr>\n",
              "    <tr>\n",
              "      <th>min</th>\n",
              "      <td>1.000000</td>\n",
              "      <td>18.000000</td>\n",
              "      <td>1.000000</td>\n",
              "      <td>5.000000</td>\n",
              "      <td>1.000000</td>\n",
              "      <td>1.000000</td>\n",
              "      <td>3.000000</td>\n",
              "      <td>1.000000</td>\n",
              "      <td>0.000000</td>\n",
              "      <td>1.000000</td>\n",
              "      <td>0.000000</td>\n",
              "      <td>0.000000</td>\n",
              "      <td>1000.000000</td>\n",
              "      <td>0.000000</td>\n",
              "    </tr>\n",
              "    <tr>\n",
              "      <th>25%</th>\n",
              "      <td>489.500000</td>\n",
              "      <td>31.000000</td>\n",
              "      <td>1.000000</td>\n",
              "      <td>9.000000</td>\n",
              "      <td>2.000000</td>\n",
              "      <td>3.000000</td>\n",
              "      <td>3.000000</td>\n",
              "      <td>2.000000</td>\n",
              "      <td>0.000000</td>\n",
              "      <td>2.000000</td>\n",
              "      <td>0.000000</td>\n",
              "      <td>1.000000</td>\n",
              "      <td>20390.000000</td>\n",
              "      <td>0.000000</td>\n",
              "    </tr>\n",
              "    <tr>\n",
              "      <th>50%</th>\n",
              "      <td>978.000000</td>\n",
              "      <td>36.000000</td>\n",
              "      <td>1.000000</td>\n",
              "      <td>14.000000</td>\n",
              "      <td>3.000000</td>\n",
              "      <td>4.000000</td>\n",
              "      <td>3.000000</td>\n",
              "      <td>3.000000</td>\n",
              "      <td>0.000000</td>\n",
              "      <td>3.000000</td>\n",
              "      <td>1.000000</td>\n",
              "      <td>1.000000</td>\n",
              "      <td>22295.000000</td>\n",
              "      <td>0.000000</td>\n",
              "    </tr>\n",
              "    <tr>\n",
              "      <th>75%</th>\n",
              "      <td>1466.500000</td>\n",
              "      <td>43.000000</td>\n",
              "      <td>3.000000</td>\n",
              "      <td>20.000000</td>\n",
              "      <td>3.000000</td>\n",
              "      <td>4.000000</td>\n",
              "      <td>4.000000</td>\n",
              "      <td>4.000000</td>\n",
              "      <td>1.000000</td>\n",
              "      <td>4.000000</td>\n",
              "      <td>1.000000</td>\n",
              "      <td>2.000000</td>\n",
              "      <td>25558.000000</td>\n",
              "      <td>0.000000</td>\n",
              "    </tr>\n",
              "    <tr>\n",
              "      <th>max</th>\n",
              "      <td>1955.000000</td>\n",
              "      <td>61.000000</td>\n",
              "      <td>3.000000</td>\n",
              "      <td>36.000000</td>\n",
              "      <td>5.000000</td>\n",
              "      <td>6.000000</td>\n",
              "      <td>5.000000</td>\n",
              "      <td>19.000000</td>\n",
              "      <td>1.000000</td>\n",
              "      <td>5.000000</td>\n",
              "      <td>1.000000</td>\n",
              "      <td>3.000000</td>\n",
              "      <td>98678.000000</td>\n",
              "      <td>1.000000</td>\n",
              "    </tr>\n",
              "  </tbody>\n",
              "</table>\n",
              "</div>\n",
              "      <button class=\"colab-df-convert\" onclick=\"convertToInteractive('df-2a34d9ca-713d-483d-80aa-92f014682dab')\"\n",
              "              title=\"Convert this dataframe to an interactive table.\"\n",
              "              style=\"display:none;\">\n",
              "        \n",
              "  <svg xmlns=\"http://www.w3.org/2000/svg\" height=\"24px\"viewBox=\"0 0 24 24\"\n",
              "       width=\"24px\">\n",
              "    <path d=\"M0 0h24v24H0V0z\" fill=\"none\"/>\n",
              "    <path d=\"M18.56 5.44l.94 2.06.94-2.06 2.06-.94-2.06-.94-.94-2.06-.94 2.06-2.06.94zm-11 1L8.5 8.5l.94-2.06 2.06-.94-2.06-.94L8.5 2.5l-.94 2.06-2.06.94zm10 10l.94 2.06.94-2.06 2.06-.94-2.06-.94-.94-2.06-.94 2.06-2.06.94z\"/><path d=\"M17.41 7.96l-1.37-1.37c-.4-.4-.92-.59-1.43-.59-.52 0-1.04.2-1.43.59L10.3 9.45l-7.72 7.72c-.78.78-.78 2.05 0 2.83L4 21.41c.39.39.9.59 1.41.59.51 0 1.02-.2 1.41-.59l7.78-7.78 2.81-2.81c.8-.78.8-2.07 0-2.86zM5.41 20L4 18.59l7.72-7.72 1.47 1.35L5.41 20z\"/>\n",
              "  </svg>\n",
              "      </button>\n",
              "      \n",
              "  <style>\n",
              "    .colab-df-container {\n",
              "      display:flex;\n",
              "      flex-wrap:wrap;\n",
              "      gap: 12px;\n",
              "    }\n",
              "\n",
              "    .colab-df-convert {\n",
              "      background-color: #E8F0FE;\n",
              "      border: none;\n",
              "      border-radius: 50%;\n",
              "      cursor: pointer;\n",
              "      display: none;\n",
              "      fill: #1967D2;\n",
              "      height: 32px;\n",
              "      padding: 0 0 0 0;\n",
              "      width: 32px;\n",
              "    }\n",
              "\n",
              "    .colab-df-convert:hover {\n",
              "      background-color: #E2EBFA;\n",
              "      box-shadow: 0px 1px 2px rgba(60, 64, 67, 0.3), 0px 1px 3px 1px rgba(60, 64, 67, 0.15);\n",
              "      fill: #174EA6;\n",
              "    }\n",
              "\n",
              "    [theme=dark] .colab-df-convert {\n",
              "      background-color: #3B4455;\n",
              "      fill: #D2E3FC;\n",
              "    }\n",
              "\n",
              "    [theme=dark] .colab-df-convert:hover {\n",
              "      background-color: #434B5C;\n",
              "      box-shadow: 0px 1px 3px 1px rgba(0, 0, 0, 0.15);\n",
              "      filter: drop-shadow(0px 1px 2px rgba(0, 0, 0, 0.3));\n",
              "      fill: #FFFFFF;\n",
              "    }\n",
              "  </style>\n",
              "\n",
              "      <script>\n",
              "        const buttonEl =\n",
              "          document.querySelector('#df-2a34d9ca-713d-483d-80aa-92f014682dab button.colab-df-convert');\n",
              "        buttonEl.style.display =\n",
              "          google.colab.kernel.accessAllowed ? 'block' : 'none';\n",
              "\n",
              "        async function convertToInteractive(key) {\n",
              "          const element = document.querySelector('#df-2a34d9ca-713d-483d-80aa-92f014682dab');\n",
              "          const dataTable =\n",
              "            await google.colab.kernel.invokeFunction('convertToInteractive',\n",
              "                                                     [key], {});\n",
              "          if (!dataTable) return;\n",
              "\n",
              "          const docLinkHtml = 'Like what you see? Visit the ' +\n",
              "            '<a target=\"_blank\" href=https://colab.research.google.com/notebooks/data_table.ipynb>data table notebook</a>'\n",
              "            + ' to learn more about interactive tables.';\n",
              "          element.innerHTML = '';\n",
              "          dataTable['output_type'] = 'display_data';\n",
              "          await google.colab.output.renderOutput(dataTable, element);\n",
              "          const docLink = document.createElement('div');\n",
              "          docLink.innerHTML = docLinkHtml;\n",
              "          element.appendChild(docLink);\n",
              "        }\n",
              "      </script>\n",
              "    </div>\n",
              "  </div>\n",
              "  "
            ]
          },
          "metadata": {},
          "execution_count": 86
        }
      ]
    },
    {
      "cell_type": "code",
      "source": [
        "!pip install matplotlib==3.1.3"
      ],
      "metadata": {
        "colab": {
          "base_uri": "https://localhost:8080/",
          "height": 461
        },
        "id": "tmLPUZE9dRPS",
        "outputId": "ecba2310-a81c-4d86-993a-8b93a049d3b3"
      },
      "execution_count": 87,
      "outputs": [
        {
          "output_type": "stream",
          "name": "stdout",
          "text": [
            "Looking in indexes: https://pypi.org/simple, https://us-python.pkg.dev/colab-wheels/public/simple/\n",
            "Collecting matplotlib==3.1.3\n",
            "  Using cached matplotlib-3.1.3-cp37-cp37m-manylinux1_x86_64.whl (13.1 MB)\n",
            "Requirement already satisfied: cycler>=0.10 in /usr/local/lib/python3.7/dist-packages (from matplotlib==3.1.3) (0.11.0)\n",
            "Requirement already satisfied: python-dateutil>=2.1 in /usr/local/lib/python3.7/dist-packages (from matplotlib==3.1.3) (2.8.2)\n",
            "Requirement already satisfied: numpy>=1.11 in /usr/local/lib/python3.7/dist-packages (from matplotlib==3.1.3) (1.19.5)\n",
            "Requirement already satisfied: kiwisolver>=1.0.1 in /usr/local/lib/python3.7/dist-packages (from matplotlib==3.1.3) (1.4.4)\n",
            "Requirement already satisfied: pyparsing!=2.0.4,!=2.1.2,!=2.1.6,>=2.0.1 in /usr/local/lib/python3.7/dist-packages (from matplotlib==3.1.3) (3.0.9)\n",
            "Requirement already satisfied: typing-extensions in /usr/local/lib/python3.7/dist-packages (from kiwisolver>=1.0.1->matplotlib==3.1.3) (4.1.1)\n",
            "Requirement already satisfied: six>=1.5 in /usr/local/lib/python3.7/dist-packages (from python-dateutil>=2.1->matplotlib==3.1.3) (1.15.0)\n",
            "Installing collected packages: matplotlib\n",
            "  Attempting uninstall: matplotlib\n",
            "    Found existing installation: matplotlib 3.5.3\n",
            "    Uninstalling matplotlib-3.5.3:\n",
            "      Successfully uninstalled matplotlib-3.5.3\n",
            "\u001b[31mERROR: pip's dependency resolver does not currently take into account all the packages that are installed. This behaviour is the source of the following dependency conflicts.\n",
            "pandas-profiling 3.1.0 requires matplotlib>=3.2.0, but you have matplotlib 3.1.3 which is incompatible.\u001b[0m\n",
            "Successfully installed matplotlib-3.1.3\n"
          ]
        },
        {
          "output_type": "display_data",
          "data": {
            "application/vnd.colab-display-data+json": {
              "pip_warning": {
                "packages": [
                  "matplotlib",
                  "mpl_toolkits"
                ]
              }
            }
          },
          "metadata": {}
        }
      ]
    },
    {
      "cell_type": "code",
      "source": [
        "cols = train_df.select_dtypes(exclude=['object']).columns\n",
        "fig, axes = plt.subplots(2, 7,  figsize=(24,10))\n",
        "for i, col in enumerate(cols):\n",
        "#7:2 형태로 그래프를 만들기 위해서\n",
        "#j와 k는 0부터 시작하는 배열이라고 생각하면 쉽다.\n",
        "    if i <=6:\n",
        "        k = i\n",
        "        j  = 0\n",
        "    else:\n",
        "        j = 1\n",
        "        k = i-7\n",
        "    g = sns.distplot(train_df[train_df['신청여부']==0][col], hist=True, kde=False, rug=True, bins=10, label=\"미신청\"   , ax = axes[j][k])\n",
        "    h = sns.distplot(train_df[train_df['신청여부']==1][col], hist=True, kde=False, rug=True, bins=10, label=\"신청\", ax = axes[j][k])\n",
        "    axes[j][k].legend()\n",
        "    plt.xlabel(col)\n",
        "plt.show()\n",
        "plt.close()"
      ],
      "metadata": {
        "colab": {
          "base_uri": "https://localhost:8080/",
          "height": 413
        },
        "id": "-f5r4hs_dWFB",
        "outputId": "65d824a7-c7b8-4219-8a6f-d7d9f9121bac"
      },
      "execution_count": 88,
      "outputs": [
        {
          "output_type": "display_data",
          "data": {
            "text/plain": [
              "<Figure size 1728x720 with 14 Axes>"
            ],
            "image/png": "[encoded data removed]"
          },
          "metadata": {}
        }
      ]
    },
    {
      "cell_type": "markdown",
      "source": [
        "신청 한 인원들의 분포와 신청하지 않은 인원들의 분포가 거의 똑같다고 볼 수 있다."
      ],
      "metadata": {
        "id": "N49-4H6XdyBk"
      }
    },
    {
      "cell_type": "markdown",
      "source": [
        "이상치 확인하기"
      ],
      "metadata": {
        "id": "3VgPsi8xd1UP"
      }
    },
    {
      "cell_type": "markdown",
      "source": [
        "이상치란 : 이상치는 관측치들이 주로 모여 있는 곳에서 멀리 떨어져 있어 특정 그룹으로 분류되지\n",
        "못하는 값으로, 정상군의 상한과 하한의 범위를 벗어난 자료를 의미한다. 이상치는 자료들\n",
        "의 분포에 따라 대푯값에 영향을 준다. "
      ],
      "metadata": {
        "id": "IFd6SqjneKKp"
      }
    },
    {
      "cell_type": "markdown",
      "source": [
        "![Screenshot 2022-08-25 at 23.48.16.JPG](data:image/jpeg;base64,/9j/4AAQSkZJRgABAQAAAQABAAD/2wBDAAMCAgMCAgMDAwMEAwMEBQgFBQQEBQoHBwYIDAoMDAsKCwsNDhIQDQ4RDgsLEBYQERMUFRUVDA8XGBYUGBIUFRT/2wBDAQMEBAUEBQkFBQkUDQsNFBQUFBQUFBQUFBQUFBQUFBQUFBQUFBQUFBQUFBQUFBQUFBQUFBQUFBQUFBQUFBQUFBT/wAARCAEVAaQDASIAAhEBAxEB/8QAHQABAAICAwEBAAAAAAAAAAAAAAYHBAUBAgMICf/EAFMQAAEEAQMDAQMECQ8LAwUBAAEAAgMEBQYREgcTITEUIkEVFzJRCBgjVldhdpbUFjM2N0JSVFVik5SVtLXSJDhxdIGRkrHR09VTY3MlNDVDoXL/xAAXAQEBAQEAAAAAAAAAAAAAAAAAAQID/8QAKREBAAIBAwMDBQEBAQEAAAAAAAERITFB8AJRYZGhwRJxgbHR4TJC8f/aAAwDAQACEQMRAD8A/TNERbYEREBERAREQEREBERAREQEREBERAWg1LrvAaPmpQ5jK1qEtyVsMLJZACS7fYkfBvun3j4H1rfqB9T+iumersuHl1FBLM/EymxTMRaO1Nu0tk8tO5bxOzTu08ju13jabxzC4ynMUrJ4mSxPbJG9oc17DuHA+hB+IXdcNaGNDWgBoGwA+C5VQREQFpMLrfT2o8xk8Vic3j8nksYGG9Vp2WSyVefLgJA0niTwdsD58LUdVulGF6x6Um0/np8nBRl33di8jNUfvtt73BwDx/JeHN/EqM6G/YC6Z6KZrU0sWp9Q5PF5RtcVoIMnaxk1ftmTl3JKk0Ym35t25NHHY7D3ior6lRVx8wGlf4bq789cz+lp8wGlf4bq789cz+loLHRVx8wGlf4bq789cz+lp8wGlf4bq789cz+loLHUe1BrnH6du+ySxXbllsPtM0VCq+d0EO5HceGjwCQ7YeXO4u2B2O3TR+gMVob2v5Mmy83tXDufKuau5Hbjy24e0yycPpHfjtv4332G2FmcLn6Op72XwUOOufKFGGpLFkLD4Oy+J0pY8Fsb+YPedu33fojY+TtJvZYrdIRn8acWMkL1c0DH3hYEgLCzhz33/wD8+9/o8rWYzXuKzWQirY977rJYoJ2WoQ0xOZKJi0777/8A6Hg+PBI/HtAsR0jzOIipYZklCfC1bIse2STP78g+TTU49nt8R7/vb8/T8a6SdJM9kK1OF81HEOjx9eo6WnO55ifHXvQl7Pubd/NmJ432/dfUN7O8x4r3v0wREb+f8WqzOY2SHvNyFV0PcMPcEzS3nvsW77+u5A29dys5VVpLpTcoZzD5PJwUzLRceTBMyVviHtxujayvE1pG5G5G/EN8+ABaq1MUyIiKAiIgIiICIiAiIgIiICIiAiIgIiICIiAiIgIiICIiAiIgIiICIiAiIgIiICIsa7kqmNNcWrEdc2JWwQ9xwb3JDvs0fWTsfH4kGSiIgIiICIiAiIgIiICIsSXK04J7EElmNk1eEWJWF3lkZLgHn8XuO8/ySpourLRedeeO1BHNC8SRSND2Padw5pG4IXorogiLX4LO09SY5l/HvklqSEhkj4Xxh4H7pocAS0/Bw8H1BKDYIiICIiAiIgIiICIiAiIgIiICIiAiIgIiICIiAiIgIiICIiAiKP6v0Rj9bV68N+1mKrYHF7TiMzbxriSNvedWljLx+JxICCQIqD0B0lxmb1T1Ip3c/rWaviNQRUaTP1a5hvahOLoTlu4tAu+6Tyu3O597bfYAC96tdtStFAxz3MiYGNMsjpHkAbeXOJLj+Mkk/FRXqiIqgijLumelHwSwu09jzFLkvlh7DA3Z13+EH/3P5XqlzpnpTIQ5OKzp7HzxZOwy3dZJA0ixM07tkf8AW4fAlRUmVXdZug9HrJbwVmzlLOKlxMpnY6ryBneCCxkuzhyiHv7s8E8vDm7eZdkOnOl8s7Nm5gaFk5wRDJmWBrvbBF+tdz99x28b+i5tdPNM3psjLYwVGaXI1W0bb3wgmeBo2bG/62j6k3iexdN9BBHVgjhiYI4o2hjGN9GgDYAL0Ue+bzTPfM/yFR7xxnyNz7I39i/g/wD8f8n0XFXp5pmlNj5YMFRhlx9R1Co9kIBgruGzomfU0/UqiRIo5j+nOl8S7COp4GhWdhBK3GGKBo9jEv64I/3vLc77eq2GndM4rSWMZjsLj6+LoMe57a9WMMYHOO7jsPiSSUGu111H0t0xw5yuq8/j9P0Ny1s1+dsfcdtvxYD5e7+S0E/iVV9Ofs2+kXU7M5yljdUVsdXxQhPt+bljoQ2+4X/rAlc17uPD3t2jbk361dOcwGM1NjJsdmMdUyuPmG0tS7A2aJ4+pzHAg/7QoN05+x16e9JcznMlpPTdfDyZoQi3BE5zoSYy/iWMcSI/1x24bsPTworN+fvpl+EXSf8AXlX/ABp8/fTL8Iuk/wCvKv8AjUv+R6H8BrfzLf8AonyPQ/gNb+Zb/wBFREPn76ZfhF0n/XlX/Gnz99Mvwi6T/ryr/jUv+R6H8BrfzLf+ifI9D+A1v5lv/RBrdL690xrj2n9Tmo8Tn/ZePf8Aku9FZ7PLfjz4OPHfi7bf14n6lHdZ0MzWzuXt47DT5hmUwzccz2eWJnZmY6Ygydx7fcPe9W8iOB8eRvOq9OvU5diCOHl69tgbv/p2WmzOoLeM1Pp/HMqwyU8k+aOSd0pEkbmROkbszjsQeJ3PIbePBWZiOrEr0zMZjlTaoZcJk47efZTq3xbxNtsb8z7UBBHXZjYecLWdzl7zj9EM25ODt927rpX0nqXIY3H28XirlTCyRUn3cbemZZkvPEU/cm4CyA4F0lcnlIC7t7kHiA6wsrrp+I1hfx1mtBUxccYf3pq0wNx/Zc9zWSce0XANA4klxAPjwsDE9QsxZFbDQ06subkmjgEkriyBjTTjsyPIaN9m9wMa0eT7u5HkrUTcTef+fWLj39tSYr6Y8T8fr/Gf040bcw02Us5f2qzYlbBBXmuzc39kVoQ5vESPDT3Gv38kuI3Jd4KgumemmpcHNgKrqstSpVp0xE6oGPNSRhJnYXe0NDQ8+HFrH8mu2/cgLeZnrTaxFuKjabhcXfhbcbZZkLrmRyywOgDI4XcdyZG2GOHukj02JUz0nqa1kcVlLGQrTxy05/MAi3mDXQxztjLGjy5olDPHqW/jWZiOuL2M9OFeVOn2exFHFRux927QNLGuzFBl8OluTMbOJwXPkAceToHO3cA9rOO7tuK2ekdK56vrv225Vt0aLJXPrudweRWMAaytI8WXeGuO/FsZHJodyO5K2snV6vJlaEVTH3bUD2XW260NYyWYJoDB7pDXcduMpJ8nf3QPJ2ObN1i05FC+02W1NjQwkZCKu51d7xD3u213qXdvz6bb+7vy91bu5nq7/PMeiTEzztzPrsm6KIZTqlgsVetVHPsWZKje7adWhL2wRcGPMjj+9DZGHxuTv4B2O3rrDOZrD2sW3Fsx9hl6zHVZDY5iRzju55BHgBsbXv8AT9yVO3lEqRVXBrDU+rsfZhoNjoZFrnk0RXkhsMhLJ2xvJn4BwMjY/fj8bg+VMLWp5NN4qi7MQTWL9q0+pBDRh5umd90czYAkN3jj5EkgD4kKXi1mKwkiKHx9VMFMavbNqRsoaZnCu4CpyldC0Tb+WnuMezbzsWuJ2A3XniOq+HzjoTTrZF8L4m2XTuqljIoHbhkz99i1ji14B239xztuI5JcFSmiKEt6t4eTsMjq5OS1ZcwVqjaju7O18ckjHtHoGubDJ5cW7cdnbbhY9XqxWyt18dOrNHTHye+LIWIz25m2nta1oaPea73viNt999tvLeik+RQTSvVOnmMdhPbGPbcuQVjYlrwn2aCeZgcyIuJJBduNh525N3I5N3naqCIiAiIgIiICIiAiIgIiICIiAiIgIiIK46V/s36wflVD/cuLVjquOlf7N+sH5VQ/3Li1Y6KIiIgiIgIiICIiAiIgIiICIiAiIgKP5zSJzmew+U+V79I4yR0kdWsIO1IXNc13PnE53lriPdcP9/lSBFFRSzoAZKamMjnMnk6NZzJBSs9jhJI1nEPc5sQefO7tuW3L4beFroelbauNBrZi1WzkcjJ4MmxjHduRlZtYe44EOa6Ng5NO+5JILTxIniJWJgvNq8w3SuKzi3DUG8mSlgtV7M1e13O+Z3xPdOXdphbIHQs4hoAYAAN9htujoRlvTebxV3IWJ35Z73WLjA1shBa2NvjYt3DI2A+7xJB93Y7KUor4/BcoBU6P1sc/vUc9laNsunLp67KrdxKyFjmhnY4tAFePbiAQd/JWRjOkmJxEtWKtZuNw9WVtiLDuMbqzZRF2w7cs5nx52L9uXnZTdFOemheyuIehGn6sWMEUs75qLXxixahr2XzRueHcX92Jw93iGtLQCANtyprkMDBksnirsr5WyY6R8sLGEBhc6N0ZLht8Gudttt6rZIrtRvaP4TSRxeWlydrLXsxddAKzJLgib2ouXItAjjYCSdtydz4Hp8fDW+nL2opdP+w3ZMe6lkfapLMIYXsZ2Jme6Htc07mRo2I9CfRSdFO0c7nfz/KQCt0XwdPK0sjFJK65A0CaWxBXmdZIlfMXuL4iWOL5ZCTHw+l8Nm7ZlTpfSxza0VTJX4KzaEONswfcXtuQRcgwScoyQdnvBLOO4d+IbTNEmImKkuYm0I0x0mxOlXY81ZpXewTd6DaCvETtDJCA8xxNL/dld5cSdwPPrvzR6UY7HtrxQ37/ALNDFRZ2HOjIe6rIHxPJ4b7nbi4AgEegB8qbIrOZuTRAdP8ARnDaay1PIVZZHzV44o3GevXkdKY2CNji8xc2niGg8HNB4g7b77z5ETwa5EREQREQEREBERAREQEREBERAREQEWmm1GINXVMC6lODZpS3GXN2do9t8bXM25cuX3Vp9NvxqPWeqdaHK6npsrwyDAxPknHtkfeeWwsk8Q/SDTzDeR8bgqX28+y0wulf7N+sH5VQ/wBy4tWOoND1EkknbjamIfkM8ZZopYIXtii+4ti7spe4+G7yxtA8uJI8bAkYR6zV3CxPHhbj6VKCKa/I6SNstVz5pYTGWF3vuY+B4PEnfxx5bje9vIsZFqdM5iTNY6SSdjY7MFiarK1m/HlHI5m439AQA4D8a2yJ4EREBFwTsCVWF37JDReO7HtcWqqvtErYIe9ozMs7kjvosbvU8uOx2A8+EVaCKN6P1/itc+1/JsGYg9l4dz5Wwl3G78uW3D2mGPn9E78d9vG+243kiIIiICKG9VuqeM6QaUmz+Vx+ZyVWLfeHCY2W5L4G+54Diwfynua38aoboL9nxh+t+b1TEzR2oMfjMUK/s0lHHWcpPN3DLyMrK0LxDtwbsCTv72xOx2i0+q0VcfPzgf4j1r+ZmW/Rk+fnA/xHrX8zMt+jIUsdFXHz84H+I9a/mZlv0ZPn5wP8R61/MzLfoyFLHUXyvULHYXVNjCXGSQvhxTss6ydu322uc1zfXfkA0n09AfqXpo/XlDW/tfsVHN0vZeHP5YwtvHcuXLbh7RGzntxO/Hfbcb7bjfB1N00qar1A3JW7UrGtZWa2GJoG/afMXNcTvux7ZnMLdh4+P1FxU3zP8d8B1QwmaxeHtTTOx1jJ1GW2U7A3fGHRmTg4t3bz4tceO+5DSRuAsu11AwlWYF2SpCk2B881s2GhsTQInA/jBbMw77+A5v74KH1ujmTqWMOWakilhxXYdVbYpyP7bo4jH7rROGAOJ5H3S47kctttu9ToeyhQjoV8yRShjnbE19UF7TNJBLIS4OAPvwuIGw2Emw8NAVjN7c56JiK5znZKavU7S1x0jYs1X5RMlfIH7tMYjBLw7cDi4NBcWnzx87beVk5nXmn9PvezIZWCtI07GMkl+/Dn4aASfd947egBPoCtBnulLM7BfifkjC23etXCWwblompPq8fpfDnz3+O223xXSj0zvnNzZbJ5mvZtyh4cyrRMMYDq4hGwdK4+NuXr5328LMzP03EZqPXePhqI6bzOM/4leD1XiNTNsOxeQgvNg483RO3ADhu1wPxaRvs4bg7HY+FoMj1a0/VpwWqt6C9A63DWlcx5HBsvIMkaNiXtcWkNLfDj9Ele+G6fR4yC1BLcdYisYaph3hkfbO0LZgXg7ny7venw4+p38aIdK8u6Sjakz1J2QxzKsNR7ca5sXbhc47SME27nO5eoc0Dbw3yVuajrqNLj0vPPPhmP+fNT67c8eUsp68wGQnrxVsnDM+eMyt4g7NaC4HmdtmHeOQbO2O7HDbdp2xvnN0v2I5vlmDjJJ2o27O5vdx5e63bk4cTyBA2LfeB28qKWui1i9E6KXNRwC2LIyFilWkgnsCd0r5I9xMW9sGY8Wva8t2JB3duNppjphJhcrQyNu/Fbt1Q9jpGxzl0zDHwaC6aeQjbdx2Hj3iNvis6xK4tIMlr3T+IibJaysEbHQssAt3f9yeHFsnug7M2Y48vQBpJICwqnUvD37tiCGYRsqXJKdma0eyxhZC6UuaXeHjZh9D4AJ9PWJ2eiFv5Jnx9XUIbXmM0Top60hjFYxiOvEWsmYXdloO3Ilri9xLd9tsq30YfkMZYxljMNNF80kzO3V2lBkpPrPBcXkHy4PHj4cTvvunf7Y++P1FlRj3Sj5ytM+wNt/K8PadN7O1uzu46XgXhgj25ElgLgAPLfI3C39G9XydKC5UmZZq2I2yxTRO5Nexw3DgfiCCodR6e3XanragymVr2cjFMx7m1KZhidGyCeJrQ0yPIdvYe4u3PoG7DbdSPSmC/UxpnF4jv+0+w1o6/e4cOfFoG+252329Nyqy2qIiAiIgIiICIiAiIgIiICIiAiIgIiICIiCLZfTGYvaypZqpl6VWtVpWKja0mPdLITKY3F/c7zR4MTfHD0J8/EavUfTzJ6sfwyWWpGvDHY7HstB0UvclgdDu95lcC0B5OwaNyG+fd8z1FKxS3uribQedxPez2Ht0jqUusymtaic6tIJhEXw7hzT4fCwtf4+ILfPjWYfotXtuhzdppq6gaYLEU16pDJNXsMs2JpX+5I5vCU2Hjg13ut297cAiV6I1Vd1DqTX9G0IhBgs5HjqpjaQ4xOx1KyefnyedmTyNvHEfDcy9XSq2qvFE7+flp9LYibEY6VtksNqxantS9sktBkkc4NBO2/EFrd/jstwiInkREQFXHWj6Wg/wAq6P8AykVjquOtH0tB/lXR/wCUiirHREVQREQFqsbpTCYbL5DK4/EUaOTyIYLtytXZHLZ4cuHccAC/bm7bffbkfrW1RAREQEREBVprHVeZ0xqzPXqvYs4vG4StdsVbErwXfdbPIRADYPc1v0j6lrRt53FlrVZHSmEy+Rgv3sRRuXoOPas2KzHyM4u5N2cRuNnEkfUfPqpvC7THNVY2eqOVz8EE0NGzTxr8lWDLEcE8TmNbfiidE97mhshkaXEhh2Gzmnl6rMZ1kvY+tib+VoU48ZkqkWSEtaZznVaz3sZtJuNi4Omh94bAjueBw3dPho3ANtWLIwtBtixI2aaUVmB0j2vD2uJ28kPaHb/WAfULrDojTteG9DFgcZHDf/8Au421Iw2x5J98bbO8knz8ST8VOmJiKnv8c5K3GUf0N1Euathve0YxtGzj6wdbhEhdwsc5WmL0+DY2u3+qRq13zpZPIW8DRx9Gm23lalGwJLEriyE2IrUjvDRu7j7N4G435eo9VYdXGU6M1qWtUgry25O7YfFGGumfxDeTyB7x4taNz52aB8FF73SXStsUo48FjatevabakghpRNZOWxysa144+Q3uuI+o+iu/p83+/ZNp/P8AnPKMP6uZl+PyF2LG0BBiKTrl5rpnl0xZZsQPZD7u3n2dzmud68mjbzuOkXWDNZCF1ijg2vrWbTKtaS1FPAyFzrcdcCSRzOLyQ9z9o/TgW+fpKZfNrp52oIcpJiqUrq1SCpUgfVjLKrYnve0x+Pd8v+Hpxb9S2UWkcHBdntx4agy1PI2WWZtZge94cHhxO3khwDt/XcA+oSNYv8+v8J3rx+v6r7qfqrK6T1fpqwH+0VxSmD6sPfDZLD7FSBjyyMkva0zkhpDvBO3kgj0udUdQ1aViZ2HrRewUJsja9qE0LpoopS37nG5oczm0chz+ifGzh5Vj5HCY7MNc2/Qq3Q6J0BFiFsm8bi0uZ5H0SWtJHoeI+oLwg0rhatM1IsTRjrOhdXdC2uzi6JxJcwjby0kkkehJKdOKvz816f4s1SDWep2WiwtTKClWFbLXzRoMjjmnlhLTJu+ZkbSXEticeDQNnENJ9XCc6YydrM4Kpcu030LUjT3K72uaWkOI3AcA4A7bgOAOxG4BWNLoXTc77rpMBjHuuu5WXOqRkzHly3cdvJ5AHc/Eb+q21KlXx1SKrUgjrVomhkcMTQ1jGj0AA8AJGmUnM4e6IiqCIiAiIgIiICIiAiIgIiICIiAiIgIiICIiAiKP6vzmawdeu/C6am1JJI4iSOG5DXMQ28EmQgHf8SCMdK/2b9YPyqh/uXFqx189dNdb60h1h1UfD03uWJJdSxPmjGXqN7D/AJIxzQwkv2d7rWu3Hj39vUFfQFWSSatFJLEYJXMDnxFwcWEjy3ceDt6bhRXqiIqgigmtepF/TmrcVpzEaWt6lyN6jYyBFe3BXbFFDJDG7cyuG5Lp27AfUVh/OBrn8FmQ/rmj/wBxRVjquOtH0tB/lXR/5SJ84GufwWZD+uaP/cUV17k+oOrDpw1+mVyH5MzNfJSdzM0vfZGHbtG0nqeSC8UVcfOBrn8FmQ/rmj/3E+cDXP4LMh/XNH/uILHRVPnusep9K475SzHTTJU8ayaGGaw3K0pO2JJWxh3Fsm5ALwTt52VsICKJ9Suq2k+j+njm9YZuvg8aHcGyzBznPd+9YxoLnH8QBVP9Lvs8+lfVPM5+pWyb8HSxYh7d7NllZt0vMm/abyLtm8BuXbH3h4Qp9GIq4+2O6X/f3g/6Y1Ptjul/394P+mNQpY6KuPtjul/394P+mNT7Y7pf9/eD/pjUKWOijej+o+l+oPtf6m89RzfsnD2j2KYSdrly48tvTfi7b/QVh6utZitqHA18blRB7dZEbqr6zHt7TAZJXlx8+WgMH1Oe0/WgmCKpMadVawojG5G5axediiZZt05mxwMbHLHKxpY6IyCRokafDiCOG5HpvMclnsjpajhKT6js3lb9h9SMtlbE3dsckgc9xA2HCPY7NJ3PohWaSpFVsPX/AA1mYNiqvPbDWWYXWIxYhmczlwEW5Lw3wHPHgcgRuA4t2dPqq+epZuzYOarQo0238hNJYYTWicx0jBxH038GhzgDsOQ2LjuA2mey1OI7p+irSh1nGXkjq47Cm/kJeTmR170L4Q0RmT3pQSA7YFpaASHberSHLAk6s5DJstTVq3sWPdIwUbLS18kgfjjaaJGEbN2+sE+gH1lTqn6YmZ2Onp+qYrdbSKutJdXaedy9DD7NnsvDa8s7Z4+57QIBK8mEe82P1bz/AH3jbYgmxVvq6fpmmIm4ERFFEREBERAREQEREBERAREQEREBERAREQEREBERAREQVx0r/Zv1g/KqH+5cWrHVcdK/2b9YPyqh/uXFqx0URERFcZL/ADi9OfkplP7ZQVjquMl/nF6c/JTKf2ygrHUWRERVBERBXH2Q37UuW/1mj/bIVY6rj7Ib9qXLf6zR/tkKsdRdnjcpV8jVlrW4IrVaVpZJDMwPY9p9QQfBCiGhOjGiOmGZzWU0npulp61mRELwx7DFFL2y8s2iB4N27j/ogb7+d9gpqiqCIiAiIgLCtYandyFa9NEXWq8UsMUge4cWyceY2B288G+fUbeNtys1FFabA6Sx2nJ7E9QWZLE7WRyT3LctmQsZy4s5SOcQ0cnHYH1cT6lYmr9Hs1bawbpbM9aLH232X+zWJIJH7wSxAB8bmkeZAfXzspIiTnU0Riv02wFIgVa09SLsCu+CvcmjilYGFg7jA/Z7uJ25OBJ8bk7Db1m6f4Se02c1pmEV2VHxR2pWRTxNBDWSxhwbIAHEe+D4OykSKltDjdE4rFurOjFud9bn2HW7005jDmhpAL3nxsANv9vqsOLphpyB8JZRkayGNkTIvapu2AyEwNPHnsXdpxZyI3I23PgKVIpOdSJmNGgwuh8Vp+4LFBtqu7g1rohcmMTyGBgc6Mu4l3FoBcRudtz58rfoiszM6oIiICIiAiIgIiICIiAiIgIiICIiAiIgIiICIiAiIgIirPqJqTK4/V+PxdPISUKl6GCKWdjWkwdy0yMvbyBAcQeAJ3ALwdipGerp6Y1nC1ierskmkNIy6az2tshJYZMzUGYjycbGtIMTW0KlXi76zvVc7cfBw+pShUjqnP5jAZwYOC5nM1QrZFm/yfJF7c5rqFmZ1fm8tDy10Ub/ACeRD2jz4Vm9Prd3IaLxFvIW2XrNiATe0MLTzY73mEloDS7gW7loAJ32GysZvmpMVSQoiIiuMl/nF6c/JTKf2ygrHVcZL/OL05+SmU/tlBWOosiItFqrVtbSZw4swyzfKeRhxsXa2918nLZztyPdHE77eVUb1ERBXH2Q37UuW/1mj/bIVY6rj7Ib9qXLf6zR/tkKsdRdhEXmJ43TOhEjDM1oe6MOHIA7gEj6jsf9xVR6IiICIiAiLCdmqDMo/Gutwtvsr+1OrF4DxFyLee373cEbqKzUWJisrTzmMq5HH2Y7lG1G2aCxC7kyRjhu1zT8QQstVBERAREQEREBERAREQEREBERAREQEREBERAREQEREBERAREQEREBYV/CY7KiUXaFW2JYTXk78LX84ydyw7jy3fzt6LNRRUP0NpbTuBbdx+InjuRYu87/ACZ7YnHHTuiDi0OawP5GOZp3eXOLXjzsVKadKvjq7a9WCKtA0ktihYGNG5JOwHjyST/tVf8ASj9l/Vv8q2f3RjVY6oIiIiuMl/nF6c/JTKf2ygrHVOdQNY0tF9fdL271XK2opdM5OJrcRibWRkB9qondzK8b3Nb4+kQBvsN9yFvPn707/E+tfzIzH6KoqxiNwR6f6F899W+lFmm7RW+vdX2e7qWnEO/dhPb3Envt2hGzht4Pn19FPvn707/E+tfzIzH6Kse31q0nkOx7Vp3V9nsStni72hcu/tyD0e3ep4cNzsR58oJXo/Rsukva+7qPN5/2jht8sTxy9rjy+hwY3bfl5339ApIq4+fvTv8AE+tfzIzH6Knz96d/ifWv5kZj9FQPshv2pct/rNH+2Qqx18/dbOsmEz3Tm9Qr4vVcM09qk1r7uk8pVhH+Vwn3pZa7WNHj1cQvoFBDeq2g8n1F0pNicTrLM6JtP3IyGF7QlPj0Je0uA+PuOY7+UvnT7HT7DHXHR3Vmt7mU6q5SaLM+yuiyeJEJtWjGZuXtLbcE+xHNvHg877u39Avovqt1YwHRrSk2odR+3jHxbgmhQmtO3232PbaQwfynlrfxqkOiX2fWketGa1LDBgM7icZixXNez8n2L01nuGTlzjqxSCHbtjbk48uR2+iUXK2vmnz/AOFrWv8AN4n9AT5p8/8Aha1r/N4n9AT7YHR/1ai/NTK/oyfbA6P+rUX5qZX9GRMnzT5/8LWtf5vE/oCfNPn/AMLWtf5vE/oCfbA6P+rUX5qZX9GT7YHR/wBWovzUyv6MhlI9H6Tv6X9r9u1bm9U9/hw+WG1B2OPLfh7PBF9Lcb8uX0Rtt53i2udA5fUOtZMjjzHXikx8GOlnfJtzrvknFljQNyHBr4ngkbEtA39dpTo/qBh9d+1/JIyI9l4d35QxVqj9Lltx78TOf0Tvx328b7bjfWai6ls0zrCxibdX/IosQ7IttNd7zpA6T7iG7epbG9w8/uSpNc+yxdTXj9x8q8wehNZYU0WupSOfTpVxRED2BsPbgAfWdILDeDXyB3ItjfuHtO+7Rwy9MdPM5eyXay+NtV8E+Z8xqPsNij5OrNb+tsnkO3cG+znOPL3j58qWYDrLjLen8Zfy8bsdJLUhmvSsBfVpSyRh4ifJ487Hwdvi3fbk3fvR6nPyWoZqoqS4+mPYO17fVeyaTvusbkDfwCImEbgEEuDhv4CYuJ6e+PXnyXOJ7JTo+C/V0lhIcryOTjowMt83h7u8I2h+7gSCeW/kE7rbqFfOziO++oKmSdkhYbWbjxVJnc50T5WnbfZoLI3ndxbtxIOxUpw2WrZ7E0slSeZKluFk8L3NLSWOAI3B8jwfQrcz9UzLNVhmIiKAiIgIiICIiAiIgIiICIiAiIgIiICIiAiIgIiICIiAiIgIiIK46Ufsv6t/lWz+6MarHVcdKP2X9W/yrZ/dGNVjqKIiKorjJf5xenPyUyn9soKx1XGS/wA4vTn5KZT+2UFY6iyIiKoIiIK4+yG/aly3+s0f7ZCrHVcfZDftS5b/AFmj/bIVY6i7HqtBgNAaa0pmMplcLgcdicjlBGL1ijWZC6zw5cDJxA5Ec3eT58rfoqgiIgIiICjmZ0DiNQZluSvxyTzM9mLGc+LGOgfI9jhtsd95XAgkgjxt67yNFF2pXEPQfTkEjtu5JDLVbVsMmhrvdM1sXaDu4YubHcNh7jmj3Qdh532EfSys+WSa9m8tkrL/AGYd+Z0LHNEHd4AduJv/AKzyT677bEKW5DKVMVEJLlmOuw77GR23LYbnYfHwCfH1LJa4PaHNIc0jcEHcFKiqW51QTS/R7F6WyFO7Feu2Z6hj7YkZBGzZkU0YBbHEwHxYeSfUnY7/AAMs0/hINN4Ohiqz5JK9KBkEbpSC8taNgSQAN/H1BbBFZm8yyIiICIiAiIgIiICIiAiIgIiICIiAiIgIiICIiAiIgIiICIiAtRqLWGB0hFDLnc3jsLFM4tifkbcddshHkhpeRuf9C26xruNqZJrW26sFprTu0TRh4B/FuEFKdMOruhKmq+qck+tdOwx2dTslgfJlYGiVnyVj28mkv94cmubuPG7SPgVeEE8dqGOaGRssMjQ9kjHBzXNI3BBHqCFVfSvTeJk1d1Ya/F0nBmqWNYHV2HiPknHHYePA3JP+1WsxjY2hrQGtaNgANgAorsiIqintf6yw2hevGl8jnroxtCTTWTrtsyMcWGQ2qLgzcA7EhriAf3p+pbr7Yvpv99dP/gk/wqx0UVXH2xfTf766f/BJ/hXST7JHpnDw7mr6LObgxvIPHIn0A931VlKuOtH0tB/lXR/5SIH2xfTf766f/BJ/hT7Yvpv99dP/AIJP8KsdEFA9ZutWitV9PreJw+ehyOStW6LIa0EUjnvPtcJOw4/UCf8AQFfyIghvVbL64wulJrOgNPYzUmdG/Gpk8gajNtvBaeBDzv8AuS5g/lL5x+xz6pfZK6m1lrmDXGisfG+q2oatDJWH4mrAHGbka8jK1j2gHi3cl548W7E8jt9gIgrj9UXVj7xNJ/nfY/8AGp+qLqx94mk/zvsf+NVjoqK4/VF1Y+8TSf532P8Axqfqi6sfeJpP877H/jVY6II3o/I6sv8Atf6qMDicJw4ez/JeXkv93flz5860PDbZu23Lfc+m3mLdQs1gIdb4HH/K0FHUrpoLBfLfMfYqsk3cOBeATLsYg0Dd25PkR+LNRSsxJ3UvoLTGL1ALGDkyVHPRUa8Fh+ZxR5NsPkZNG6OXm6Uc9hz3aRvzHgD1lOs8mNC0tM46tmq2Ao3L8laW9dEZ7bOxNKA0uIYDyY0DcEbeNip81rWb8QBudzsPisLIYark7ePs2GF8lGZ08PnwHGN8Z3Hx917knSi82pWh1g1PflAe2tVnhrxyMhl7MUd6IxF7rLWvl7vnYlrWNI9xwJO+7dxDr/OUmz+3Zmm7I1sXFfrYvsMjflpZI3vLIgXcuIcAxobu4EEuLtwFbxY0uDi0Fw9Dt5C5LQSCQCR6H6k2nndbi4xzHPypnAa71NqaejUq5ioyC33H+3NjrTygth5lgbFK9jQHcduRLuLiCNxyOjGschm2yTXskyeXI9mePFuA/wAmjkw75S+Ib8uPcDm7ncfS+K+gWsazfi0N3O52HxXPEct9hvttup1x9UTHfnPsvR1fTUqe6da+y2W1Dj8UHQxU4WMgNWSSAF0Aqteydg7ndc5ziPPDhxJ+I3NxLqI2NIIaAQOIIHoPqXZdOrq+qbc4iooREWVEREBERAREQEREBERAREQEREBERAREQEREBERAREQVx0o/Zf1b/Ktn90Y1WOq86W1poNW9VnyxPjZNqhkkbntID2/JWObyb9Y3a4bj4g/UrDUUREVQREQFXHWj6Wg/yro/8pFY6rjrR9LQf5V0f+UiirHREVQREQEREBERAREQEREBERAREQEREBERAREQEREBERAREQEREBERAREQEREBERAREQEREBERBpptRiDV1TAupTg2aUtxlzdnaPbfG1zNuXLl91afTb8aj1nqnWhyup6bK8MgwMT5Jx7ZH3nlsLJPEP0g08w3kfG4K2OX0xmL2sqWaqZelVrVaVio2tJj3SyEymNxf3O80eDE3xw9CfPxGr1H08yerH8MllqRrwx2Ox7LQdFL3JYHQ7veZXAtAeTsGjchvn3fOds+f3j2axb1j6jzTTMxlbEyZHOiWaGSvFI2KIdkR92Tm4+GcpWNA8uJcPGwJGCes1dwsTx4W4+lSgimvyOkjbLVc+aWExlhd77mPgeDxJ38ceW434m0HncT3s9h7dI6lLrMprWonOrSCYRF8O4c0+HwsLX+PiC3z41mH6LV7boc3aaauoGmCxFNeqQyTV7DLNiaV/uSObwlNh44Nd7rdve3AI1H/m9cX81z7YTGfzXwsTTOYkzWOkknY2OzBYmqytZvx5RyOZuN/QEAOA/GtstPpbETYjHStslhtWLU9qXtkloMkjnBoJ234gtbv8dluE2N559hEREcE7An1VE9Rdf39UHS5paD1j/9OzlbIT9zFhv3KMP5be/5PvDwr3RRUb0frQ6v9r3wObwns/D/APMVOx3eXL6HvHfbj5+rcfWpIiKoIiIIZ1W6h2emWlJ8zV0nndYyR7j2DT8DZp/TwS0uB4/jaHEfUvnn7Hf7N7UHWrU2tKtzpnlatXDezNhpYprZ7ULnmXl7Q6V8QG/bbxDW+Nnbk+F9crwjo1orkttleJlqZrWSTtYA97W78QXepA5HYH03P1qKr/54b34Nta/0Sr+kJ88N78G2tf6JV/SFY6IK4+eG9+DbWv8ARKv6Qnzw3vwba1/olX9IVjogjej9YT6s9r72m83p72fht8sQxR97ly+hwkfvtx877fSHr8ITrvIZzHdSZpcQbM4lxEFD2eLk+OGSeWwI7DmjwAx8bAXbeGuO/gK2kSr15st1E83tQ+gM5mBQ05h6N8VpLUdKtNkJ4zYncwUJpeRL3bF/KNvvEH47grOwWts7qCxim17FXG28v7J7Tajrdw+aE0zuLXO2B5RjbffYb+vqrqROq+q/JExGymcJ1PzVSPDWc3kaIqX6uMvWJ3QiCKq2z32uYCXHZvKOPYuJO7j58gDzf1J1Hl6li7jclShgrtgkZ/kndbOJMjPWG55j3e3G0+NiXbHfbcG6XNDgQQCD8CuVf7yEme3jn5VvY1ll8Zo3LzT24H2qGXbjX5OaENZFC6aNpnewED3GSEn0b7u52G6hOT15b+X4bztU46oKNHKw08o+JhjyYY+o5ga3kATyLo3cPLjG7jx38X76rjg3iBxGw9Bt6LNZifHxV/ufzXZq4vTf50Uhe6vZrHi9HYmiN2SSIujqOrSRY6F0rGPL3Oe0slbzDXCbZvI7tJDXNWwoa61VYgyN91unJVxFGvefBBHHK63EbE4kJex7mh3YgBAYduZPnbwrf4N3ceI3d6+PVctaGgAAADwAPgtbYZUlb6uZOxlcXHWyEMPt1iDhUcyJvKrZmcyCRvJ3ce/t8H+60NB5Ak+gwtN68v1sVge5na8jreLxbL+oLIY41S/2ov5nfhyD42xgu9HSbu39FfXEcuWw5bbb/FccG8S3iOJ33G3g7+qkRXr7dlmbtTcPUXUdynYuxZCma2OrRWCYqu7b7TesQB4cXe6x8ULXjj8XggkeDcyIqk5mxEREEREBERAREQEREBERAREQEREBERAREQEREEQ0Nqq7qPP68pWmxCHCZxuOqmNpBMRoU7G7vJ3POw/yNvG3jxuZeq46Ufsv6t/lWz+6MarHUUREVQREQEREBERAREQEREBERAREQEREBERAREQEREBERAREQEREBERAREQEREBERAREQEREBERAREQEREBERAREQVx0o/Zf1b/Ktn90Y1WOq46Ufsv6t/lWz+6MarHUUREVQREQEREBERAREQEXnPPHVhkmmkZDDG0ufJI4Na0D1JJ9Aorozq3o3qJmMxi9L6kx+fuYgRG8MdKJmQdwvDAZG7tJPbf4BJG3nZBLkREBERAWsjz0Mmo7eH7bmzV6kVx0p24lsj5Ggf6R2j/vC2aiGe0ZkMnqG7fqZSrVqX8fHjrVaek+V5Y18ri5kjZWcSRMR5a7bYH8SzN7NRVZ8fuL9rZ+M1/p3MSNZTy9aZ7nhjAHbc92PeHN3+k0tjeQ4eCGO2J2K4l6g6diowW/levJBPFFPCYiZDKyQPLHNa0EuBEch8D0Y4+gKh9/o1dzOOMV/PRC7DVr0adqpRMXZijceRc0yHk97HOZuCAA47D1385OhohmfZp5h0Vpl+WzW3bLGyKu9pArHtTMcQ0uc4EOHrtxWp3rnPbPhIrdO6essLkprsVLIRXZKcTZpxWJkDGuYHt3I3G5a5rgPUggjwtDpLqzh9Q4LE3btitjbOQrNttq9x7+2xzS5oe5zG7OLWuOxA34u48gN1tNIaMi0jTyNaCVhitzMlayKIsbEG14oQ0bucSPuW/k7+dvO25hlLoWKLGVxlhYqOqV4ZmTsn270NdsLZWMbOIx+txu2cxxBB8+RtmbjTx838L01OqZQ9SdM2KElyLMQS12PZHvGHOc9zxuzg0Dd/IAlpaCCAdt9iszH6ywuVyXsFTIw2LfDmGMJ2I2BIB9CQHNJaDuA4EgbhRm10xssy2OytDLRQ38fBVih9oqGSI9mOxG4uaJGn3m2TtsRxLR5cCQu+lemkuntRS5GxkIr8bp57jGFthpinmJMhY107o2t3fJtszcB23I7Enc19Uxsz/5id08REUBERAREQEREBERAREQEREBERAREQEREBERAREQEREBR/V+iqetK9eG3ezFFsDi9rsRlbFBziRts50L2lw/Ed1IEQVdT+x00zjp7s1XLavry3ZvaLL4tWZJrp5eDY+byJ/edwjY3c/BjR8ArMq121K0UDXPe2JgYHSvL3kAbblx3JP4z5K9UUUREVRGXaHDoJYvl7ODnkvlLmLx5N/9gHbxD/I//qXNDi5Dk4/l7OQ+3WGWOUN4tdX4n6ER29xh+LfipMiKjmQ0WMg7OH5czVb5VEQIr3Sz2Tt/wfx9z5fuvXdc2tGi1NkZPlvMw+2VW1eMVwtbBsP1yIbe7Ifi5SJEEd/UcPaDL8tZnzjPk3h7YeP/AM+236//AO5//Eq6NFWbHyfLeZl9jqOqcZbhc2bcfrkg296QfBykSIiOY/RYx7sI75czVn5LEoAsXS8W+5/6/j7px39302Ww07gxp3GMpC/eyXF7n+0ZGfvTHc77F2w8DfYfUFs0UEQ6n9JtKdZNNPwOr8U3LYxzuYiMr4nNd8HBzHAg/wC1U50m+wJ6bdJc1qGzWZczdDKCDtU8pJyNMsMm/B7OJcHcx4cCRxHk7r6SRFtXH2uvTn71q387L/iT7XXpz961b+dl/wASsdELVx9rr05+9at/Oy/4k+116c/etW/nZf8AErHRC0b0f0605oD2v9T+LixntfDv9tznc+PLjvyJ9OTv96Z7L5DH6u0zVglgGPvyTw2InQkyEthc9pa/lsAC3yOJ339QpItLl9H43OZjHZS2LZuY9xfWMN6eFjSQQSY2PDHbgkHkDuDt6IIvqPVmY05quzLdZZg0+1jWVHxwRPisTGJzi17+fcaS4bA8eO4A38hajC6vz92zV09FeiZblsxxHJSxdxzWewRWJCGk7F7nyEN38Bu/g8djNo+n+GZbqzuZcn9l49mCxfnlhaWs4B3be8tLg34kb7+fXysT5r8MMK6gw24ZeTJI78Nh8dmKRkIhZIx4PuuEYDfHhw35A7ndpEriZhAM91WzWHvjH2siyrPSF6KW1VxMlqO1NG+qIOTGk9trhZAdu4Dl+6AUkn1NnMZ061tdmJizGKZLJG1rmymKQ1Y7HAF3hwa+VzRv42aFuMB01oUMOynk2V8pKK9mo+cMkZ3oZ3NdN3A6R5e97mAueTuT6bblbKLRWNGAyWHnE1unke4LXemd3JGvbw2LwQ7wwNaDvy2aPO/lIxFb1737ciPK4vTdE8r1rr4K6/F5HHMo5xpL/ZLF6KON0IY1/MSkgEnkGhu2/Lf9yOa64XqlauNsNrY+xmbMs1qzBACyB0VSIReDy23fvK0Bp9STuQBupGOmWBb77Y7rbXdMvtzcjY9qJLQwgzc+Zbxa0cSdvdB23AK5u9NMBeMjpILTJJJJZHSwXp4pD3AwSNL2PB4u4NJbvtuAdt/Kmbn7fzn/ANwxUR5/qOQdecLarRTw1LUjZa887Bs0EuaT2Y9ifpTNa57B9TfOy3+t8nlcNPi7FC9CGzXK9VmNdX5Psl8gEnv8txxi5v8AA8cCTuPC9H9MdMPtGx8kxtlNqtc9yR7QJa7eEJADtgGt8cQNj53B3WVl9D4nOZ2pmLQu/KFSMwwyV8jYgaxpILhwjka07kDckbkAA7gALU1cVzmnundBIX6q1XFYxF+3ZxWYIkseyTNjhjNdzZogWPiMnMBzoyQ/YjiDsNwpjkc3f0njcXWlrvzeSvXX04A2VsY8iWRhe4gbARxgEgE7+gPxz8JpDG6fuTWqwtS2ZWNiM1y5NZe1gJIY0yOcWt3JOw9fj6BY+sNJN1a7DNfZmrRUb3tbzXmkhkcOzLHs17HBw8yA+vkAj4qbRzmPcnWZ5p/UWb1zxbr1Sn7KWWiWtt15bMbZYXGxJXLWM33lLZIpN+P7lu43JAWTgerMmeibYZgZ61NlOPI2ZprMYMFaTlwfxG/Jx7b3FoPhoB33PFb6p09wmPsU5qcNmnJVY2IGvdmZ3Wh7ngS7P+6+897t38iS9259478RdO8FXkpPgrT1vZK0dNjILkzGyQs34RyND9pWjk7w/f6TvgTvJusLi8oviutkWedVgxmIN65ckY2uyG7E6MNfFLK0ySAkMcBA4OaA4jdu3IHdcUOqlzNWHSsomliX/JT4Jw5rpnG1I1pY9h8AeSCQfGx233Cl2L0LiMP7F2GWnilJ3arbF2aZsB7bo9mB7yAOD3Db08/iG3jW6cafqPgMNOSNkMVaJkQsy8Nq7w+ElvLYua4D3j5I8EkeFqdcaXHpukaZRDRnWeDIx4HHWyy3kZoKkdyYTRslE80TXgthGxc3ZzS5wADeQ2BAdxtVRvD9PcLgLNabHx2qhgjZEI47swjkaxvFncZz4vIb4BcCdg0fuRtJE2J1wIiIgiIgIiICIiAiIgIiICIiAiIgIiICIiAiIgIiICIiAiIgIiICIiAiIgIiICIiAiIgIiICIiAiIgIiICIiAiIgIiICIiAiIgIiIP/Z)"
      ],
      "metadata": {
        "id": "UDDpVTVtedkZ"
      }
    },
    {
      "cell_type": "code",
      "source": [
        "fig = plt.figure(figsize = (10,10))\n",
        "ax = fig.gca()\n",
        "#박스 플롯\n",
        "#최소값\n",
        "#제 1사분위 수 (Q1)\n",
        "#제 2사분위 수 또는 중위수 (Q2)\n",
        "#제 3사분위 수 (Q3)\n",
        "#보통 이상치를 볼때는 박스 plot을 사용해서 찾는다.\n",
        "train_df.boxplot(ax = ax)\n",
        "#label을 회전\n",
        "plt.xticks(rotation = 90)\n",
        "plt.show()"
      ],
      "metadata": {
        "colab": {
          "base_uri": "https://localhost:8080/",
          "height": 614
        },
        "id": "hrFonwXcdySv",
        "outputId": "7cbc2c36-c9b7-4295-abd3-70b8424b9670"
      },
      "execution_count": 89,
      "outputs": [
        {
          "output_type": "display_data",
          "data": {
            "text/plain": [
              "<Figure size 720x720 with 1 Axes>"
            ],
            "image/png": "[encoded data removed]"
          },
          "metadata": {}
        }
      ]
    },
    {
      "cell_type": "markdown",
      "source": [
        "월 급여 특성의 분포로 인해 분포가 앞축된 것을 볼 수 있다. \n",
        "\n",
        "데이터 분포를 잘 보기 위해 월 급여를 일단 제외하고 다시 boxplot을 그린다."
      ],
      "metadata": {
        "id": "9ZKIcI-LejfB"
      }
    },
    {
      "cell_type": "code",
      "source": [
        "fig = plt.figure(figsize = (10,10))\n",
        "ax = fig.gca()\n",
        "train_df.drop(['월급여', '아이디'], axis = 1).boxplot(ax = ax)\n",
        "plt.xticks(rotation = 90)\n",
        "plt.show()"
      ],
      "metadata": {
        "colab": {
          "base_uri": "https://localhost:8080/",
          "height": 614
        },
        "id": "Sr0CPSVyd-u3",
        "outputId": "7efbd530-8df2-4cbc-c076-8f9b1e496f31"
      },
      "execution_count": 90,
      "outputs": [
        {
          "output_type": "display_data",
          "data": {
            "text/plain": [
              "<Figure size 720x720 with 1 Axes>"
            ],
            "image/png": "[encoded data removed]"
          },
          "metadata": {}
        }
      ]
    },
    {
      "cell_type": "markdown",
      "source": [
        "여행인원, 후속조치수, 평균 연간 여행횟수, 월 급여의 분포에 이상치가 존재하는 것을 확인할 수 있다."
      ],
      "metadata": {
        "id": "TNuhw_mpeqQ9"
      }
    },
    {
      "cell_type": "code",
      "source": [
        "#상관분석하기\n",
        "#각 변수가 어떤 상관 관계가 있는지. 수치가 높을수록 관계가 있다는 것이다.\n",
        "fig = plt.figure(figsize = (10,10))\n",
        "sns.heatmap(train_df.corr(), annot = True)\n",
        "plt.show()"
      ],
      "metadata": {
        "colab": {
          "base_uri": "https://localhost:8080/",
          "height": 596
        },
        "id": "qPmXi2Y7eqkK",
        "outputId": "04f7e9d2-0436-4019-c490-074642717332"
      },
      "execution_count": 91,
      "outputs": [
        {
          "output_type": "display_data",
          "data": {
            "text/plain": [
              "<Figure size 720x720 with 2 Axes>"
            ],
            "image/png": "[encoded data removed]"
          },
          "metadata": {}
        }
      ]
    },
    {
      "cell_type": "markdown",
      "source": [
        "<pre>\n",
        "위의 히트맵으로 아래와 같이 약 상관관계가 있는 특성들을 볼 수 있다.\n",
        "나이와 월 급여(0.44) - 나이가 많을 수록 경력도 쌓인다는 것을 볼 수 있다.\n",
        "여행인원과 미취학아동(0.61) - 같이 여행가는 미취학 아동이 많을수록 여행인원이 많아지는 것을 알 수 있다."
      ],
      "metadata": {
        "id": "yfcdggMHe0-5"
      }
    },
    {
      "cell_type": "markdown",
      "source": [
        "#### 2.2.2 범주형 데이터 탐색"
      ],
      "metadata": {
        "id": "0fT1Ri50e8Tu"
      }
    },
    {
      "cell_type": "code",
      "source": [
        "print(train_df.select_dtypes(include=['object']).columns)"
      ],
      "metadata": {
        "colab": {
          "base_uri": "https://localhost:8080/"
        },
        "id": "AXJvqoJ9eyrq",
        "outputId": "e6b81442-4887-4b7b-b2fb-b90c5a9fb3ad"
      },
      "execution_count": 92,
      "outputs": [
        {
          "output_type": "stream",
          "name": "stdout",
          "text": [
            "Index(['탐색경로', '직업', '성별', '제시상품', '결혼여부', '직급'], dtype='object')\n"
          ]
        }
      ]
    },
    {
      "cell_type": "markdown",
      "source": [
        "범주형 데이터에는 sns.countplot을 사용하면 깔끔하게 구분이 된다."
      ],
      "metadata": {
        "id": "xgauqIjAfFok"
      }
    },
    {
      "cell_type": "code",
      "source": [
        "fig, axes = plt.subplots(2, 6,  figsize=(24,14))\n",
        "#이건 전체 데이터의 구성을 살펴보는 코드\n",
        "#원래 범주형 데이터라 카테고리로 정렬되어 있음\n",
        "#그래서 처음 반복문은 이 처음 카테고리를 보는 것\n",
        "for i, col in enumerate(['탐색경로', '직업', '성별', '제시상품', '결혼여부', '직급']):\n",
        "    g = sns.countplot(train_df[col] , ax = axes[0][i])\n",
        "    # axes[i].legend()\n",
        "    g.set_xticklabels(g.get_xticklabels(), rotation=45,\n",
        "                  horizontalalignment='right',\n",
        "                  fontweight='light',\n",
        "                  fontsize='x-small'\n",
        "                 )\n",
        "    plt.xlabel(col)\n",
        "#이건 사용, 미사용에 따라 분류하는 코드\n",
        "for i, col in enumerate(['탐색경로', '직업', '성별', '제시상품', '결혼여부', '직급']):\n",
        "    g = sns.countplot(train_df[col],  hue = train_df['신청여부'].map({0:'미신청', 1:'신청'}) , ax = axes[1][i])\n",
        "    # axes[i].legend()\n",
        "    g.set_xticklabels(g.get_xticklabels(), rotation=45,\n",
        "                  horizontalalignment='right',\n",
        "                  fontweight='heavy',\n",
        "                  fontsize='x-large'\n",
        "                 )\n",
        "    plt.xlabel(col)\n",
        "\n",
        "\n",
        "plt.show()\n",
        "plt.close()"
      ],
      "metadata": {
        "colab": {
          "base_uri": "https://localhost:8080/",
          "height": 609
        },
        "id": "sWE2XvTKfF4U",
        "outputId": "7aff4acb-835a-4a4a-b2f8-f4e03ecf78e1"
      },
      "execution_count": 93,
      "outputs": [
        {
          "output_type": "display_data",
          "data": {
            "text/plain": [
              "<Figure size 1728x1008 with 12 Axes>"
            ],
            "image/png": "[encoded data removed]"
          },
          "metadata": {}
        }
      ]
    },
    {
      "cell_type": "markdown",
      "source": [
        "<pre>\n",
        "탐색 경로는 직접 탐색해서 문의한 고객이 여행사의 마케팅을 통해 유입된 고객보다 많다.\n",
        "직업은 작은 사업을 하는 사람과 월급을 받는 직장인의 방문 비율이 가장 높다.\n",
        "성별로 봤을 때, 여성보다 남성의 방문 비율과 신청 건수가 더 많다.\n",
        "제시 상품으로 봤을 때, 베이직과 딜럭스의 비중이 많았고, 그중 베이직의 신청건수가 더 많다. \n",
        "결혼여부로 봤을 때, 기혼 인원의 비중이 가장 많았고, 싱글의 상담 비중은 크지 않았지만, 신청 건수는 기혼 인원과 거의 비슷하다.\n",
        "직급으로 봤을 때, 경영진과 매니저의 비중이 가장 많다."
      ],
      "metadata": {
        "id": "x2bg3IDsfW81"
      }
    },
    {
      "cell_type": "markdown",
      "source": [
        "### 2.2 전처리"
      ],
      "metadata": {
        "id": "QgzNIyhHfZJ0"
      }
    },
    {
      "cell_type": "markdown",
      "source": [
        "불필요한 아이디 특성 제거한다."
      ],
      "metadata": {
        "id": "46cnSpNQfc5F"
      }
    },
    {
      "cell_type": "code",
      "source": [
        "train_df.drop('아이디', axis =1 ,inplace = True)\n",
        "test_df.drop('아이디', axis =1 , inplace = True)"
      ],
      "metadata": {
        "id": "3t3RmaIifXKM"
      },
      "execution_count": 94,
      "outputs": []
    },
    {
      "cell_type": "markdown",
      "source": [
        "#### 2.2.1 결측치 처리\n",
        "\n",
        "isna()함수를 사용해서 결측치가 몇개 있는지 확인"
      ],
      "metadata": {
        "id": "ofsRnmeifiWa"
      }
    },
    {
      "cell_type": "code",
      "source": [
        "round(train_df.isna().sum()[train_df.isna().sum()>0]/len(train_df),3)"
      ],
      "metadata": {
        "colab": {
          "base_uri": "https://localhost:8080/"
        },
        "id": "4ccUrSPuffOs",
        "outputId": "52763a44-3532-43a7-bfa2-c55b3999bbcf"
      },
      "execution_count": 95,
      "outputs": [
        {
          "output_type": "execute_result",
          "data": {
            "text/plain": [
              "나이          0.048\n",
              "탐색경로        0.005\n",
              "프리젠테이션기간    0.052\n",
              "후속조치수       0.007\n",
              "선호숙박등급      0.005\n",
              "연간여행횟수      0.029\n",
              "미취학아동       0.014\n",
              "월급여         0.051\n",
              "dtype: float64"
            ]
          },
          "metadata": {},
          "execution_count": 95
        }
      ]
    },
    {
      "cell_type": "code",
      "source": [
        "round(test_df.isna().sum()[test_df.isna().sum()>0]/len(test_df),3)"
      ],
      "metadata": {
        "colab": {
          "base_uri": "https://localhost:8080/"
        },
        "id": "SzLY0j-Ofm_t",
        "outputId": "4a235727-3379-4548-ddf4-bedbc381299f"
      },
      "execution_count": 96,
      "outputs": [
        {
          "output_type": "execute_result",
          "data": {
            "text/plain": [
              "나이          0.045\n",
              "탐색경로        0.005\n",
              "프리젠테이션기간    0.051\n",
              "후속조치수       0.011\n",
              "선호숙박등급      0.005\n",
              "연간여행횟수      0.028\n",
              "미취학아동       0.013\n",
              "월급여         0.045\n",
              "dtype: float64"
            ]
          },
          "metadata": {},
          "execution_count": 96
        }
      ]
    },
    {
      "cell_type": "markdown",
      "source": [
        "우선 데이터의 복사본을 만든다.\n",
        "\n",
        "결측치를 다룰때는 데이터를 삭제하거나 여러 조작을 가하니까 항상 데이터의 복사본을 만드는거 잊지말자."
      ],
      "metadata": {
        "id": "1je-eHJtgCZd"
      }
    },
    {
      "cell_type": "code",
      "source": [
        "train_df_cp = train_df.copy()\n",
        "test_df_cp = test_df.copy()"
      ],
      "metadata": {
        "id": "fyh90NflfnS7"
      },
      "execution_count": 97,
      "outputs": []
    },
    {
      "cell_type": "markdown",
      "source": [
        "월급여 결측치는 직급의 별 월 급여 평균으로 대체한다."
      ],
      "metadata": {
        "id": "_OaawIN9gNZU"
      }
    },
    {
      "cell_type": "code",
      "source": [
        "train_df_cp['월급여'] = train_df_cp['월급여'].fillna(train_df_cp.groupby('직급')['월급여'].transform('mean'))\n",
        "test_df_cp['월급여'] = test_df_cp['월급여'].fillna(test_df_cp.groupby('직급')['월급여'].transform('mean'))\n"
      ],
      "metadata": {
        "id": "5_sg5WjSgC23"
      },
      "execution_count": 98,
      "outputs": []
    },
    {
      "cell_type": "markdown",
      "source": [
        "나이의 결측치도 직급 별 평균 나이대로 대체한다."
      ],
      "metadata": {
        "id": "8D69d1u8gRDq"
      }
    },
    {
      "cell_type": "code",
      "source": [
        "train_df_cp['나이'] = train_df_cp['나이'].fillna(train_df_cp.groupby('직급')['나이'].transform('mean'))\n",
        "test_df_cp['나이'] = test_df_cp['나이'].fillna(test_df_cp.groupby('직급')['나이'].transform('mean'))\n"
      ],
      "metadata": {
        "id": "scPfQt4cgRRI"
      },
      "execution_count": 99,
      "outputs": []
    },
    {
      "cell_type": "markdown",
      "source": [
        "탐색경로, 프리젠테이션기간, 후속조치수, 선호 숙박 등급, 평균 연간 여행 횟수, 미취학 아동 수는 최빈수로 채우고, 월 급여는 평균으로 채운다."
      ],
      "metadata": {
        "id": "S_NJZTRigUju"
      }
    },
    {
      "cell_type": "code",
      "source": [
        "fre_col = ['탐색경로', '후속조치수', '프리젠테이션기간', '선호숙박등급', '연간여행횟수', '미취학아동']\n",
        "imputer_fre = SimpleImputer(strategy = 'most_frequent')\n",
        "imputer_fre.fit(train_df_cp[fre_col])\n",
        "train_df_cp[fre_col] = imputer_fre.transform(train_df_cp[fre_col])\n",
        "test_df_cp[fre_col] = imputer_fre.transform(test_df_cp[fre_col])\n"
      ],
      "metadata": {
        "id": "XsUzagyFgSqo"
      },
      "execution_count": 100,
      "outputs": []
    },
    {
      "cell_type": "markdown",
      "source": [
        "### 2.2.2 스케일링"
      ],
      "metadata": {
        "id": "zGxLDr_Cg46Y"
      }
    },
    {
      "cell_type": "code",
      "source": [
        "#수치형 데이터 스케일링\n",
        "cols = test_df.select_dtypes(exclude=['object']).columns\n",
        "\n",
        "scaler = MinMaxScaler()\n",
        "\n",
        "# 학습용 데이터를 이용해 scaler를 학습시킵니다.\n",
        "scaler.fit(train_df_cp[cols])\n",
        "# 학습된 scaler를 사용해 데이터를 변환합니다.\n",
        "scaled = scaler.transform(train_df_cp[cols])\n",
        "\n",
        "# 변환된 값을 새로운 column에 할당합니다.\n",
        "train_df_cp[cols] = scaled\n",
        "\n",
        "scaled_test = scaler.transform(test_df_cp[cols])\n",
        "\n",
        "# 변환된 값을 새로운 column에 할당합니다.\n",
        "test_df_cp[cols] = scaled_test"
      ],
      "metadata": {
        "id": "UIHTnYPHgXeM"
      },
      "execution_count": 101,
      "outputs": []
    },
    {
      "cell_type": "markdown",
      "source": [
        "#### 2.2.3 인코딩"
      ],
      "metadata": {
        "id": "ax3VhFaVfLyw"
      }
    },
    {
      "cell_type": "code",
      "source": [
        "#범주형 데이터는 인코딩 해야 한다.\n",
        "for col in train_df_cp.select_dtypes('object').columns:\n",
        "    encoder = LabelEncoder()\n",
        "    encoder.fit(train_df_cp[col])\n",
        "    train_df_cp[col] = encoder.transform(train_df_cp[col])\n",
        "    for label in np.unique(test_df_cp[col]):\n",
        "        if label not in encoder.classes_: \n",
        "            encoder.classes_ = np.append(encoder.classes_, label)\n",
        "    test_df_cp[col] = encoder.transform(test_df_cp[col])"
      ],
      "metadata": {
        "id": "_trKkExbfN7z"
      },
      "execution_count": 102,
      "outputs": []
    },
    {
      "cell_type": "markdown",
      "source": [
        "## 3. 모델링"
      ],
      "metadata": {
        "id": "I4ih_RyAg4xV"
      }
    },
    {
      "cell_type": "markdown",
      "source": [
        "### 3.0 데이터 분리"
      ],
      "metadata": {
        "id": "hwutZsbBVwBf"
      }
    },
    {
      "cell_type": "markdown",
      "source": [
        "훈련용과 검증용 데이터 분리\n",
        "\n",
        "target은 label 데이터 이며, 예측해야 할 (class) 데이터 이므로 data를 스플릿 해줄때 만약 이게 포함되어 있으면, 배제해야 한다.\n",
        "\n",
        "그리고 판다즈에서 axis = 0, axis = 1의 차이가 존재한다.\n",
        "\n",
        "axis = 0은 행을 나타낸다\n",
        "\n",
        "즉 만일 df.drop([1.2],axis=0)을 하면 행방향으로 1,2번째가 삭제된다.\n",
        "\n",
        "그리고 만일 df.drop([1.2],axis=1)을 하면 열방향으로 삭제된다.\n",
        "\n",
        "여기서는 열방향으로 삭제해야 신청여부 칼럼을 제외할 수 있으므로 열방향 삭제를 했다."
      ],
      "metadata": {
        "id": "eN9gzftGVyXB"
      }
    },
    {
      "cell_type": "code",
      "source": [
        "X,y = train_df_cp.drop(\"신청여부\", axis =1), train_df_cp['신청여부']\n",
        "X_train, X_test, y_train, y_test = train_test_split(X,y, test_size=0.2)"
      ],
      "metadata": {
        "id": "o7WKXqUGVuV8"
      },
      "execution_count": 103,
      "outputs": []
    },
    {
      "cell_type": "markdown",
      "source": [
        "### 3.1 성능 검증용 함수"
      ],
      "metadata": {
        "id": "LHzDZmckZ1-m"
      }
    },
    {
      "cell_type": "code",
      "source": [
        "def plot_roc_curve( y_pred, y_prob):\n",
        "    fper, tper, thresholds = roc_curve(y_test, y_prob[:,1])\n",
        "    print('Confusion matrix')\n",
        "    print(confusion_matrix(y_test, y_pred))\n",
        "\n",
        "    print(f\"Precision : {precision_score(y_test, y_pred, average='macro'):.4f}\")\n",
        "    print(f\"Recall    : {recall_score(y_test, y_pred, average='macro'):.4f}\")\n",
        "    print(f\"F1        : {f1_score(y_test, y_pred, average='macro'):.4f}\")\n",
        "    print(f\"Accuracy  : {accuracy_score(y_test, y_pred):.4f}\")\n",
        "    print(f\"AUC       : {roc_auc_score(y_test, y_prob[:,1]):.4f}  \")\n",
        "    plt.figure(figsize=(4,4))\n",
        "    plt.plot(fper, tper, color='red', label='ROC')\n",
        "    plt.plot([0, 1], [0, 1], color='green', linestyle='--')\n",
        "    plt.xlabel('False Positive Rate')\n",
        "    plt.ylabel('True Positive Rate')\n",
        "    plt.title('Receiver Operating Characteristic Curve')\n",
        "    plt.legend()\n",
        "    plt.show()"
      ],
      "metadata": {
        "id": "b6CqIm4lZzER"
      },
      "execution_count": 104,
      "outputs": []
    },
    {
      "cell_type": "markdown",
      "source": [
        "### 3.2 모델"
      ],
      "metadata": {
        "id": "X6TL_lEqaCVZ"
      }
    },
    {
      "cell_type": "markdown",
      "source": [
        "어떤 모델의 성능이 좋은지 보기위해, pycaret을 통해 분류모델들을 한번에 비교한다."
      ],
      "metadata": {
        "id": "feQSOzD1aED5"
      }
    },
    {
      "cell_type": "markdown",
      "source": [
        "#### 3.2.0 AUTO ML 로 좋은 모델 찾기"
      ],
      "metadata": {
        "id": "k1JOHUDraF5y"
      }
    },
    {
      "cell_type": "code",
      "source": [
        "from pycaret import classification"
      ],
      "metadata": {
        "id": "h6VvkVo5aCt6"
      },
      "execution_count": 105,
      "outputs": []
    },
    {
      "cell_type": "markdown",
      "source": [
        "pycaret에서 set_up단계란  pycaret을 사용하기 위한 data setting하는 단계를 의미한다.\n",
        "\n",
        "exp_clf = setup(data = train, target = 'default', session_id=123)\n",
        "\n",
        "여기서는 fold_startegy를 default인 k_fold말고 stratifiedkfold를 사용한다.\n",
        "\n"
      ],
      "metadata": {
        "id": "CUwuLojva7I6"
      }
    },
    {
      "cell_type": "code",
      "source": [
        "classification_setup = classification.setup(data=train_df_cp, target='신청여부',fold_strategy='stratifiedkfold')"
      ],
      "metadata": {
        "colab": {
          "base_uri": "https://localhost:8080/",
          "height": 1000,
          "referenced_widgets": [
            "a0689f9ad2864607a7bec367742cfdc0",
            "2641fb12c9054b6594f8cb54d9c00edd",
            "2fa225cd0eff46059ad138e1ac802351",
            "afda8eb37f13470d81cdc7bef5ed8052",
            "14aed351288749b48123569d8c24041f",
            "68ff16c6f7c44ab3bc9f406963cac5a4"
          ]
        },
        "id": "fNXtyuO3aI4t",
        "outputId": "fe1cad50-d348-450f-929f-8b5aa2647641"
      },
      "execution_count": 106,
      "outputs": [
        {
          "output_type": "display_data",
          "data": {
            "text/plain": [
              "                               Description             Value\n",
              "0                               session_id              7406\n",
              "1                                   Target              신청여부\n",
              "2                              Target Type            Binary\n",
              "3                            Label Encoded              None\n",
              "4                            Original Data        (1955, 19)\n",
              "5                           Missing Values             False\n",
              "6                         Numeric Features                10\n",
              "7                     Categorical Features                 8\n",
              "8                         Ordinal Features             False\n",
              "9                High Cardinality Features             False\n",
              "10                 High Cardinality Method              None\n",
              "11                   Transformed Train Set        (1368, 29)\n",
              "12                    Transformed Test Set         (587, 29)\n",
              "13                      Shuffle Train-Test              True\n",
              "14                     Stratify Train-Test             False\n",
              "15                          Fold Generator   StratifiedKFold\n",
              "16                             Fold Number                10\n",
              "17                                CPU Jobs                -1\n",
              "18                                 Use GPU             False\n",
              "19                          Log Experiment             False\n",
              "20                         Experiment Name  clf-default-name\n",
              "21                                     USI              8d2a\n",
              "22                         Imputation Type            simple\n",
              "23          Iterative Imputation Iteration              None\n",
              "24                         Numeric Imputer              mean\n",
              "25      Iterative Imputation Numeric Model              None\n",
              "26                     Categorical Imputer          constant\n",
              "27  Iterative Imputation Categorical Model              None\n",
              "28           Unknown Categoricals Handling    least_frequent\n",
              "29                               Normalize             False\n",
              "30                        Normalize Method              None\n",
              "31                          Transformation             False\n",
              "32                   Transformation Method              None\n",
              "33                                     PCA             False\n",
              "34                              PCA Method              None\n",
              "35                          PCA Components              None\n",
              "36                     Ignore Low Variance             False\n",
              "37                     Combine Rare Levels             False\n",
              "38                    Rare Level Threshold              None\n",
              "39                         Numeric Binning             False\n",
              "40                         Remove Outliers             False\n",
              "41                      Outliers Threshold              None\n",
              "42                Remove Multicollinearity             False\n",
              "43             Multicollinearity Threshold              None\n",
              "44             Remove Perfect Collinearity              True\n",
              "45                              Clustering             False\n",
              "46                    Clustering Iteration              None\n",
              "47                     Polynomial Features             False\n",
              "48                       Polynomial Degree              None\n",
              "49                    Trignometry Features             False\n",
              "50                    Polynomial Threshold              None\n",
              "51                          Group Features             False\n",
              "52                       Feature Selection             False\n",
              "53                Feature Selection Method           classic\n",
              "54            Features Selection Threshold              None\n",
              "55                     Feature Interaction             False\n",
              "56                           Feature Ratio             False\n",
              "57                   Interaction Threshold              None\n",
              "58                           Fix Imbalance             False\n",
              "59                    Fix Imbalance Method             SMOTE"
            ],
            "text/html": [
              "\n",
              "  <div id=\"df-1d9281b1-70e1-489a-ad73-95a36dc69a16\">\n",
              "    <div class=\"colab-df-container\">\n",
              "      <div>\n",
              "<style scoped>\n",
              "    .dataframe tbody tr th:only-of-type {\n",
              "        vertical-align: middle;\n",
              "    }\n",
              "\n",
              "    .dataframe tbody tr th {\n",
              "        vertical-align: top;\n",
              "    }\n",
              "\n",
              "    .dataframe thead th {\n",
              "        text-align: right;\n",
              "    }\n",
              "</style>\n",
              "<table border=\"1\" class=\"dataframe\">\n",
              "  <thead>\n",
              "    <tr style=\"text-align: right;\">\n",
              "      <th></th>\n",
              "      <th>Description</th>\n",
              "      <th>Value</th>\n",
              "    </tr>\n",
              "  </thead>\n",
              "  <tbody>\n",
              "    <tr>\n",
              "      <th>0</th>\n",
              "      <td>session_id</td>\n",
              "      <td>7406</td>\n",
              "    </tr>\n",
              "    <tr>\n",
              "      <th>1</th>\n",
              "      <td>Target</td>\n",
              "      <td>신청여부</td>\n",
              "    </tr>\n",
              "    <tr>\n",
              "      <th>2</th>\n",
              "      <td>Target Type</td>\n",
              "      <td>Binary</td>\n",
              "    </tr>\n",
              "    <tr>\n",
              "      <th>3</th>\n",
              "      <td>Label Encoded</td>\n",
              "      <td>None</td>\n",
              "    </tr>\n",
              "    <tr>\n",
              "      <th>4</th>\n",
              "      <td>Original Data</td>\n",
              "      <td>(1955, 19)</td>\n",
              "    </tr>\n",
              "    <tr>\n",
              "      <th>5</th>\n",
              "      <td>Missing Values</td>\n",
              "      <td>False</td>\n",
              "    </tr>\n",
              "    <tr>\n",
              "      <th>6</th>\n",
              "      <td>Numeric Features</td>\n",
              "      <td>10</td>\n",
              "    </tr>\n",
              "    <tr>\n",
              "      <th>7</th>\n",
              "      <td>Categorical Features</td>\n",
              "      <td>8</td>\n",
              "    </tr>\n",
              "    <tr>\n",
              "      <th>8</th>\n",
              "      <td>Ordinal Features</td>\n",
              "      <td>False</td>\n",
              "    </tr>\n",
              "    <tr>\n",
              "      <th>9</th>\n",
              "      <td>High Cardinality Features</td>\n",
              "      <td>False</td>\n",
              "    </tr>\n",
              "    <tr>\n",
              "      <th>10</th>\n",
              "      <td>High Cardinality Method</td>\n",
              "      <td>None</td>\n",
              "    </tr>\n",
              "    <tr>\n",
              "      <th>11</th>\n",
              "      <td>Transformed Train Set</td>\n",
              "      <td>(1368, 29)</td>\n",
              "    </tr>\n",
              "    <tr>\n",
              "      <th>12</th>\n",
              "      <td>Transformed Test Set</td>\n",
              "      <td>(587, 29)</td>\n",
              "    </tr>\n",
              "    <tr>\n",
              "      <th>13</th>\n",
              "      <td>Shuffle Train-Test</td>\n",
              "      <td>True</td>\n",
              "    </tr>\n",
              "    <tr>\n",
              "      <th>14</th>\n",
              "      <td>Stratify Train-Test</td>\n",
              "      <td>False</td>\n",
              "    </tr>\n",
              "    <tr>\n",
              "      <th>15</th>\n",
              "      <td>Fold Generator</td>\n",
              "      <td>StratifiedKFold</td>\n",
              "    </tr>\n",
              "    <tr>\n",
              "      <th>16</th>\n",
              "      <td>Fold Number</td>\n",
              "      <td>10</td>\n",
              "    </tr>\n",
              "    <tr>\n",
              "      <th>17</th>\n",
              "      <td>CPU Jobs</td>\n",
              "      <td>-1</td>\n",
              "    </tr>\n",
              "    <tr>\n",
              "      <th>18</th>\n",
              "      <td>Use GPU</td>\n",
              "      <td>False</td>\n",
              "    </tr>\n",
              "    <tr>\n",
              "      <th>19</th>\n",
              "      <td>Log Experiment</td>\n",
              "      <td>False</td>\n",
              "    </tr>\n",
              "    <tr>\n",
              "      <th>20</th>\n",
              "      <td>Experiment Name</td>\n",
              "      <td>clf-default-name</td>\n",
              "    </tr>\n",
              "    <tr>\n",
              "      <th>21</th>\n",
              "      <td>USI</td>\n",
              "      <td>8d2a</td>\n",
              "    </tr>\n",
              "    <tr>\n",
              "      <th>22</th>\n",
              "      <td>Imputation Type</td>\n",
              "      <td>simple</td>\n",
              "    </tr>\n",
              "    <tr>\n",
              "      <th>23</th>\n",
              "      <td>Iterative Imputation Iteration</td>\n",
              "      <td>None</td>\n",
              "    </tr>\n",
              "    <tr>\n",
              "      <th>24</th>\n",
              "      <td>Numeric Imputer</td>\n",
              "      <td>mean</td>\n",
              "    </tr>\n",
              "    <tr>\n",
              "      <th>25</th>\n",
              "      <td>Iterative Imputation Numeric Model</td>\n",
              "      <td>None</td>\n",
              "    </tr>\n",
              "    <tr>\n",
              "      <th>26</th>\n",
              "      <td>Categorical Imputer</td>\n",
              "      <td>constant</td>\n",
              "    </tr>\n",
              "    <tr>\n",
              "      <th>27</th>\n",
              "      <td>Iterative Imputation Categorical Model</td>\n",
              "      <td>None</td>\n",
              "    </tr>\n",
              "    <tr>\n",
              "      <th>28</th>\n",
              "      <td>Unknown Categoricals Handling</td>\n",
              "      <td>least_frequent</td>\n",
              "    </tr>\n",
              "    <tr>\n",
              "      <th>29</th>\n",
              "      <td>Normalize</td>\n",
              "      <td>False</td>\n",
              "    </tr>\n",
              "    <tr>\n",
              "      <th>30</th>\n",
              "      <td>Normalize Method</td>\n",
              "      <td>None</td>\n",
              "    </tr>\n",
              "    <tr>\n",
              "      <th>31</th>\n",
              "      <td>Transformation</td>\n",
              "      <td>False</td>\n",
              "    </tr>\n",
              "    <tr>\n",
              "      <th>32</th>\n",
              "      <td>Transformation Method</td>\n",
              "      <td>None</td>\n",
              "    </tr>\n",
              "    <tr>\n",
              "      <th>33</th>\n",
              "      <td>PCA</td>\n",
              "      <td>False</td>\n",
              "    </tr>\n",
              "    <tr>\n",
              "      <th>34</th>\n",
              "      <td>PCA Method</td>\n",
              "      <td>None</td>\n",
              "    </tr>\n",
              "    <tr>\n",
              "      <th>35</th>\n",
              "      <td>PCA Components</td>\n",
              "      <td>None</td>\n",
              "    </tr>\n",
              "    <tr>\n",
              "      <th>36</th>\n",
              "      <td>Ignore Low Variance</td>\n",
              "      <td>False</td>\n",
              "    </tr>\n",
              "    <tr>\n",
              "      <th>37</th>\n",
              "      <td>Combine Rare Levels</td>\n",
              "      <td>False</td>\n",
              "    </tr>\n",
              "    <tr>\n",
              "      <th>38</th>\n",
              "      <td>Rare Level Threshold</td>\n",
              "      <td>None</td>\n",
              "    </tr>\n",
              "    <tr>\n",
              "      <th>39</th>\n",
              "      <td>Numeric Binning</td>\n",
              "      <td>False</td>\n",
              "    </tr>\n",
              "    <tr>\n",
              "      <th>40</th>\n",
              "      <td>Remove Outliers</td>\n",
              "      <td>False</td>\n",
              "    </tr>\n",
              "    <tr>\n",
              "      <th>41</th>\n",
              "      <td>Outliers Threshold</td>\n",
              "      <td>None</td>\n",
              "    </tr>\n",
              "    <tr>\n",
              "      <th>42</th>\n",
              "      <td>Remove Multicollinearity</td>\n",
              "      <td>False</td>\n",
              "    </tr>\n",
              "    <tr>\n",
              "      <th>43</th>\n",
              "      <td>Multicollinearity Threshold</td>\n",
              "      <td>None</td>\n",
              "    </tr>\n",
              "    <tr>\n",
              "      <th>44</th>\n",
              "      <td>Remove Perfect Collinearity</td>\n",
              "      <td>True</td>\n",
              "    </tr>\n",
              "    <tr>\n",
              "      <th>45</th>\n",
              "      <td>Clustering</td>\n",
              "      <td>False</td>\n",
              "    </tr>\n",
              "    <tr>\n",
              "      <th>46</th>\n",
              "      <td>Clustering Iteration</td>\n",
              "      <td>None</td>\n",
              "    </tr>\n",
              "    <tr>\n",
              "      <th>47</th>\n",
              "      <td>Polynomial Features</td>\n",
              "      <td>False</td>\n",
              "    </tr>\n",
              "    <tr>\n",
              "      <th>48</th>\n",
              "      <td>Polynomial Degree</td>\n",
              "      <td>None</td>\n",
              "    </tr>\n",
              "    <tr>\n",
              "      <th>49</th>\n",
              "      <td>Trignometry Features</td>\n",
              "      <td>False</td>\n",
              "    </tr>\n",
              "    <tr>\n",
              "      <th>50</th>\n",
              "      <td>Polynomial Threshold</td>\n",
              "      <td>None</td>\n",
              "    </tr>\n",
              "    <tr>\n",
              "      <th>51</th>\n",
              "      <td>Group Features</td>\n",
              "      <td>False</td>\n",
              "    </tr>\n",
              "    <tr>\n",
              "      <th>52</th>\n",
              "      <td>Feature Selection</td>\n",
              "      <td>False</td>\n",
              "    </tr>\n",
              "    <tr>\n",
              "      <th>53</th>\n",
              "      <td>Feature Selection Method</td>\n",
              "      <td>classic</td>\n",
              "    </tr>\n",
              "    <tr>\n",
              "      <th>54</th>\n",
              "      <td>Features Selection Threshold</td>\n",
              "      <td>None</td>\n",
              "    </tr>\n",
              "    <tr>\n",
              "      <th>55</th>\n",
              "      <td>Feature Interaction</td>\n",
              "      <td>False</td>\n",
              "    </tr>\n",
              "    <tr>\n",
              "      <th>56</th>\n",
              "      <td>Feature Ratio</td>\n",
              "      <td>False</td>\n",
              "    </tr>\n",
              "    <tr>\n",
              "      <th>57</th>\n",
              "      <td>Interaction Threshold</td>\n",
              "      <td>None</td>\n",
              "    </tr>\n",
              "    <tr>\n",
              "      <th>58</th>\n",
              "      <td>Fix Imbalance</td>\n",
              "      <td>False</td>\n",
              "    </tr>\n",
              "    <tr>\n",
              "      <th>59</th>\n",
              "      <td>Fix Imbalance Method</td>\n",
              "      <td>SMOTE</td>\n",
              "    </tr>\n",
              "  </tbody>\n",
              "</table>\n",
              "</div>\n",
              "      <button class=\"colab-df-convert\" onclick=\"convertToInteractive('df-1d9281b1-70e1-489a-ad73-95a36dc69a16')\"\n",
              "              title=\"Convert this dataframe to an interactive table.\"\n",
              "              style=\"display:none;\">\n",
              "        \n",
              "  <svg xmlns=\"http://www.w3.org/2000/svg\" height=\"24px\"viewBox=\"0 0 24 24\"\n",
              "       width=\"24px\">\n",
              "    <path d=\"M0 0h24v24H0V0z\" fill=\"none\"/>\n",
              "    <path d=\"M18.56 5.44l.94 2.06.94-2.06 2.06-.94-2.06-.94-.94-2.06-.94 2.06-2.06.94zm-11 1L8.5 8.5l.94-2.06 2.06-.94-2.06-.94L8.5 2.5l-.94 2.06-2.06.94zm10 10l.94 2.06.94-2.06 2.06-.94-2.06-.94-.94-2.06-.94 2.06-2.06.94z\"/><path d=\"M17.41 7.96l-1.37-1.37c-.4-.4-.92-.59-1.43-.59-.52 0-1.04.2-1.43.59L10.3 9.45l-7.72 7.72c-.78.78-.78 2.05 0 2.83L4 21.41c.39.39.9.59 1.41.59.51 0 1.02-.2 1.41-.59l7.78-7.78 2.81-2.81c.8-.78.8-2.07 0-2.86zM5.41 20L4 18.59l7.72-7.72 1.47 1.35L5.41 20z\"/>\n",
              "  </svg>\n",
              "      </button>\n",
              "      \n",
              "  <style>\n",
              "    .colab-df-container {\n",
              "      display:flex;\n",
              "      flex-wrap:wrap;\n",
              "      gap: 12px;\n",
              "    }\n",
              "\n",
              "    .colab-df-convert {\n",
              "      background-color: #E8F0FE;\n",
              "      border: none;\n",
              "      border-radius: 50%;\n",
              "      cursor: pointer;\n",
              "      display: none;\n",
              "      fill: #1967D2;\n",
              "      height: 32px;\n",
              "      padding: 0 0 0 0;\n",
              "      width: 32px;\n",
              "    }\n",
              "\n",
              "    .colab-df-convert:hover {\n",
              "      background-color: #E2EBFA;\n",
              "      box-shadow: 0px 1px 2px rgba(60, 64, 67, 0.3), 0px 1px 3px 1px rgba(60, 64, 67, 0.15);\n",
              "      fill: #174EA6;\n",
              "    }\n",
              "\n",
              "    [theme=dark] .colab-df-convert {\n",
              "      background-color: #3B4455;\n",
              "      fill: #D2E3FC;\n",
              "    }\n",
              "\n",
              "    [theme=dark] .colab-df-convert:hover {\n",
              "      background-color: #434B5C;\n",
              "      box-shadow: 0px 1px 3px 1px rgba(0, 0, 0, 0.15);\n",
              "      filter: drop-shadow(0px 1px 2px rgba(0, 0, 0, 0.3));\n",
              "      fill: #FFFFFF;\n",
              "    }\n",
              "  </style>\n",
              "\n",
              "      <script>\n",
              "        const buttonEl =\n",
              "          document.querySelector('#df-1d9281b1-70e1-489a-ad73-95a36dc69a16 button.colab-df-convert');\n",
              "        buttonEl.style.display =\n",
              "          google.colab.kernel.accessAllowed ? 'block' : 'none';\n",
              "\n",
              "        async function convertToInteractive(key) {\n",
              "          const element = document.querySelector('#df-1d9281b1-70e1-489a-ad73-95a36dc69a16');\n",
              "          const dataTable =\n",
              "            await google.colab.kernel.invokeFunction('convertToInteractive',\n",
              "                                                     [key], {});\n",
              "          if (!dataTable) return;\n",
              "\n",
              "          const docLinkHtml = 'Like what you see? Visit the ' +\n",
              "            '<a target=\"_blank\" href=https://colab.research.google.com/notebooks/data_table.ipynb>data table notebook</a>'\n",
              "            + ' to learn more about interactive tables.';\n",
              "          element.innerHTML = '';\n",
              "          dataTable['output_type'] = 'display_data';\n",
              "          await google.colab.output.renderOutput(dataTable, element);\n",
              "          const docLink = document.createElement('div');\n",
              "          docLink.innerHTML = docLinkHtml;\n",
              "          element.appendChild(docLink);\n",
              "        }\n",
              "      </script>\n",
              "    </div>\n",
              "  </div>\n",
              "  "
            ]
          },
          "metadata": {}
        },
        {
          "output_type": "stream",
          "name": "stderr",
          "text": [
            "INFO:logs:create_model_container: 0\n",
            "INFO:logs:master_model_container: 0\n",
            "INFO:logs:display_container: 1\n",
            "INFO:logs:Pipeline(memory=None,\n",
            "         steps=[('dtypes',\n",
            "                 DataTypes_Auto_infer(categorical_features=[],\n",
            "                                      display_types=True, features_todrop=[],\n",
            "                                      id_columns=[],\n",
            "                                      ml_usecase='classification',\n",
            "                                      numerical_features=[], target='신청여부',\n",
            "                                      time_features=[])),\n",
            "                ('imputer',\n",
            "                 Simple_Imputer(categorical_strategy='not_available',\n",
            "                                fill_value_categorical=None,\n",
            "                                fill_value_numerical=None,\n",
            "                                numeric_strateg...\n",
            "                ('scaling', 'passthrough'), ('P_transform', 'passthrough'),\n",
            "                ('binn', 'passthrough'), ('rem_outliers', 'passthrough'),\n",
            "                ('cluster_all', 'passthrough'),\n",
            "                ('dummy', Dummify(target='신청여부')),\n",
            "                ('fix_perfect', Remove_100(target='신청여부')),\n",
            "                ('clean_names', Clean_Colum_Names()),\n",
            "                ('feature_select', 'passthrough'), ('fix_multi', 'passthrough'),\n",
            "                ('dfs', 'passthrough'), ('pca', 'passthrough')],\n",
            "         verbose=False)\n",
            "INFO:logs:setup() succesfully completed......................................\n"
          ]
        }
      ]
    },
    {
      "cell_type": "markdown",
      "source": [
        "이번 단계는 모델을 비교한다.\n",
        "\n",
        "\n",
        "\n",
        "```\n",
        "best_model = compare_models()\n",
        "```\n",
        "\n"
      ],
      "metadata": {
        "id": "8kUyd_m9bfEc"
      }
    },
    {
      "cell_type": "markdown",
      "source": [
        "심사 기준 : accuracy 따라서 accuracy를 사용.\n",
        "\n",
        "fold를 5개만 사용\n",
        "\n",
        "소숫점 3번째 자리까지 반올림\n",
        "\n",
        "n_select는 몇개의 Top 모델을 가져올것인지의 개수"
      ],
      "metadata": {
        "id": "Owk4dIkkdoKn"
      }
    },
    {
      "cell_type": "markdown",
      "source": [
        "compare_models(include: Optional[List[Union[str, Any]]] = None, exclude: Optional[List[str]] = None, fold: Optional[Union[int, Any]] = None, round: int = 4, cross_validation: bool = True, sort: str = 'Accuracy', n_select: int = 1, budget_time: Optional[float] = None, turbo: bool = True, errors: str = 'ignore', fit_kwargs: Optional[dict] = None, groups: Optional[Union[str, Any]] = None, experiment_custom_tags: Optional[Dict[str, Any]] = None, probability_threshold: Optional[float] = None, engines: Optional[Dict[str, str]] = None, verbose: bool = True, parallel: Optional[ParallelBackend] = None)→ Union[Any, List[Any]]"
      ],
      "metadata": {
        "id": "-BDLLl48ct5-"
      }
    },
    {
      "cell_type": "code",
      "source": [
        "top5_model = classification.compare_models(fold = 5, round = 3, sort = 'Accuracy', n_select = 5)"
      ],
      "metadata": {
        "colab": {
          "base_uri": "https://localhost:8080/",
          "height": 1000,
          "referenced_widgets": [
            "cec8e9689efb4d289360dce8ebb18db6",
            "c338bdec8dec42fc8e4280d02906b129",
            "5518c6e221754dcaa38a39375fbf0137"
          ]
        },
        "id": "bIOBwXhnbZ_Y",
        "outputId": "ff341f20-ca08-49eb-ec31-4c0799c03c27"
      },
      "execution_count": 107,
      "outputs": [
        {
          "output_type": "display_data",
          "data": {
            "text/plain": [
              "                                    Model  Accuracy    AUC  Recall  Prec.  \\\n",
              "et                 Extra Trees Classifier     0.865  0.860   0.406  0.800   \n",
              "rf               Random Forest Classifier     0.852  0.848   0.316  0.809   \n",
              "lightgbm  Light Gradient Boosting Machine     0.849  0.836   0.425  0.677   \n",
              "lda          Linear Discriminant Analysis     0.845  0.803   0.372  0.689   \n",
              "lr                    Logistic Regression     0.843  0.801   0.323  0.707   \n",
              "ridge                    Ridge Classifier     0.839  0.000   0.252  0.757   \n",
              "gbc          Gradient Boosting Classifier     0.835  0.806   0.342  0.637   \n",
              "ada                  Ada Boost Classifier     0.833  0.778   0.369  0.612   \n",
              "knn                K Neighbors Classifier     0.830  0.755   0.248  0.687   \n",
              "svm                   SVM - Linear Kernel     0.806  0.000   0.530  0.540   \n",
              "dummy                    Dummy Classifier     0.806  0.500   0.000  0.000   \n",
              "dt               Decision Tree Classifier     0.791  0.668   0.466  0.461   \n",
              "nb                            Naive Bayes     0.790  0.741   0.158  0.279   \n",
              "qda       Quadratic Discriminant Analysis     0.528  0.488   0.423  0.160   \n",
              "\n",
              "             F1  Kappa    MCC  TT (Sec)  \n",
              "et        0.535  0.467  0.505     0.524  \n",
              "rf        0.453  0.386  0.444     0.530  \n",
              "lightgbm  0.521  0.437  0.454     0.142  \n",
              "lda       0.480  0.399  0.427     0.014  \n",
              "lr        0.442  0.366  0.405     0.402  \n",
              "ridge     0.377  0.311  0.374     0.012  \n",
              "gbc       0.443  0.358  0.382     0.148  \n",
              "ada       0.458  0.367  0.384     0.092  \n",
              "knn       0.360  0.287  0.339     0.136  \n",
              "svm       0.520  0.402  0.411     0.014  \n",
              "dummy     0.000  0.000  0.000     0.010  \n",
              "dt        0.463  0.333  0.334     0.014  \n",
              "nb        0.112  0.077  0.104     0.012  \n",
              "qda       0.219 -0.026 -0.027     0.014  "
            ],
            "text/html": [
              "\n",
              "  <div id=\"df-555ed54c-016f-4b88-9dad-2df3b8a30061\">\n",
              "    <div class=\"colab-df-container\">\n",
              "      <div>\n",
              "<style scoped>\n",
              "    .dataframe tbody tr th:only-of-type {\n",
              "        vertical-align: middle;\n",
              "    }\n",
              "\n",
              "    .dataframe tbody tr th {\n",
              "        vertical-align: top;\n",
              "    }\n",
              "\n",
              "    .dataframe thead th {\n",
              "        text-align: right;\n",
              "    }\n",
              "</style>\n",
              "<table border=\"1\" class=\"dataframe\">\n",
              "  <thead>\n",
              "    <tr style=\"text-align: right;\">\n",
              "      <th></th>\n",
              "      <th>Model</th>\n",
              "      <th>Accuracy</th>\n",
              "      <th>AUC</th>\n",
              "      <th>Recall</th>\n",
              "      <th>Prec.</th>\n",
              "      <th>F1</th>\n",
              "      <th>Kappa</th>\n",
              "      <th>MCC</th>\n",
              "      <th>TT (Sec)</th>\n",
              "    </tr>\n",
              "  </thead>\n",
              "  <tbody>\n",
              "    <tr>\n",
              "      <th>et</th>\n",
              "      <td>Extra Trees Classifier</td>\n",
              "      <td>0.865</td>\n",
              "      <td>0.860</td>\n",
              "      <td>0.406</td>\n",
              "      <td>0.800</td>\n",
              "      <td>0.535</td>\n",
              "      <td>0.467</td>\n",
              "      <td>0.505</td>\n",
              "      <td>0.524</td>\n",
              "    </tr>\n",
              "    <tr>\n",
              "      <th>rf</th>\n",
              "      <td>Random Forest Classifier</td>\n",
              "      <td>0.852</td>\n",
              "      <td>0.848</td>\n",
              "      <td>0.316</td>\n",
              "      <td>0.809</td>\n",
              "      <td>0.453</td>\n",
              "      <td>0.386</td>\n",
              "      <td>0.444</td>\n",
              "      <td>0.530</td>\n",
              "    </tr>\n",
              "    <tr>\n",
              "      <th>lightgbm</th>\n",
              "      <td>Light Gradient Boosting Machine</td>\n",
              "      <td>0.849</td>\n",
              "      <td>0.836</td>\n",
              "      <td>0.425</td>\n",
              "      <td>0.677</td>\n",
              "      <td>0.521</td>\n",
              "      <td>0.437</td>\n",
              "      <td>0.454</td>\n",
              "      <td>0.142</td>\n",
              "    </tr>\n",
              "    <tr>\n",
              "      <th>lda</th>\n",
              "      <td>Linear Discriminant Analysis</td>\n",
              "      <td>0.845</td>\n",
              "      <td>0.803</td>\n",
              "      <td>0.372</td>\n",
              "      <td>0.689</td>\n",
              "      <td>0.480</td>\n",
              "      <td>0.399</td>\n",
              "      <td>0.427</td>\n",
              "      <td>0.014</td>\n",
              "    </tr>\n",
              "    <tr>\n",
              "      <th>lr</th>\n",
              "      <td>Logistic Regression</td>\n",
              "      <td>0.843</td>\n",
              "      <td>0.801</td>\n",
              "      <td>0.323</td>\n",
              "      <td>0.707</td>\n",
              "      <td>0.442</td>\n",
              "      <td>0.366</td>\n",
              "      <td>0.405</td>\n",
              "      <td>0.402</td>\n",
              "    </tr>\n",
              "    <tr>\n",
              "      <th>ridge</th>\n",
              "      <td>Ridge Classifier</td>\n",
              "      <td>0.839</td>\n",
              "      <td>0.000</td>\n",
              "      <td>0.252</td>\n",
              "      <td>0.757</td>\n",
              "      <td>0.377</td>\n",
              "      <td>0.311</td>\n",
              "      <td>0.374</td>\n",
              "      <td>0.012</td>\n",
              "    </tr>\n",
              "    <tr>\n",
              "      <th>gbc</th>\n",
              "      <td>Gradient Boosting Classifier</td>\n",
              "      <td>0.835</td>\n",
              "      <td>0.806</td>\n",
              "      <td>0.342</td>\n",
              "      <td>0.637</td>\n",
              "      <td>0.443</td>\n",
              "      <td>0.358</td>\n",
              "      <td>0.382</td>\n",
              "      <td>0.148</td>\n",
              "    </tr>\n",
              "    <tr>\n",
              "      <th>ada</th>\n",
              "      <td>Ada Boost Classifier</td>\n",
              "      <td>0.833</td>\n",
              "      <td>0.778</td>\n",
              "      <td>0.369</td>\n",
              "      <td>0.612</td>\n",
              "      <td>0.458</td>\n",
              "      <td>0.367</td>\n",
              "      <td>0.384</td>\n",
              "      <td>0.092</td>\n",
              "    </tr>\n",
              "    <tr>\n",
              "      <th>knn</th>\n",
              "      <td>K Neighbors Classifier</td>\n",
              "      <td>0.830</td>\n",
              "      <td>0.755</td>\n",
              "      <td>0.248</td>\n",
              "      <td>0.687</td>\n",
              "      <td>0.360</td>\n",
              "      <td>0.287</td>\n",
              "      <td>0.339</td>\n",
              "      <td>0.136</td>\n",
              "    </tr>\n",
              "    <tr>\n",
              "      <th>svm</th>\n",
              "      <td>SVM - Linear Kernel</td>\n",
              "      <td>0.806</td>\n",
              "      <td>0.000</td>\n",
              "      <td>0.530</td>\n",
              "      <td>0.540</td>\n",
              "      <td>0.520</td>\n",
              "      <td>0.402</td>\n",
              "      <td>0.411</td>\n",
              "      <td>0.014</td>\n",
              "    </tr>\n",
              "    <tr>\n",
              "      <th>dummy</th>\n",
              "      <td>Dummy Classifier</td>\n",
              "      <td>0.806</td>\n",
              "      <td>0.500</td>\n",
              "      <td>0.000</td>\n",
              "      <td>0.000</td>\n",
              "      <td>0.000</td>\n",
              "      <td>0.000</td>\n",
              "      <td>0.000</td>\n",
              "      <td>0.010</td>\n",
              "    </tr>\n",
              "    <tr>\n",
              "      <th>dt</th>\n",
              "      <td>Decision Tree Classifier</td>\n",
              "      <td>0.791</td>\n",
              "      <td>0.668</td>\n",
              "      <td>0.466</td>\n",
              "      <td>0.461</td>\n",
              "      <td>0.463</td>\n",
              "      <td>0.333</td>\n",
              "      <td>0.334</td>\n",
              "      <td>0.014</td>\n",
              "    </tr>\n",
              "    <tr>\n",
              "      <th>nb</th>\n",
              "      <td>Naive Bayes</td>\n",
              "      <td>0.790</td>\n",
              "      <td>0.741</td>\n",
              "      <td>0.158</td>\n",
              "      <td>0.279</td>\n",
              "      <td>0.112</td>\n",
              "      <td>0.077</td>\n",
              "      <td>0.104</td>\n",
              "      <td>0.012</td>\n",
              "    </tr>\n",
              "    <tr>\n",
              "      <th>qda</th>\n",
              "      <td>Quadratic Discriminant Analysis</td>\n",
              "      <td>0.528</td>\n",
              "      <td>0.488</td>\n",
              "      <td>0.423</td>\n",
              "      <td>0.160</td>\n",
              "      <td>0.219</td>\n",
              "      <td>-0.026</td>\n",
              "      <td>-0.027</td>\n",
              "      <td>0.014</td>\n",
              "    </tr>\n",
              "  </tbody>\n",
              "</table>\n",
              "</div>\n",
              "      <button class=\"colab-df-convert\" onclick=\"convertToInteractive('df-555ed54c-016f-4b88-9dad-2df3b8a30061')\"\n",
              "              title=\"Convert this dataframe to an interactive table.\"\n",
              "              style=\"display:none;\">\n",
              "        \n",
              "  <svg xmlns=\"http://www.w3.org/2000/svg\" height=\"24px\"viewBox=\"0 0 24 24\"\n",
              "       width=\"24px\">\n",
              "    <path d=\"M0 0h24v24H0V0z\" fill=\"none\"/>\n",
              "    <path d=\"M18.56 5.44l.94 2.06.94-2.06 2.06-.94-2.06-.94-.94-2.06-.94 2.06-2.06.94zm-11 1L8.5 8.5l.94-2.06 2.06-.94-2.06-.94L8.5 2.5l-.94 2.06-2.06.94zm10 10l.94 2.06.94-2.06 2.06-.94-2.06-.94-.94-2.06-.94 2.06-2.06.94z\"/><path d=\"M17.41 7.96l-1.37-1.37c-.4-.4-.92-.59-1.43-.59-.52 0-1.04.2-1.43.59L10.3 9.45l-7.72 7.72c-.78.78-.78 2.05 0 2.83L4 21.41c.39.39.9.59 1.41.59.51 0 1.02-.2 1.41-.59l7.78-7.78 2.81-2.81c.8-.78.8-2.07 0-2.86zM5.41 20L4 18.59l7.72-7.72 1.47 1.35L5.41 20z\"/>\n",
              "  </svg>\n",
              "      </button>\n",
              "      \n",
              "  <style>\n",
              "    .colab-df-container {\n",
              "      display:flex;\n",
              "      flex-wrap:wrap;\n",
              "      gap: 12px;\n",
              "    }\n",
              "\n",
              "    .colab-df-convert {\n",
              "      background-color: #E8F0FE;\n",
              "      border: none;\n",
              "      border-radius: 50%;\n",
              "      cursor: pointer;\n",
              "      display: none;\n",
              "      fill: #1967D2;\n",
              "      height: 32px;\n",
              "      padding: 0 0 0 0;\n",
              "      width: 32px;\n",
              "    }\n",
              "\n",
              "    .colab-df-convert:hover {\n",
              "      background-color: #E2EBFA;\n",
              "      box-shadow: 0px 1px 2px rgba(60, 64, 67, 0.3), 0px 1px 3px 1px rgba(60, 64, 67, 0.15);\n",
              "      fill: #174EA6;\n",
              "    }\n",
              "\n",
              "    [theme=dark] .colab-df-convert {\n",
              "      background-color: #3B4455;\n",
              "      fill: #D2E3FC;\n",
              "    }\n",
              "\n",
              "    [theme=dark] .colab-df-convert:hover {\n",
              "      background-color: #434B5C;\n",
              "      box-shadow: 0px 1px 3px 1px rgba(0, 0, 0, 0.15);\n",
              "      filter: drop-shadow(0px 1px 2px rgba(0, 0, 0, 0.3));\n",
              "      fill: #FFFFFF;\n",
              "    }\n",
              "  </style>\n",
              "\n",
              "      <script>\n",
              "        const buttonEl =\n",
              "          document.querySelector('#df-555ed54c-016f-4b88-9dad-2df3b8a30061 button.colab-df-convert');\n",
              "        buttonEl.style.display =\n",
              "          google.colab.kernel.accessAllowed ? 'block' : 'none';\n",
              "\n",
              "        async function convertToInteractive(key) {\n",
              "          const element = document.querySelector('#df-555ed54c-016f-4b88-9dad-2df3b8a30061');\n",
              "          const dataTable =\n",
              "            await google.colab.kernel.invokeFunction('convertToInteractive',\n",
              "                                                     [key], {});\n",
              "          if (!dataTable) return;\n",
              "\n",
              "          const docLinkHtml = 'Like what you see? Visit the ' +\n",
              "            '<a target=\"_blank\" href=https://colab.research.google.com/notebooks/data_table.ipynb>data table notebook</a>'\n",
              "            + ' to learn more about interactive tables.';\n",
              "          element.innerHTML = '';\n",
              "          dataTable['output_type'] = 'display_data';\n",
              "          await google.colab.output.renderOutput(dataTable, element);\n",
              "          const docLink = document.createElement('div');\n",
              "          docLink.innerHTML = docLinkHtml;\n",
              "          element.appendChild(docLink);\n",
              "        }\n",
              "      </script>\n",
              "    </div>\n",
              "  </div>\n",
              "  "
            ]
          },
          "metadata": {}
        },
        {
          "output_type": "stream",
          "name": "stderr",
          "text": [
            "INFO:logs:create_model_container: 14\n",
            "INFO:logs:master_model_container: 14\n",
            "INFO:logs:display_container: 2\n",
            "INFO:logs:[ExtraTreesClassifier(bootstrap=False, ccp_alpha=0.0, class_weight=None,\n",
            "                     criterion='gini', max_depth=None, max_features='auto',\n",
            "                     max_leaf_nodes=None, max_samples=None,\n",
            "                     min_impurity_decrease=0.0, min_impurity_split=None,\n",
            "                     min_samples_leaf=1, min_samples_split=2,\n",
            "                     min_weight_fraction_leaf=0.0, n_estimators=100, n_jobs=-1,\n",
            "                     oob_score=False, random_state=7406, verbose=0,\n",
            "                     warm_start=False), RandomForestClassifier(bootstrap=True, ccp_alpha=0.0, class_weight=None,\n",
            "                       criterion='gini', max_depth=None, max_features='auto',\n",
            "                       max_leaf_nodes=None, max_samples=None,\n",
            "                       min_impurity_decrease=0.0, min_impurity_split=None,\n",
            "                       min_samples_leaf=1, min_samples_split=2,\n",
            "                       min_weight_fraction_leaf=0.0, n_estimators=100,\n",
            "                       n_jobs=-1, oob_score=False, random_state=7406, verbose=0,\n",
            "                       warm_start=False), LGBMClassifier(boosting_type='gbdt', class_weight=None, colsample_bytree=1.0,\n",
            "               importance_type='split', learning_rate=0.1, max_depth=-1,\n",
            "               min_child_samples=20, min_child_weight=0.001, min_split_gain=0.0,\n",
            "               n_estimators=100, n_jobs=-1, num_leaves=31, objective=None,\n",
            "               random_state=7406, reg_alpha=0.0, reg_lambda=0.0, silent='warn',\n",
            "               subsample=1.0, subsample_for_bin=200000, subsample_freq=0), LinearDiscriminantAnalysis(n_components=None, priors=None, shrinkage=None,\n",
            "                           solver='svd', store_covariance=False, tol=0.0001), LogisticRegression(C=1.0, class_weight=None, dual=False, fit_intercept=True,\n",
            "                   intercept_scaling=1, l1_ratio=None, max_iter=1000,\n",
            "                   multi_class='auto', n_jobs=None, penalty='l2',\n",
            "                   random_state=7406, solver='lbfgs', tol=0.0001, verbose=0,\n",
            "                   warm_start=False)]\n",
            "INFO:logs:compare_models() succesfully completed......................................\n"
          ]
        }
      ]
    },
    {
      "cell_type": "markdown",
      "source": [
        "et(Extra Trees Classifier)의 성능이 가장 좋게 나왔다.\n",
        "\n",
        "우선 et로 모델링을 진행한다."
      ],
      "metadata": {
        "id": "HYd0HIeAe3kX"
      }
    },
    {
      "cell_type": "markdown",
      "source": [
        "#### 3.2.1 Extra Trees Classifier"
      ],
      "metadata": {
        "id": "lxsHZpire5Xq"
      }
    },
    {
      "cell_type": "code",
      "source": [
        "xtree = ExtraTreesClassifier(n_estimators=100, random_state=2022)\n",
        "xtree.fit(X_train, y_train)\n",
        "\n",
        "xtree.fit(X_train,y_train)\n",
        "y_pred = xtree.predict(X_test)\n",
        "computer_pred_proba = xtree.predict_proba(X_test)"
      ],
      "metadata": {
        "id": "KbvC8Gp7e2fy"
      },
      "execution_count": 118,
      "outputs": []
    },
    {
      "cell_type": "code",
      "source": [
        "plot_roc_curve(y_pred, computer_pred_proba)"
      ],
      "metadata": {
        "colab": {
          "base_uri": "https://localhost:8080/",
          "height": 442
        },
        "id": "5nOetEhdf0Zi",
        "outputId": "090ff8e0-c160-46d5-b7cf-7a29716482aa"
      },
      "execution_count": 119,
      "outputs": [
        {
          "output_type": "stream",
          "name": "stdout",
          "text": [
            "Confusion matrix\n",
            "[[318   8]\n",
            " [ 23  42]]\n",
            "Precision : 0.8863\n",
            "Recall    : 0.8108\n",
            "F1        : 0.8420\n",
            "Accuracy  : 0.9207\n",
            "AUC       : 0.9414  \n"
          ]
        },
        {
          "output_type": "display_data",
          "data": {
            "text/plain": [
              "<Figure size 288x288 with 1 Axes>"
            ],
            "image/png": "[encoded data removed]"
          },
          "metadata": {}
        }
      ]
    },
    {
      "cell_type": "code",
      "source": [
        "rf = RandomForestClassifier(n_estimators=200, random_state=2022)\n",
        "rf.fit(X_train, y_train)\n",
        "\n",
        "rf.fit(X_train,y_train)\n",
        "y_pred = rf.predict(X_test)\n",
        "computer_pred_proba = rf.predict_proba(X_test)"
      ],
      "metadata": {
        "id": "DEzS5Vv0gUbH"
      },
      "execution_count": 112,
      "outputs": []
    },
    {
      "cell_type": "code",
      "source": [
        "plot_roc_curve(y_pred, computer_pred_proba)"
      ],
      "metadata": {
        "colab": {
          "base_uri": "https://localhost:8080/",
          "height": 442
        },
        "id": "79l2wPjVgWIb",
        "outputId": "67382251-edb8-4e46-850b-754934be2dd8"
      },
      "execution_count": 113,
      "outputs": [
        {
          "output_type": "stream",
          "name": "stdout",
          "text": [
            "Confusion matrix\n",
            "[[315  11]\n",
            " [ 33  32]]\n",
            "Precision : 0.8247\n",
            "Recall    : 0.7293\n",
            "F1        : 0.7637\n",
            "Accuracy  : 0.8875\n",
            "AUC       : 0.9242  \n"
          ]
        },
        {
          "output_type": "display_data",
          "data": {
            "text/plain": [
              "<Figure size 288x288 with 1 Axes>"
            ],
            "image/png": "[encoded data removed]"
          },
          "metadata": {}
        }
      ]
    },
    {
      "cell_type": "code",
      "source": [
        "lgbm_wrapper = lightgbm.LGBMClassifier(n_estimators=100)\n",
        "# lgbm또한 조기중단을 수행할 수 있다.\n",
        "evals = [(X_test, y_test)]\n",
        "lgbm_wrapper.fit(X_train, y_train, early_stopping_rounds = 100, eval_metric = \"logloss\", eval_set=evals, verbose=False)\n",
        "y_pred = lgbm_wrapper.predict(X_test)\n",
        "computer_pred_proba = lgbm_wrapper.predict_proba(X_test)"
      ],
      "metadata": {
        "id": "bUQq676PgmpJ"
      },
      "execution_count": 120,
      "outputs": []
    },
    {
      "cell_type": "code",
      "source": [
        "plot_roc_curve(y_pred, computer_pred_proba)"
      ],
      "metadata": {
        "colab": {
          "base_uri": "https://localhost:8080/",
          "height": 442
        },
        "id": "kVtz5qfBgn2e",
        "outputId": "c53fe169-1298-4f63-8439-f094af657d76"
      },
      "execution_count": 121,
      "outputs": [
        {
          "output_type": "stream",
          "name": "stdout",
          "text": [
            "Confusion matrix\n",
            "[[308  18]\n",
            " [ 32  33]]\n",
            "Precision : 0.7765\n",
            "Recall    : 0.7262\n",
            "F1        : 0.7469\n",
            "Accuracy  : 0.8721\n",
            "AUC       : 0.9113  \n"
          ]
        },
        {
          "output_type": "display_data",
          "data": {
            "text/plain": [
              "<Figure size 288x288 with 1 Axes>"
            ],
            "image/png": "[encoded data removed]"
          },
          "metadata": {}
        }
      ]
    },
    {
      "cell_type": "code",
      "source": [
        "submission = pd.read_csv('./data/sample_submission.csv')"
      ],
      "metadata": {
        "id": "zg4k9BUngrtS"
      },
      "execution_count": 122,
      "outputs": []
    },
    {
      "cell_type": "code",
      "source": [
        "submission"
      ],
      "metadata": {
        "colab": {
          "base_uri": "https://localhost:8080/",
          "height": 423
        },
        "id": "-zCarK6rgtEy",
        "outputId": "fa65f8e0-80fa-4f78-9dbb-c5ff999a1e33"
      },
      "execution_count": 123,
      "outputs": [
        {
          "output_type": "execute_result",
          "data": {
            "text/plain": [
              "        id  ProdTaken\n",
              "0        1          0\n",
              "1        2          0\n",
              "2        3          0\n",
              "3        4          0\n",
              "4        5          0\n",
              "...    ...        ...\n",
              "2928  2929          0\n",
              "2929  2930          0\n",
              "2930  2931          0\n",
              "2931  2932          0\n",
              "2932  2933          0\n",
              "\n",
              "[2933 rows x 2 columns]"
            ],
            "text/html": [
              "\n",
              "  <div id=\"df-2f421bd2-d5c9-45aa-8d7c-ce5c14e2feb6\">\n",
              "    <div class=\"colab-df-container\">\n",
              "      <div>\n",
              "<style scoped>\n",
              "    .dataframe tbody tr th:only-of-type {\n",
              "        vertical-align: middle;\n",
              "    }\n",
              "\n",
              "    .dataframe tbody tr th {\n",
              "        vertical-align: top;\n",
              "    }\n",
              "\n",
              "    .dataframe thead th {\n",
              "        text-align: right;\n",
              "    }\n",
              "</style>\n",
              "<table border=\"1\" class=\"dataframe\">\n",
              "  <thead>\n",
              "    <tr style=\"text-align: right;\">\n",
              "      <th></th>\n",
              "      <th>id</th>\n",
              "      <th>ProdTaken</th>\n",
              "    </tr>\n",
              "  </thead>\n",
              "  <tbody>\n",
              "    <tr>\n",
              "      <th>0</th>\n",
              "      <td>1</td>\n",
              "      <td>0</td>\n",
              "    </tr>\n",
              "    <tr>\n",
              "      <th>1</th>\n",
              "      <td>2</td>\n",
              "      <td>0</td>\n",
              "    </tr>\n",
              "    <tr>\n",
              "      <th>2</th>\n",
              "      <td>3</td>\n",
              "      <td>0</td>\n",
              "    </tr>\n",
              "    <tr>\n",
              "      <th>3</th>\n",
              "      <td>4</td>\n",
              "      <td>0</td>\n",
              "    </tr>\n",
              "    <tr>\n",
              "      <th>4</th>\n",
              "      <td>5</td>\n",
              "      <td>0</td>\n",
              "    </tr>\n",
              "    <tr>\n",
              "      <th>...</th>\n",
              "      <td>...</td>\n",
              "      <td>...</td>\n",
              "    </tr>\n",
              "    <tr>\n",
              "      <th>2928</th>\n",
              "      <td>2929</td>\n",
              "      <td>0</td>\n",
              "    </tr>\n",
              "    <tr>\n",
              "      <th>2929</th>\n",
              "      <td>2930</td>\n",
              "      <td>0</td>\n",
              "    </tr>\n",
              "    <tr>\n",
              "      <th>2930</th>\n",
              "      <td>2931</td>\n",
              "      <td>0</td>\n",
              "    </tr>\n",
              "    <tr>\n",
              "      <th>2931</th>\n",
              "      <td>2932</td>\n",
              "      <td>0</td>\n",
              "    </tr>\n",
              "    <tr>\n",
              "      <th>2932</th>\n",
              "      <td>2933</td>\n",
              "      <td>0</td>\n",
              "    </tr>\n",
              "  </tbody>\n",
              "</table>\n",
              "<p>2933 rows × 2 columns</p>\n",
              "</div>\n",
              "      <button class=\"colab-df-convert\" onclick=\"convertToInteractive('df-2f421bd2-d5c9-45aa-8d7c-ce5c14e2feb6')\"\n",
              "              title=\"Convert this dataframe to an interactive table.\"\n",
              "              style=\"display:none;\">\n",
              "        \n",
              "  <svg xmlns=\"http://www.w3.org/2000/svg\" height=\"24px\"viewBox=\"0 0 24 24\"\n",
              "       width=\"24px\">\n",
              "    <path d=\"M0 0h24v24H0V0z\" fill=\"none\"/>\n",
              "    <path d=\"M18.56 5.44l.94 2.06.94-2.06 2.06-.94-2.06-.94-.94-2.06-.94 2.06-2.06.94zm-11 1L8.5 8.5l.94-2.06 2.06-.94-2.06-.94L8.5 2.5l-.94 2.06-2.06.94zm10 10l.94 2.06.94-2.06 2.06-.94-2.06-.94-.94-2.06-.94 2.06-2.06.94z\"/><path d=\"M17.41 7.96l-1.37-1.37c-.4-.4-.92-.59-1.43-.59-.52 0-1.04.2-1.43.59L10.3 9.45l-7.72 7.72c-.78.78-.78 2.05 0 2.83L4 21.41c.39.39.9.59 1.41.59.51 0 1.02-.2 1.41-.59l7.78-7.78 2.81-2.81c.8-.78.8-2.07 0-2.86zM5.41 20L4 18.59l7.72-7.72 1.47 1.35L5.41 20z\"/>\n",
              "  </svg>\n",
              "      </button>\n",
              "      \n",
              "  <style>\n",
              "    .colab-df-container {\n",
              "      display:flex;\n",
              "      flex-wrap:wrap;\n",
              "      gap: 12px;\n",
              "    }\n",
              "\n",
              "    .colab-df-convert {\n",
              "      background-color: #E8F0FE;\n",
              "      border: none;\n",
              "      border-radius: 50%;\n",
              "      cursor: pointer;\n",
              "      display: none;\n",
              "      fill: #1967D2;\n",
              "      height: 32px;\n",
              "      padding: 0 0 0 0;\n",
              "      width: 32px;\n",
              "    }\n",
              "\n",
              "    .colab-df-convert:hover {\n",
              "      background-color: #E2EBFA;\n",
              "      box-shadow: 0px 1px 2px rgba(60, 64, 67, 0.3), 0px 1px 3px 1px rgba(60, 64, 67, 0.15);\n",
              "      fill: #174EA6;\n",
              "    }\n",
              "\n",
              "    [theme=dark] .colab-df-convert {\n",
              "      background-color: #3B4455;\n",
              "      fill: #D2E3FC;\n",
              "    }\n",
              "\n",
              "    [theme=dark] .colab-df-convert:hover {\n",
              "      background-color: #434B5C;\n",
              "      box-shadow: 0px 1px 3px 1px rgba(0, 0, 0, 0.15);\n",
              "      filter: drop-shadow(0px 1px 2px rgba(0, 0, 0, 0.3));\n",
              "      fill: #FFFFFF;\n",
              "    }\n",
              "  </style>\n",
              "\n",
              "      <script>\n",
              "        const buttonEl =\n",
              "          document.querySelector('#df-2f421bd2-d5c9-45aa-8d7c-ce5c14e2feb6 button.colab-df-convert');\n",
              "        buttonEl.style.display =\n",
              "          google.colab.kernel.accessAllowed ? 'block' : 'none';\n",
              "\n",
              "        async function convertToInteractive(key) {\n",
              "          const element = document.querySelector('#df-2f421bd2-d5c9-45aa-8d7c-ce5c14e2feb6');\n",
              "          const dataTable =\n",
              "            await google.colab.kernel.invokeFunction('convertToInteractive',\n",
              "                                                     [key], {});\n",
              "          if (!dataTable) return;\n",
              "\n",
              "          const docLinkHtml = 'Like what you see? Visit the ' +\n",
              "            '<a target=\"_blank\" href=https://colab.research.google.com/notebooks/data_table.ipynb>data table notebook</a>'\n",
              "            + ' to learn more about interactive tables.';\n",
              "          element.innerHTML = '';\n",
              "          dataTable['output_type'] = 'display_data';\n",
              "          await google.colab.output.renderOutput(dataTable, element);\n",
              "          const docLink = document.createElement('div');\n",
              "          docLink.innerHTML = docLinkHtml;\n",
              "          element.appendChild(docLink);\n",
              "        }\n",
              "      </script>\n",
              "    </div>\n",
              "  </div>\n",
              "  "
            ]
          },
          "metadata": {},
          "execution_count": 123
        }
      ]
    }
  ]
}
