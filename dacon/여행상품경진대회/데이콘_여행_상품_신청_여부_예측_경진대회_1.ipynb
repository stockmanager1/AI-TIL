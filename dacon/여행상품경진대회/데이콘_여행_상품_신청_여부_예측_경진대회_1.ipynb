{
  "nbformat": 4,
  "nbformat_minor": 0,
  "metadata": {
    "colab": {
      "name": "데이콘 여행 상품 신청 여부 예측 경진대회-1.ipynb",
      "provenance": [],
      "collapsed_sections": []
    },
    "kernelspec": {
      "name": "python3",
      "display_name": "Python 3"
    },
    "language_info": {
      "name": "python"
    }
  },
  "cells": [
    {
      "cell_type": "markdown",
      "source": [
        "#8월 9일"
      ],
      "metadata": {
        "id": "9_cw4z29pytG"
      }
    },
    {
      "cell_type": "markdown",
      "source": [
        "#1. 드라이브에 저장된 파일 가저오기"
      ],
      "metadata": {
        "id": "DEZY7UWQjikC"
      }
    },
    {
      "cell_type": "code",
      "source": [
        "!pip install gdrive_dataset"
      ],
      "metadata": {
        "colab": {
          "base_uri": "https://localhost:8080/"
        },
        "id": "XEvH_U3UipR9",
        "outputId": "92fb6500-d47d-49e4-93bc-180c3c8f6d2e"
      },
      "execution_count": 4,
      "outputs": [
        {
          "output_type": "stream",
          "name": "stdout",
          "text": [
            "Looking in indexes: https://pypi.org/simple, https://us-python.pkg.dev/colab-wheels/public/simple/\n",
            "Collecting gdrive_dataset\n",
            "  Downloading gdrive_dataset-0.0.6-py3-none-any.whl (2.1 kB)\n",
            "Requirement already satisfied: googledrivedownloader in /usr/local/lib/python3.7/dist-packages (from gdrive_dataset) (0.4)\n",
            "Installing collected packages: gdrive-dataset\n",
            "Successfully installed gdrive-dataset-0.0.6\n"
          ]
        }
      ]
    },
    {
      "cell_type": "code",
      "source": [
        "from gdrivedataset import loader\n",
        "file_id = '15qA4X0jTAhYUyiW-rq81rQGXWCC7_CSB'\n",
        "loader.load_from_google_drive(file_id)"
      ],
      "metadata": {
        "colab": {
          "base_uri": "https://localhost:8080/"
        },
        "id": "Sd4tRAxJjVgj",
        "outputId": "82241163-6009-4907-c4c1-d8140d2fe28b"
      },
      "execution_count": 5,
      "outputs": [
        {
          "output_type": "stream",
          "name": "stdout",
          "text": [
            "Downloading 15qA4X0jTAhYUyiW-rq81rQGXWCC7_CSB into ./dataset.zip... Done.\n",
            "========== files ============\n",
            "\n",
            "data/sample_submission.csv\n",
            "data/train.csv\n",
            "data/test.csv\n",
            "\n",
            "=============================\n"
          ]
        }
      ]
    },
    {
      "cell_type": "markdown",
      "source": [
        "#2. 라이브러리 설치"
      ],
      "metadata": {
        "id": "TkWLwXoCjvPy"
      }
    },
    {
      "cell_type": "code",
      "source": [
        "import numpy as np\n",
        "import matplotlib.pyplot as plt\n",
        "import pandas as pd\n",
        "from sklearn import datasets"
      ],
      "metadata": {
        "id": "a1oIbhtzjo9s"
      },
      "execution_count": 8,
      "outputs": []
    },
    {
      "cell_type": "markdown",
      "source": [
        "#3.우선 각 데이터를 살펴보자"
      ],
      "metadata": {
        "id": "7Mo9MWlhmFK3"
      }
    },
    {
      "cell_type": "markdown",
      "source": [
        "##test data"
      ],
      "metadata": {
        "id": "7kdm3hzunR-F"
      }
    },
    {
      "cell_type": "code",
      "source": [
        "\n",
        "!unzip -qq '/content/dataset.zip' # 압축파일 경로"
      ],
      "metadata": {
        "id": "hqvgj5ZFkRBH"
      },
      "execution_count": 13,
      "outputs": []
    },
    {
      "cell_type": "code",
      "source": [
        "test_df = pd.read_csv('test.csv')\n",
        "test_df.describe()"
      ],
      "metadata": {
        "colab": {
          "base_uri": "https://localhost:8080/",
          "height": 364
        },
        "id": "6kXmXpFgj7oj",
        "outputId": "262c62e8-7442-4244-fa5f-cf3ce9cc9d37"
      },
      "execution_count": 15,
      "outputs": [
        {
          "output_type": "execute_result",
          "data": {
            "text/plain": [
              "                id          Age     CityTier  DurationOfPitch  \\\n",
              "count  2933.000000  2801.000000  2933.000000       2784.00000   \n",
              "mean   1467.000000    37.728668     1.662803         15.46875   \n",
              "std     846.828495     9.399578     0.921827          8.75837   \n",
              "min       1.000000    18.000000     1.000000          5.00000   \n",
              "25%     734.000000    31.000000     1.000000          9.00000   \n",
              "50%    1467.000000    36.000000     1.000000         13.00000   \n",
              "75%    2200.000000    44.000000     3.000000         20.00000   \n",
              "max    2933.000000    61.000000     3.000000        127.00000   \n",
              "\n",
              "       NumberOfPersonVisiting  NumberOfFollowups  PreferredPropertyStar  \\\n",
              "count             2933.000000        2901.000000            2917.000000   \n",
              "mean                 2.893283           3.701827               3.589304   \n",
              "std                  0.733062           1.001564               0.801231   \n",
              "min                  1.000000           1.000000               3.000000   \n",
              "25%                  2.000000           3.000000               3.000000   \n",
              "50%                  3.000000           4.000000               3.000000   \n",
              "75%                  3.000000           4.000000               4.000000   \n",
              "max                  5.000000           6.000000               5.000000   \n",
              "\n",
              "       NumberOfTrips     Passport  PitchSatisfactionScore       OwnCar  \\\n",
              "count    2850.000000  2933.000000             2933.000000  2933.000000   \n",
              "mean        3.223860     0.290829                3.085237     0.620866   \n",
              "std         1.871736     0.454222                1.361211     0.485254   \n",
              "min         1.000000     0.000000                1.000000     0.000000   \n",
              "25%         2.000000     0.000000                2.000000     0.000000   \n",
              "50%         3.000000     0.000000                3.000000     1.000000   \n",
              "75%         4.000000     1.000000                4.000000     1.000000   \n",
              "max        22.000000     1.000000                5.000000     1.000000   \n",
              "\n",
              "       NumberOfChildrenVisiting  MonthlyIncome  \n",
              "count               2894.000000    2800.000000  \n",
              "mean                   1.170007   23617.034286  \n",
              "std                    0.856515    5202.476652  \n",
              "min                    0.000000    4678.000000  \n",
              "25%                    1.000000   20295.750000  \n",
              "50%                    1.000000   22369.500000  \n",
              "75%                    2.000000   25580.000000  \n",
              "max                    3.000000   38677.000000  "
            ],
            "text/html": [
              "\n",
              "  <div id=\"df-16d76482-8256-4d2a-8a0e-7ccf3c1c2171\">\n",
              "    <div class=\"colab-df-container\">\n",
              "      <div>\n",
              "<style scoped>\n",
              "    .dataframe tbody tr th:only-of-type {\n",
              "        vertical-align: middle;\n",
              "    }\n",
              "\n",
              "    .dataframe tbody tr th {\n",
              "        vertical-align: top;\n",
              "    }\n",
              "\n",
              "    .dataframe thead th {\n",
              "        text-align: right;\n",
              "    }\n",
              "</style>\n",
              "<table border=\"1\" class=\"dataframe\">\n",
              "  <thead>\n",
              "    <tr style=\"text-align: right;\">\n",
              "      <th></th>\n",
              "      <th>id</th>\n",
              "      <th>Age</th>\n",
              "      <th>CityTier</th>\n",
              "      <th>DurationOfPitch</th>\n",
              "      <th>NumberOfPersonVisiting</th>\n",
              "      <th>NumberOfFollowups</th>\n",
              "      <th>PreferredPropertyStar</th>\n",
              "      <th>NumberOfTrips</th>\n",
              "      <th>Passport</th>\n",
              "      <th>PitchSatisfactionScore</th>\n",
              "      <th>OwnCar</th>\n",
              "      <th>NumberOfChildrenVisiting</th>\n",
              "      <th>MonthlyIncome</th>\n",
              "    </tr>\n",
              "  </thead>\n",
              "  <tbody>\n",
              "    <tr>\n",
              "      <th>count</th>\n",
              "      <td>2933.000000</td>\n",
              "      <td>2801.000000</td>\n",
              "      <td>2933.000000</td>\n",
              "      <td>2784.00000</td>\n",
              "      <td>2933.000000</td>\n",
              "      <td>2901.000000</td>\n",
              "      <td>2917.000000</td>\n",
              "      <td>2850.000000</td>\n",
              "      <td>2933.000000</td>\n",
              "      <td>2933.000000</td>\n",
              "      <td>2933.000000</td>\n",
              "      <td>2894.000000</td>\n",
              "      <td>2800.000000</td>\n",
              "    </tr>\n",
              "    <tr>\n",
              "      <th>mean</th>\n",
              "      <td>1467.000000</td>\n",
              "      <td>37.728668</td>\n",
              "      <td>1.662803</td>\n",
              "      <td>15.46875</td>\n",
              "      <td>2.893283</td>\n",
              "      <td>3.701827</td>\n",
              "      <td>3.589304</td>\n",
              "      <td>3.223860</td>\n",
              "      <td>0.290829</td>\n",
              "      <td>3.085237</td>\n",
              "      <td>0.620866</td>\n",
              "      <td>1.170007</td>\n",
              "      <td>23617.034286</td>\n",
              "    </tr>\n",
              "    <tr>\n",
              "      <th>std</th>\n",
              "      <td>846.828495</td>\n",
              "      <td>9.399578</td>\n",
              "      <td>0.921827</td>\n",
              "      <td>8.75837</td>\n",
              "      <td>0.733062</td>\n",
              "      <td>1.001564</td>\n",
              "      <td>0.801231</td>\n",
              "      <td>1.871736</td>\n",
              "      <td>0.454222</td>\n",
              "      <td>1.361211</td>\n",
              "      <td>0.485254</td>\n",
              "      <td>0.856515</td>\n",
              "      <td>5202.476652</td>\n",
              "    </tr>\n",
              "    <tr>\n",
              "      <th>min</th>\n",
              "      <td>1.000000</td>\n",
              "      <td>18.000000</td>\n",
              "      <td>1.000000</td>\n",
              "      <td>5.00000</td>\n",
              "      <td>1.000000</td>\n",
              "      <td>1.000000</td>\n",
              "      <td>3.000000</td>\n",
              "      <td>1.000000</td>\n",
              "      <td>0.000000</td>\n",
              "      <td>1.000000</td>\n",
              "      <td>0.000000</td>\n",
              "      <td>0.000000</td>\n",
              "      <td>4678.000000</td>\n",
              "    </tr>\n",
              "    <tr>\n",
              "      <th>25%</th>\n",
              "      <td>734.000000</td>\n",
              "      <td>31.000000</td>\n",
              "      <td>1.000000</td>\n",
              "      <td>9.00000</td>\n",
              "      <td>2.000000</td>\n",
              "      <td>3.000000</td>\n",
              "      <td>3.000000</td>\n",
              "      <td>2.000000</td>\n",
              "      <td>0.000000</td>\n",
              "      <td>2.000000</td>\n",
              "      <td>0.000000</td>\n",
              "      <td>1.000000</td>\n",
              "      <td>20295.750000</td>\n",
              "    </tr>\n",
              "    <tr>\n",
              "      <th>50%</th>\n",
              "      <td>1467.000000</td>\n",
              "      <td>36.000000</td>\n",
              "      <td>1.000000</td>\n",
              "      <td>13.00000</td>\n",
              "      <td>3.000000</td>\n",
              "      <td>4.000000</td>\n",
              "      <td>3.000000</td>\n",
              "      <td>3.000000</td>\n",
              "      <td>0.000000</td>\n",
              "      <td>3.000000</td>\n",
              "      <td>1.000000</td>\n",
              "      <td>1.000000</td>\n",
              "      <td>22369.500000</td>\n",
              "    </tr>\n",
              "    <tr>\n",
              "      <th>75%</th>\n",
              "      <td>2200.000000</td>\n",
              "      <td>44.000000</td>\n",
              "      <td>3.000000</td>\n",
              "      <td>20.00000</td>\n",
              "      <td>3.000000</td>\n",
              "      <td>4.000000</td>\n",
              "      <td>4.000000</td>\n",
              "      <td>4.000000</td>\n",
              "      <td>1.000000</td>\n",
              "      <td>4.000000</td>\n",
              "      <td>1.000000</td>\n",
              "      <td>2.000000</td>\n",
              "      <td>25580.000000</td>\n",
              "    </tr>\n",
              "    <tr>\n",
              "      <th>max</th>\n",
              "      <td>2933.000000</td>\n",
              "      <td>61.000000</td>\n",
              "      <td>3.000000</td>\n",
              "      <td>127.00000</td>\n",
              "      <td>5.000000</td>\n",
              "      <td>6.000000</td>\n",
              "      <td>5.000000</td>\n",
              "      <td>22.000000</td>\n",
              "      <td>1.000000</td>\n",
              "      <td>5.000000</td>\n",
              "      <td>1.000000</td>\n",
              "      <td>3.000000</td>\n",
              "      <td>38677.000000</td>\n",
              "    </tr>\n",
              "  </tbody>\n",
              "</table>\n",
              "</div>\n",
              "      <button class=\"colab-df-convert\" onclick=\"convertToInteractive('df-16d76482-8256-4d2a-8a0e-7ccf3c1c2171')\"\n",
              "              title=\"Convert this dataframe to an interactive table.\"\n",
              "              style=\"display:none;\">\n",
              "        \n",
              "  <svg xmlns=\"http://www.w3.org/2000/svg\" height=\"24px\"viewBox=\"0 0 24 24\"\n",
              "       width=\"24px\">\n",
              "    <path d=\"M0 0h24v24H0V0z\" fill=\"none\"/>\n",
              "    <path d=\"M18.56 5.44l.94 2.06.94-2.06 2.06-.94-2.06-.94-.94-2.06-.94 2.06-2.06.94zm-11 1L8.5 8.5l.94-2.06 2.06-.94-2.06-.94L8.5 2.5l-.94 2.06-2.06.94zm10 10l.94 2.06.94-2.06 2.06-.94-2.06-.94-.94-2.06-.94 2.06-2.06.94z\"/><path d=\"M17.41 7.96l-1.37-1.37c-.4-.4-.92-.59-1.43-.59-.52 0-1.04.2-1.43.59L10.3 9.45l-7.72 7.72c-.78.78-.78 2.05 0 2.83L4 21.41c.39.39.9.59 1.41.59.51 0 1.02-.2 1.41-.59l7.78-7.78 2.81-2.81c.8-.78.8-2.07 0-2.86zM5.41 20L4 18.59l7.72-7.72 1.47 1.35L5.41 20z\"/>\n",
              "  </svg>\n",
              "      </button>\n",
              "      \n",
              "  <style>\n",
              "    .colab-df-container {\n",
              "      display:flex;\n",
              "      flex-wrap:wrap;\n",
              "      gap: 12px;\n",
              "    }\n",
              "\n",
              "    .colab-df-convert {\n",
              "      background-color: #E8F0FE;\n",
              "      border: none;\n",
              "      border-radius: 50%;\n",
              "      cursor: pointer;\n",
              "      display: none;\n",
              "      fill: #1967D2;\n",
              "      height: 32px;\n",
              "      padding: 0 0 0 0;\n",
              "      width: 32px;\n",
              "    }\n",
              "\n",
              "    .colab-df-convert:hover {\n",
              "      background-color: #E2EBFA;\n",
              "      box-shadow: 0px 1px 2px rgba(60, 64, 67, 0.3), 0px 1px 3px 1px rgba(60, 64, 67, 0.15);\n",
              "      fill: #174EA6;\n",
              "    }\n",
              "\n",
              "    [theme=dark] .colab-df-convert {\n",
              "      background-color: #3B4455;\n",
              "      fill: #D2E3FC;\n",
              "    }\n",
              "\n",
              "    [theme=dark] .colab-df-convert:hover {\n",
              "      background-color: #434B5C;\n",
              "      box-shadow: 0px 1px 3px 1px rgba(0, 0, 0, 0.15);\n",
              "      filter: drop-shadow(0px 1px 2px rgba(0, 0, 0, 0.3));\n",
              "      fill: #FFFFFF;\n",
              "    }\n",
              "  </style>\n",
              "\n",
              "      <script>\n",
              "        const buttonEl =\n",
              "          document.querySelector('#df-16d76482-8256-4d2a-8a0e-7ccf3c1c2171 button.colab-df-convert');\n",
              "        buttonEl.style.display =\n",
              "          google.colab.kernel.accessAllowed ? 'block' : 'none';\n",
              "\n",
              "        async function convertToInteractive(key) {\n",
              "          const element = document.querySelector('#df-16d76482-8256-4d2a-8a0e-7ccf3c1c2171');\n",
              "          const dataTable =\n",
              "            await google.colab.kernel.invokeFunction('convertToInteractive',\n",
              "                                                     [key], {});\n",
              "          if (!dataTable) return;\n",
              "\n",
              "          const docLinkHtml = 'Like what you see? Visit the ' +\n",
              "            '<a target=\"_blank\" href=https://colab.research.google.com/notebooks/data_table.ipynb>data table notebook</a>'\n",
              "            + ' to learn more about interactive tables.';\n",
              "          element.innerHTML = '';\n",
              "          dataTable['output_type'] = 'display_data';\n",
              "          await google.colab.output.renderOutput(dataTable, element);\n",
              "          const docLink = document.createElement('div');\n",
              "          docLink.innerHTML = docLinkHtml;\n",
              "          element.appendChild(docLink);\n",
              "        }\n",
              "      </script>\n",
              "    </div>\n",
              "  </div>\n",
              "  "
            ]
          },
          "metadata": {},
          "execution_count": 15
        }
      ]
    },
    {
      "cell_type": "code",
      "source": [
        "test_df.columns"
      ],
      "metadata": {
        "colab": {
          "base_uri": "https://localhost:8080/"
        },
        "id": "l6LDm8Phlo1a",
        "outputId": "5f773893-e70b-480f-c1db-78fdfef7795a"
      },
      "execution_count": 26,
      "outputs": [
        {
          "output_type": "execute_result",
          "data": {
            "text/plain": [
              "Index(['id', 'Age', 'TypeofContact', 'CityTier', 'DurationOfPitch',\n",
              "       'Occupation', 'Gender', 'NumberOfPersonVisiting', 'NumberOfFollowups',\n",
              "       'ProductPitched', 'PreferredPropertyStar', 'MaritalStatus',\n",
              "       'NumberOfTrips', 'Passport', 'PitchSatisfactionScore', 'OwnCar',\n",
              "       'NumberOfChildrenVisiting', 'Designation', 'MonthlyIncome'],\n",
              "      dtype='object')"
            ]
          },
          "metadata": {},
          "execution_count": 26
        }
      ]
    },
    {
      "cell_type": "code",
      "source": [
        "len(test_df.columns)\n"
      ],
      "metadata": {
        "colab": {
          "base_uri": "https://localhost:8080/"
        },
        "id": "NJ-Ab3aomd1w",
        "outputId": "e654545e-b3fb-4032-9bdd-a2a8d1905345"
      },
      "execution_count": 30,
      "outputs": [
        {
          "output_type": "execute_result",
          "data": {
            "text/plain": [
              "19"
            ]
          },
          "metadata": {},
          "execution_count": 30
        }
      ]
    },
    {
      "cell_type": "markdown",
      "source": [
        "##train data"
      ],
      "metadata": {
        "id": "_yVV9yW4nY9n"
      }
    },
    {
      "cell_type": "code",
      "source": [
        "train_df = pd.read_csv('train.csv')\n",
        "train_df.describe()"
      ],
      "metadata": {
        "colab": {
          "base_uri": "https://localhost:8080/",
          "height": 364
        },
        "id": "MYA_ll97mS6l",
        "outputId": "76e51ef9-b2f9-4e24-f44c-968547ecc8d3"
      },
      "execution_count": 34,
      "outputs": [
        {
          "output_type": "execute_result",
          "data": {
            "text/plain": [
              "                id          Age     CityTier  DurationOfPitch  \\\n",
              "count  1955.000000  1861.000000  1955.000000      1853.000000   \n",
              "mean    978.000000    37.462117     1.641432        15.524015   \n",
              "std     564.504207     9.189948     0.908744         8.150057   \n",
              "min       1.000000    18.000000     1.000000         5.000000   \n",
              "25%     489.500000    31.000000     1.000000         9.000000   \n",
              "50%     978.000000    36.000000     1.000000        14.000000   \n",
              "75%    1466.500000    43.000000     3.000000        20.000000   \n",
              "max    1955.000000    61.000000     3.000000        36.000000   \n",
              "\n",
              "       NumberOfPersonVisiting  NumberOfFollowups  PreferredPropertyStar  \\\n",
              "count             1955.000000        1942.000000            1945.000000   \n",
              "mean                 2.922762           3.718332               3.568638   \n",
              "std                  0.712276           1.004095               0.793196   \n",
              "min                  1.000000           1.000000               3.000000   \n",
              "25%                  2.000000           3.000000               3.000000   \n",
              "50%                  3.000000           4.000000               3.000000   \n",
              "75%                  3.000000           4.000000               4.000000   \n",
              "max                  5.000000           6.000000               5.000000   \n",
              "\n",
              "       NumberOfTrips     Passport  PitchSatisfactionScore       OwnCar  \\\n",
              "count    1898.000000  1955.000000             1955.000000  1955.000000   \n",
              "mean        3.255532     0.291049                3.067519     0.619437   \n",
              "std         1.814698     0.454362                1.372915     0.485649   \n",
              "min         1.000000     0.000000                1.000000     0.000000   \n",
              "25%         2.000000     0.000000                2.000000     0.000000   \n",
              "50%         3.000000     0.000000                3.000000     1.000000   \n",
              "75%         4.000000     1.000000                4.000000     1.000000   \n",
              "max        19.000000     1.000000                5.000000     1.000000   \n",
              "\n",
              "       NumberOfChildrenVisiting  MonthlyIncome    ProdTaken  \n",
              "count               1928.000000    1855.000000  1955.000000  \n",
              "mean                   1.213174   23624.108895     0.195908  \n",
              "std                    0.859450    5640.482258     0.397000  \n",
              "min                    0.000000    1000.000000     0.000000  \n",
              "25%                    1.000000   20390.000000     0.000000  \n",
              "50%                    1.000000   22295.000000     0.000000  \n",
              "75%                    2.000000   25558.000000     0.000000  \n",
              "max                    3.000000   98678.000000     1.000000  "
            ],
            "text/html": [
              "\n",
              "  <div id=\"df-65a43e63-18fb-45c1-92a6-1a2a58ae7f4e\">\n",
              "    <div class=\"colab-df-container\">\n",
              "      <div>\n",
              "<style scoped>\n",
              "    .dataframe tbody tr th:only-of-type {\n",
              "        vertical-align: middle;\n",
              "    }\n",
              "\n",
              "    .dataframe tbody tr th {\n",
              "        vertical-align: top;\n",
              "    }\n",
              "\n",
              "    .dataframe thead th {\n",
              "        text-align: right;\n",
              "    }\n",
              "</style>\n",
              "<table border=\"1\" class=\"dataframe\">\n",
              "  <thead>\n",
              "    <tr style=\"text-align: right;\">\n",
              "      <th></th>\n",
              "      <th>id</th>\n",
              "      <th>Age</th>\n",
              "      <th>CityTier</th>\n",
              "      <th>DurationOfPitch</th>\n",
              "      <th>NumberOfPersonVisiting</th>\n",
              "      <th>NumberOfFollowups</th>\n",
              "      <th>PreferredPropertyStar</th>\n",
              "      <th>NumberOfTrips</th>\n",
              "      <th>Passport</th>\n",
              "      <th>PitchSatisfactionScore</th>\n",
              "      <th>OwnCar</th>\n",
              "      <th>NumberOfChildrenVisiting</th>\n",
              "      <th>MonthlyIncome</th>\n",
              "      <th>ProdTaken</th>\n",
              "    </tr>\n",
              "  </thead>\n",
              "  <tbody>\n",
              "    <tr>\n",
              "      <th>count</th>\n",
              "      <td>1955.000000</td>\n",
              "      <td>1861.000000</td>\n",
              "      <td>1955.000000</td>\n",
              "      <td>1853.000000</td>\n",
              "      <td>1955.000000</td>\n",
              "      <td>1942.000000</td>\n",
              "      <td>1945.000000</td>\n",
              "      <td>1898.000000</td>\n",
              "      <td>1955.000000</td>\n",
              "      <td>1955.000000</td>\n",
              "      <td>1955.000000</td>\n",
              "      <td>1928.000000</td>\n",
              "      <td>1855.000000</td>\n",
              "      <td>1955.000000</td>\n",
              "    </tr>\n",
              "    <tr>\n",
              "      <th>mean</th>\n",
              "      <td>978.000000</td>\n",
              "      <td>37.462117</td>\n",
              "      <td>1.641432</td>\n",
              "      <td>15.524015</td>\n",
              "      <td>2.922762</td>\n",
              "      <td>3.718332</td>\n",
              "      <td>3.568638</td>\n",
              "      <td>3.255532</td>\n",
              "      <td>0.291049</td>\n",
              "      <td>3.067519</td>\n",
              "      <td>0.619437</td>\n",
              "      <td>1.213174</td>\n",
              "      <td>23624.108895</td>\n",
              "      <td>0.195908</td>\n",
              "    </tr>\n",
              "    <tr>\n",
              "      <th>std</th>\n",
              "      <td>564.504207</td>\n",
              "      <td>9.189948</td>\n",
              "      <td>0.908744</td>\n",
              "      <td>8.150057</td>\n",
              "      <td>0.712276</td>\n",
              "      <td>1.004095</td>\n",
              "      <td>0.793196</td>\n",
              "      <td>1.814698</td>\n",
              "      <td>0.454362</td>\n",
              "      <td>1.372915</td>\n",
              "      <td>0.485649</td>\n",
              "      <td>0.859450</td>\n",
              "      <td>5640.482258</td>\n",
              "      <td>0.397000</td>\n",
              "    </tr>\n",
              "    <tr>\n",
              "      <th>min</th>\n",
              "      <td>1.000000</td>\n",
              "      <td>18.000000</td>\n",
              "      <td>1.000000</td>\n",
              "      <td>5.000000</td>\n",
              "      <td>1.000000</td>\n",
              "      <td>1.000000</td>\n",
              "      <td>3.000000</td>\n",
              "      <td>1.000000</td>\n",
              "      <td>0.000000</td>\n",
              "      <td>1.000000</td>\n",
              "      <td>0.000000</td>\n",
              "      <td>0.000000</td>\n",
              "      <td>1000.000000</td>\n",
              "      <td>0.000000</td>\n",
              "    </tr>\n",
              "    <tr>\n",
              "      <th>25%</th>\n",
              "      <td>489.500000</td>\n",
              "      <td>31.000000</td>\n",
              "      <td>1.000000</td>\n",
              "      <td>9.000000</td>\n",
              "      <td>2.000000</td>\n",
              "      <td>3.000000</td>\n",
              "      <td>3.000000</td>\n",
              "      <td>2.000000</td>\n",
              "      <td>0.000000</td>\n",
              "      <td>2.000000</td>\n",
              "      <td>0.000000</td>\n",
              "      <td>1.000000</td>\n",
              "      <td>20390.000000</td>\n",
              "      <td>0.000000</td>\n",
              "    </tr>\n",
              "    <tr>\n",
              "      <th>50%</th>\n",
              "      <td>978.000000</td>\n",
              "      <td>36.000000</td>\n",
              "      <td>1.000000</td>\n",
              "      <td>14.000000</td>\n",
              "      <td>3.000000</td>\n",
              "      <td>4.000000</td>\n",
              "      <td>3.000000</td>\n",
              "      <td>3.000000</td>\n",
              "      <td>0.000000</td>\n",
              "      <td>3.000000</td>\n",
              "      <td>1.000000</td>\n",
              "      <td>1.000000</td>\n",
              "      <td>22295.000000</td>\n",
              "      <td>0.000000</td>\n",
              "    </tr>\n",
              "    <tr>\n",
              "      <th>75%</th>\n",
              "      <td>1466.500000</td>\n",
              "      <td>43.000000</td>\n",
              "      <td>3.000000</td>\n",
              "      <td>20.000000</td>\n",
              "      <td>3.000000</td>\n",
              "      <td>4.000000</td>\n",
              "      <td>4.000000</td>\n",
              "      <td>4.000000</td>\n",
              "      <td>1.000000</td>\n",
              "      <td>4.000000</td>\n",
              "      <td>1.000000</td>\n",
              "      <td>2.000000</td>\n",
              "      <td>25558.000000</td>\n",
              "      <td>0.000000</td>\n",
              "    </tr>\n",
              "    <tr>\n",
              "      <th>max</th>\n",
              "      <td>1955.000000</td>\n",
              "      <td>61.000000</td>\n",
              "      <td>3.000000</td>\n",
              "      <td>36.000000</td>\n",
              "      <td>5.000000</td>\n",
              "      <td>6.000000</td>\n",
              "      <td>5.000000</td>\n",
              "      <td>19.000000</td>\n",
              "      <td>1.000000</td>\n",
              "      <td>5.000000</td>\n",
              "      <td>1.000000</td>\n",
              "      <td>3.000000</td>\n",
              "      <td>98678.000000</td>\n",
              "      <td>1.000000</td>\n",
              "    </tr>\n",
              "  </tbody>\n",
              "</table>\n",
              "</div>\n",
              "      <button class=\"colab-df-convert\" onclick=\"convertToInteractive('df-65a43e63-18fb-45c1-92a6-1a2a58ae7f4e')\"\n",
              "              title=\"Convert this dataframe to an interactive table.\"\n",
              "              style=\"display:none;\">\n",
              "        \n",
              "  <svg xmlns=\"http://www.w3.org/2000/svg\" height=\"24px\"viewBox=\"0 0 24 24\"\n",
              "       width=\"24px\">\n",
              "    <path d=\"M0 0h24v24H0V0z\" fill=\"none\"/>\n",
              "    <path d=\"M18.56 5.44l.94 2.06.94-2.06 2.06-.94-2.06-.94-.94-2.06-.94 2.06-2.06.94zm-11 1L8.5 8.5l.94-2.06 2.06-.94-2.06-.94L8.5 2.5l-.94 2.06-2.06.94zm10 10l.94 2.06.94-2.06 2.06-.94-2.06-.94-.94-2.06-.94 2.06-2.06.94z\"/><path d=\"M17.41 7.96l-1.37-1.37c-.4-.4-.92-.59-1.43-.59-.52 0-1.04.2-1.43.59L10.3 9.45l-7.72 7.72c-.78.78-.78 2.05 0 2.83L4 21.41c.39.39.9.59 1.41.59.51 0 1.02-.2 1.41-.59l7.78-7.78 2.81-2.81c.8-.78.8-2.07 0-2.86zM5.41 20L4 18.59l7.72-7.72 1.47 1.35L5.41 20z\"/>\n",
              "  </svg>\n",
              "      </button>\n",
              "      \n",
              "  <style>\n",
              "    .colab-df-container {\n",
              "      display:flex;\n",
              "      flex-wrap:wrap;\n",
              "      gap: 12px;\n",
              "    }\n",
              "\n",
              "    .colab-df-convert {\n",
              "      background-color: #E8F0FE;\n",
              "      border: none;\n",
              "      border-radius: 50%;\n",
              "      cursor: pointer;\n",
              "      display: none;\n",
              "      fill: #1967D2;\n",
              "      height: 32px;\n",
              "      padding: 0 0 0 0;\n",
              "      width: 32px;\n",
              "    }\n",
              "\n",
              "    .colab-df-convert:hover {\n",
              "      background-color: #E2EBFA;\n",
              "      box-shadow: 0px 1px 2px rgba(60, 64, 67, 0.3), 0px 1px 3px 1px rgba(60, 64, 67, 0.15);\n",
              "      fill: #174EA6;\n",
              "    }\n",
              "\n",
              "    [theme=dark] .colab-df-convert {\n",
              "      background-color: #3B4455;\n",
              "      fill: #D2E3FC;\n",
              "    }\n",
              "\n",
              "    [theme=dark] .colab-df-convert:hover {\n",
              "      background-color: #434B5C;\n",
              "      box-shadow: 0px 1px 3px 1px rgba(0, 0, 0, 0.15);\n",
              "      filter: drop-shadow(0px 1px 2px rgba(0, 0, 0, 0.3));\n",
              "      fill: #FFFFFF;\n",
              "    }\n",
              "  </style>\n",
              "\n",
              "      <script>\n",
              "        const buttonEl =\n",
              "          document.querySelector('#df-65a43e63-18fb-45c1-92a6-1a2a58ae7f4e button.colab-df-convert');\n",
              "        buttonEl.style.display =\n",
              "          google.colab.kernel.accessAllowed ? 'block' : 'none';\n",
              "\n",
              "        async function convertToInteractive(key) {\n",
              "          const element = document.querySelector('#df-65a43e63-18fb-45c1-92a6-1a2a58ae7f4e');\n",
              "          const dataTable =\n",
              "            await google.colab.kernel.invokeFunction('convertToInteractive',\n",
              "                                                     [key], {});\n",
              "          if (!dataTable) return;\n",
              "\n",
              "          const docLinkHtml = 'Like what you see? Visit the ' +\n",
              "            '<a target=\"_blank\" href=https://colab.research.google.com/notebooks/data_table.ipynb>data table notebook</a>'\n",
              "            + ' to learn more about interactive tables.';\n",
              "          element.innerHTML = '';\n",
              "          dataTable['output_type'] = 'display_data';\n",
              "          await google.colab.output.renderOutput(dataTable, element);\n",
              "          const docLink = document.createElement('div');\n",
              "          docLink.innerHTML = docLinkHtml;\n",
              "          element.appendChild(docLink);\n",
              "        }\n",
              "      </script>\n",
              "    </div>\n",
              "  </div>\n",
              "  "
            ]
          },
          "metadata": {},
          "execution_count": 34
        }
      ]
    },
    {
      "cell_type": "code",
      "source": [
        "train_df.columns"
      ],
      "metadata": {
        "colab": {
          "base_uri": "https://localhost:8080/"
        },
        "id": "qjgWCOIwngjX",
        "outputId": "412e5b26-bb45-4cbc-fb07-d1c9cce11beb"
      },
      "execution_count": 32,
      "outputs": [
        {
          "output_type": "execute_result",
          "data": {
            "text/plain": [
              "Index(['id', 'Age', 'TypeofContact', 'CityTier', 'DurationOfPitch',\n",
              "       'Occupation', 'Gender', 'NumberOfPersonVisiting', 'NumberOfFollowups',\n",
              "       'ProductPitched', 'PreferredPropertyStar', 'MaritalStatus',\n",
              "       'NumberOfTrips', 'Passport', 'PitchSatisfactionScore', 'OwnCar',\n",
              "       'NumberOfChildrenVisiting', 'Designation', 'MonthlyIncome',\n",
              "       'ProdTaken'],\n",
              "      dtype='object')"
            ]
          },
          "metadata": {},
          "execution_count": 32
        }
      ]
    },
    {
      "cell_type": "code",
      "source": [
        ""
      ],
      "metadata": {
        "id": "hpeM61wPpnzX"
      },
      "execution_count": null,
      "outputs": []
    },
    {
      "cell_type": "code",
      "source": [
        "len(train_df.columns)"
      ],
      "metadata": {
        "colab": {
          "base_uri": "https://localhost:8080/"
        },
        "id": "r4B8WW9Rnsda",
        "outputId": "6bbf0a68-250f-479c-9b60-5cdc91a48bcf"
      },
      "execution_count": 33,
      "outputs": [
        {
          "output_type": "execute_result",
          "data": {
            "text/plain": [
              "20"
            ]
          },
          "metadata": {},
          "execution_count": 33
        }
      ]
    },
    {
      "cell_type": "markdown",
      "source": [
        "##sample_submission"
      ],
      "metadata": {
        "id": "vjH4PvNRoKRX"
      }
    },
    {
      "cell_type": "code",
      "source": [
        "sample_submission_df = pd.read_csv('sample_submission.csv')\n",
        "sample_submission_df.describe()"
      ],
      "metadata": {
        "colab": {
          "base_uri": "https://localhost:8080/",
          "height": 300
        },
        "id": "Ky6ABFDEnu9g",
        "outputId": "74c3ee80-84f8-4b4d-b4e7-46eac8662e33"
      },
      "execution_count": 37,
      "outputs": [
        {
          "output_type": "execute_result",
          "data": {
            "text/plain": [
              "                id  ProdTaken\n",
              "count  2933.000000     2933.0\n",
              "mean   1467.000000        0.0\n",
              "std     846.828495        0.0\n",
              "min       1.000000        0.0\n",
              "25%     734.000000        0.0\n",
              "50%    1467.000000        0.0\n",
              "75%    2200.000000        0.0\n",
              "max    2933.000000        0.0"
            ],
            "text/html": [
              "\n",
              "  <div id=\"df-38cbea6e-cea8-4f89-8c80-67bef0f3e5d8\">\n",
              "    <div class=\"colab-df-container\">\n",
              "      <div>\n",
              "<style scoped>\n",
              "    .dataframe tbody tr th:only-of-type {\n",
              "        vertical-align: middle;\n",
              "    }\n",
              "\n",
              "    .dataframe tbody tr th {\n",
              "        vertical-align: top;\n",
              "    }\n",
              "\n",
              "    .dataframe thead th {\n",
              "        text-align: right;\n",
              "    }\n",
              "</style>\n",
              "<table border=\"1\" class=\"dataframe\">\n",
              "  <thead>\n",
              "    <tr style=\"text-align: right;\">\n",
              "      <th></th>\n",
              "      <th>id</th>\n",
              "      <th>ProdTaken</th>\n",
              "    </tr>\n",
              "  </thead>\n",
              "  <tbody>\n",
              "    <tr>\n",
              "      <th>count</th>\n",
              "      <td>2933.000000</td>\n",
              "      <td>2933.0</td>\n",
              "    </tr>\n",
              "    <tr>\n",
              "      <th>mean</th>\n",
              "      <td>1467.000000</td>\n",
              "      <td>0.0</td>\n",
              "    </tr>\n",
              "    <tr>\n",
              "      <th>std</th>\n",
              "      <td>846.828495</td>\n",
              "      <td>0.0</td>\n",
              "    </tr>\n",
              "    <tr>\n",
              "      <th>min</th>\n",
              "      <td>1.000000</td>\n",
              "      <td>0.0</td>\n",
              "    </tr>\n",
              "    <tr>\n",
              "      <th>25%</th>\n",
              "      <td>734.000000</td>\n",
              "      <td>0.0</td>\n",
              "    </tr>\n",
              "    <tr>\n",
              "      <th>50%</th>\n",
              "      <td>1467.000000</td>\n",
              "      <td>0.0</td>\n",
              "    </tr>\n",
              "    <tr>\n",
              "      <th>75%</th>\n",
              "      <td>2200.000000</td>\n",
              "      <td>0.0</td>\n",
              "    </tr>\n",
              "    <tr>\n",
              "      <th>max</th>\n",
              "      <td>2933.000000</td>\n",
              "      <td>0.0</td>\n",
              "    </tr>\n",
              "  </tbody>\n",
              "</table>\n",
              "</div>\n",
              "      <button class=\"colab-df-convert\" onclick=\"convertToInteractive('df-38cbea6e-cea8-4f89-8c80-67bef0f3e5d8')\"\n",
              "              title=\"Convert this dataframe to an interactive table.\"\n",
              "              style=\"display:none;\">\n",
              "        \n",
              "  <svg xmlns=\"http://www.w3.org/2000/svg\" height=\"24px\"viewBox=\"0 0 24 24\"\n",
              "       width=\"24px\">\n",
              "    <path d=\"M0 0h24v24H0V0z\" fill=\"none\"/>\n",
              "    <path d=\"M18.56 5.44l.94 2.06.94-2.06 2.06-.94-2.06-.94-.94-2.06-.94 2.06-2.06.94zm-11 1L8.5 8.5l.94-2.06 2.06-.94-2.06-.94L8.5 2.5l-.94 2.06-2.06.94zm10 10l.94 2.06.94-2.06 2.06-.94-2.06-.94-.94-2.06-.94 2.06-2.06.94z\"/><path d=\"M17.41 7.96l-1.37-1.37c-.4-.4-.92-.59-1.43-.59-.52 0-1.04.2-1.43.59L10.3 9.45l-7.72 7.72c-.78.78-.78 2.05 0 2.83L4 21.41c.39.39.9.59 1.41.59.51 0 1.02-.2 1.41-.59l7.78-7.78 2.81-2.81c.8-.78.8-2.07 0-2.86zM5.41 20L4 18.59l7.72-7.72 1.47 1.35L5.41 20z\"/>\n",
              "  </svg>\n",
              "      </button>\n",
              "      \n",
              "  <style>\n",
              "    .colab-df-container {\n",
              "      display:flex;\n",
              "      flex-wrap:wrap;\n",
              "      gap: 12px;\n",
              "    }\n",
              "\n",
              "    .colab-df-convert {\n",
              "      background-color: #E8F0FE;\n",
              "      border: none;\n",
              "      border-radius: 50%;\n",
              "      cursor: pointer;\n",
              "      display: none;\n",
              "      fill: #1967D2;\n",
              "      height: 32px;\n",
              "      padding: 0 0 0 0;\n",
              "      width: 32px;\n",
              "    }\n",
              "\n",
              "    .colab-df-convert:hover {\n",
              "      background-color: #E2EBFA;\n",
              "      box-shadow: 0px 1px 2px rgba(60, 64, 67, 0.3), 0px 1px 3px 1px rgba(60, 64, 67, 0.15);\n",
              "      fill: #174EA6;\n",
              "    }\n",
              "\n",
              "    [theme=dark] .colab-df-convert {\n",
              "      background-color: #3B4455;\n",
              "      fill: #D2E3FC;\n",
              "    }\n",
              "\n",
              "    [theme=dark] .colab-df-convert:hover {\n",
              "      background-color: #434B5C;\n",
              "      box-shadow: 0px 1px 3px 1px rgba(0, 0, 0, 0.15);\n",
              "      filter: drop-shadow(0px 1px 2px rgba(0, 0, 0, 0.3));\n",
              "      fill: #FFFFFF;\n",
              "    }\n",
              "  </style>\n",
              "\n",
              "      <script>\n",
              "        const buttonEl =\n",
              "          document.querySelector('#df-38cbea6e-cea8-4f89-8c80-67bef0f3e5d8 button.colab-df-convert');\n",
              "        buttonEl.style.display =\n",
              "          google.colab.kernel.accessAllowed ? 'block' : 'none';\n",
              "\n",
              "        async function convertToInteractive(key) {\n",
              "          const element = document.querySelector('#df-38cbea6e-cea8-4f89-8c80-67bef0f3e5d8');\n",
              "          const dataTable =\n",
              "            await google.colab.kernel.invokeFunction('convertToInteractive',\n",
              "                                                     [key], {});\n",
              "          if (!dataTable) return;\n",
              "\n",
              "          const docLinkHtml = 'Like what you see? Visit the ' +\n",
              "            '<a target=\"_blank\" href=https://colab.research.google.com/notebooks/data_table.ipynb>data table notebook</a>'\n",
              "            + ' to learn more about interactive tables.';\n",
              "          element.innerHTML = '';\n",
              "          dataTable['output_type'] = 'display_data';\n",
              "          await google.colab.output.renderOutput(dataTable, element);\n",
              "          const docLink = document.createElement('div');\n",
              "          docLink.innerHTML = docLinkHtml;\n",
              "          element.appendChild(docLink);\n",
              "        }\n",
              "      </script>\n",
              "    </div>\n",
              "  </div>\n",
              "  "
            ]
          },
          "metadata": {},
          "execution_count": 37
        }
      ]
    },
    {
      "cell_type": "code",
      "source": [
        "sample_submission_df.columns"
      ],
      "metadata": {
        "colab": {
          "base_uri": "https://localhost:8080/"
        },
        "id": "dtOshzhHoUu2",
        "outputId": "5552b7d0-ad8a-4bd6-c501-c4cd76a80fae"
      },
      "execution_count": 40,
      "outputs": [
        {
          "output_type": "execute_result",
          "data": {
            "text/plain": [
              "Index(['id', 'ProdTaken'], dtype='object')"
            ]
          },
          "metadata": {},
          "execution_count": 40
        }
      ]
    },
    {
      "cell_type": "code",
      "source": [
        "len(sample_submission_df.columns)"
      ],
      "metadata": {
        "colab": {
          "base_uri": "https://localhost:8080/"
        },
        "id": "MhTHRUaFokUC",
        "outputId": "7d3f3d77-91b7-4699-a0dc-2cacda36b3de"
      },
      "execution_count": 41,
      "outputs": [
        {
          "output_type": "execute_result",
          "data": {
            "text/plain": [
              "2"
            ]
          },
          "metadata": {},
          "execution_count": 41
        }
      ]
    },
    {
      "cell_type": "code",
      "source": [
        ""
      ],
      "metadata": {
        "id": "61YywzZGpGq1"
      },
      "execution_count": null,
      "outputs": []
    },
    {
      "cell_type": "markdown",
      "source": [
        "###오늘 알게된 점\n",
        "\n",
        "1.코랩에서 드라이브에 저장된 데이터를 가저오는 방법을 알게되었다.\n",
        "\n",
        "2.각 데이터를 판다스를 사용해서 좀 더 구체적으로 접근하는 방법을 알게되었다. "
      ],
      "metadata": {
        "id": "czfjut8Vp3Pe"
      }
    },
    {
      "cell_type": "code",
      "source": [
        ""
      ],
      "metadata": {
        "id": "eaSLuLsFqOay"
      },
      "execution_count": null,
      "outputs": []
    }
  ]
}