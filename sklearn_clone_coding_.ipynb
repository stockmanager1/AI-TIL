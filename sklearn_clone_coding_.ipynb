{
  "nbformat": 4,
  "nbformat_minor": 0,
  "metadata": {
    "colab": {
      "name": "sklearn -clone coding-.ipynb",
      "provenance": [],
      "authorship_tag": "ABX9TyOyU1Mv3k/TzhEQjFHc/H5x",
      "include_colab_link": true
    },
    "kernelspec": {
      "name": "python3",
      "display_name": "Python 3"
    },
    "language_info": {
      "name": "python"
    }
  },
  "cells": [
    {
      "cell_type": "markdown",
      "metadata": {
        "id": "view-in-github",
        "colab_type": "text"
      },
      "source": [
        "<a href=\"https://colab.research.google.com/github/stockmanager1/AI-TIL/blob/main/sklearn_clone_coding_.ipynb\" target=\"_parent\"><img src=\"https://colab.research.google.com/assets/colab-badge.svg\" alt=\"Open In Colab\"/></a>"
      ]
    },
    {
      "cell_type": "code",
      "execution_count": null,
      "metadata": {
        "id": "AnWPq4TjjytM"
      },
      "outputs": [],
      "source": [
        ""
      ]
    },
    {
      "cell_type": "markdown",
      "source": [
        "### API 사용 방법\n",
        "\n",
        "1. Scikit-Learn으로부터 적절한 `estimator` 클래스를 **임포트**해서 모델의 클래스 선택\n",
        "2. 클래스를 원하는 값으로 인스턴스화해서 모델의 하이퍼파라미터 선택\n",
        "3. 데이터를 특징 배열과 대상 벡터로 배치\n",
        "4. 모델 인스턴스의 **`fit()` 메서드**를 호출해 모델을 데이터에 적합\n",
        "5. 모델을 새 데이터에 대해서 적용\n",
        "  + 지도 학습: 대체로 **`predict()**` 메서드를 사용해 알려지지 않은 데이터에 대한 레이블 예측\n",
        "  + 비지도 학습: 대체로 **`transform()`이나 `predict**()` 메서드를 사용해 데이터의 속성을 변환하거나 추론"
      ],
      "metadata": {
        "id": "ifwnhAUekirC"
      }
    },
    {
      "cell_type": "markdown",
      "source": [
        "### API 사용 예제"
      ],
      "metadata": {
        "id": "5_N54fERlA7l"
      }
    },
    {
      "cell_type": "code",
      "source": [
        "#넘파이를 가저온다.\n",
        "import numpy as np\n",
        "#matplotlib를 이용해서 그래프를 그리자.\n",
        "import matplotlib.pyplot as plt\n",
        "#plt.style.use =  matplotlib 자체를 본인이 원하는대로 기본설정을 바꾸어 사용해서\n",
        "# 폰트, 시트, 기본 색상 등등을 커스터마이징하는 코드\n",
        "#plt.style.available===> 사용가능한 색상이나 폰트들을 가져오는 코드\n",
        "plt.style.use([\"seaborn-whitegrid\"])"
      ],
      "metadata": {
        "id": "DqillOhwkjD9"
      },
      "execution_count": null,
      "outputs": []
    },
    {
      "cell_type": "code",
      "source": [
        "#plt.style.available===> 사용가능한 색상이나 폰트들을 가져오는 코드\n",
        "plt.style.available"
      ],
      "metadata": {
        "colab": {
          "base_uri": "https://localhost:8080/"
        },
        "id": "u2uqVVpllVGi",
        "outputId": "50e4e208-8c8e-47e4-eb36-bcce4d9e8ca5"
      },
      "execution_count": null,
      "outputs": [
        {
          "output_type": "execute_result",
          "data": {
            "text/plain": [
              "['Solarize_Light2',\n",
              " '_classic_test_patch',\n",
              " 'bmh',\n",
              " 'classic',\n",
              " 'dark_background',\n",
              " 'fast',\n",
              " 'fivethirtyeight',\n",
              " 'ggplot',\n",
              " 'grayscale',\n",
              " 'seaborn',\n",
              " 'seaborn-bright',\n",
              " 'seaborn-colorblind',\n",
              " 'seaborn-dark',\n",
              " 'seaborn-dark-palette',\n",
              " 'seaborn-darkgrid',\n",
              " 'seaborn-deep',\n",
              " 'seaborn-muted',\n",
              " 'seaborn-notebook',\n",
              " 'seaborn-paper',\n",
              " 'seaborn-pastel',\n",
              " 'seaborn-poster',\n",
              " 'seaborn-talk',\n",
              " 'seaborn-ticks',\n",
              " 'seaborn-white',\n",
              " 'seaborn-whitegrid',\n",
              " 'tableau-colorblind10']"
            ]
          },
          "metadata": {},
          "execution_count": 38
        }
      ]
    },
    {
      "cell_type": "code",
      "source": [
        "#난수로 x,y축 지정\n",
        "x = 10 * np.random.rand(47)\n",
        "y = 2 * np.random.rand(47)\n",
        "plt.scatter(x,y);"
      ],
      "metadata": {
        "colab": {
          "base_uri": "https://localhost:8080/",
          "height": 262
        },
        "id": "mV1mfVdfmPLG",
        "outputId": "9acc9797-7d80-426a-b79e-ed895e63ef5f"
      },
      "execution_count": null,
      "outputs": [
        {
          "output_type": "display_data",
          "data": {
            "text/plain": [
              "<Figure size 432x288 with 1 Axes>"
            ],
            "image/png": "[encoded data removed]"
          },
          "metadata": {}
        }
      ]
    },
    {
      "cell_type": "code",
      "source": [
        "#1. Scikit-Learn으로부터 적절한 estimator 클래스를 임포트해서 모델의 클래스 선택\n",
        "from sklearn.linear_model import LinearRegression\n",
        "#linergegression라는 클래스를 임포트 했고 모델 클래스를 선택"
      ],
      "metadata": {
        "id": "lbuZHnCYmil5"
      },
      "execution_count": null,
      "outputs": []
    },
    {
      "cell_type": "code",
      "source": [
        "#2. 클래스(LinearRegression)를 원하는 값으로 인스턴스화(model)해서 모델의 하이퍼파라미터 선택\n",
        "#fit_intercept는 모델에 상수항이 있는가 없는가 결정하는 코드로 보통 디폴트값임\n",
        "model = LinearRegression(fit_intercept=True)"
      ],
      "metadata": {
        "id": "gK5LLqx6nZcZ"
      },
      "execution_count": null,
      "outputs": []
    },
    {
      "cell_type": "code",
      "source": [
        "#지도학습을 기준으로 머신러닝에 필요한 데이터는 입력에 해당하는 특징행렬(Feature Matrix)과 \n",
        "#출력에 해당하는 대상벡터(Target Vector) 입니다.\n",
        "#특징행렬은 행(row)을 나타내는 표본(sample)과 열(column)을 나타내는 특징(feature)으로 구성됩니다.\n",
        "#3. 데이터를 특징 배열과 대상 벡터로 배치\n",
        "X = x[:, np.newaxis]\n",
        "X\n",
        "#X = x[:, np.newaxis]이런식으로 새로운 축을 지정해주는 이유\n",
        "#특징행렬은 행(row)을 나타내는 표본(sample)과 열(column)을 나타내는 특징(feature)으로 구성되기 때문이다\n",
        "\n",
        "#X = x[:, np.newaxis]경우 행과 열로 array가 정리된다.\n",
        "\n",
        "#하지만 일반 x의 경우를 살펴보면 행과 열로 완전히 나나날 수 없는 경우가 생긴다\n",
        "#x\n",
        "#그러니 axis를 새로 지정해서 행과 열을 맞추어 준다."
      ],
      "metadata": {
        "colab": {
          "base_uri": "https://localhost:8080/"
        },
        "id": "gQWInE7UoLT8",
        "outputId": "fde4ed52-28f9-4251-86ab-e1b37eb05d23"
      },
      "execution_count": null,
      "outputs": [
        {
          "output_type": "execute_result",
          "data": {
            "text/plain": [
              "array([[6.02321705],\n",
              "       [2.11138663],\n",
              "       [6.53177082],\n",
              "       [1.17310307],\n",
              "       [2.64651328],\n",
              "       [0.58768804],\n",
              "       [4.63635529],\n",
              "       [9.8607598 ],\n",
              "       [6.10251758],\n",
              "       [5.9704645 ],\n",
              "       [7.5842409 ],\n",
              "       [1.3358457 ],\n",
              "       [3.87747518],\n",
              "       [1.99999911],\n",
              "       [9.0564153 ],\n",
              "       [4.92414183],\n",
              "       [8.36765919],\n",
              "       [6.49603911],\n",
              "       [1.50276341],\n",
              "       [3.07815396],\n",
              "       [5.33844617],\n",
              "       [2.76356863],\n",
              "       [3.69272816],\n",
              "       [8.65962802],\n",
              "       [3.47502324],\n",
              "       [4.39342312],\n",
              "       [3.36093386],\n",
              "       [7.71116287],\n",
              "       [7.0748346 ],\n",
              "       [6.07895487],\n",
              "       [6.66548584],\n",
              "       [2.39885628],\n",
              "       [7.57523573],\n",
              "       [3.05305465],\n",
              "       [7.51560569],\n",
              "       [3.59212648],\n",
              "       [5.64401986],\n",
              "       [7.94772587],\n",
              "       [0.86119182],\n",
              "       [4.52856948],\n",
              "       [8.03356256],\n",
              "       [0.15252092],\n",
              "       [5.84088797],\n",
              "       [2.22477124],\n",
              "       [4.18303155],\n",
              "       [6.51758621],\n",
              "       [0.23761689]])"
            ]
          },
          "metadata": {},
          "execution_count": 42
        }
      ]
    },
    {
      "cell_type": "code",
      "source": [
        "#4. 모델 인스턴스의 fit() 메서드를 호출해 모델을 데이터에 적합--> 학습을 시켜줌\n",
        "model.fit(X,y)"
      ],
      "metadata": {
        "colab": {
          "base_uri": "https://localhost:8080/"
        },
        "id": "AoEto2XJqqn4",
        "outputId": "a34c0f7c-c1f7-418d-b989-13d28580bead"
      },
      "execution_count": null,
      "outputs": [
        {
          "output_type": "execute_result",
          "data": {
            "text/plain": [
              "LinearRegression()"
            ]
          },
          "metadata": {},
          "execution_count": 43
        }
      ]
    },
    {
      "cell_type": "code",
      "source": [
        "#모델의 기울기\n",
        "model.coef_"
      ],
      "metadata": {
        "colab": {
          "base_uri": "https://localhost:8080/"
        },
        "id": "r5P8KPy6rjqT",
        "outputId": "e9847657-239e-44f4-e4a5-c73dc18fcbb5"
      },
      "execution_count": null,
      "outputs": [
        {
          "output_type": "execute_result",
          "data": {
            "text/plain": [
              "array([0.05755402])"
            ]
          },
          "metadata": {},
          "execution_count": 44
        }
      ]
    },
    {
      "cell_type": "code",
      "source": [
        "#모델의 절편\n",
        "model.intercept_"
      ],
      "metadata": {
        "colab": {
          "base_uri": "https://localhost:8080/"
        },
        "id": "zc6cz32proQy",
        "outputId": "f6285d6b-de28-48c6-8ab7-36bab28aeaf3"
      },
      "execution_count": null,
      "outputs": [
        {
          "output_type": "execute_result",
          "data": {
            "text/plain": [
              "0.7844408221414403"
            ]
          },
          "metadata": {},
          "execution_count": 45
        }
      ]
    },
    {
      "cell_type": "code",
      "source": [
        "#5. 모델을 새 데이터에 대해서 적용\n",
        "xfit = np.linspace(-1,10)\n",
        "Xfit = xfit[:, np.newaxis]\n",
        "#이건 함수의 성질 x값을 함수에 넣어야 y값이 나오니까 이런식으로 정의해야 한다.\n",
        "yfit = model.predict(Xfit)"
      ],
      "metadata": {
        "id": "lkkI3S23rp9p"
      },
      "execution_count": null,
      "outputs": []
    },
    {
      "cell_type": "code",
      "source": [
        "plt.scatter(x,y)\n",
        "plt.plot(xfit,yfit,'--r')"
      ],
      "metadata": {
        "colab": {
          "base_uri": "https://localhost:8080/",
          "height": 280
        },
        "id": "yD-Zao8TrqTU",
        "outputId": "4fdf26e8-c1b0-428d-a90c-6da7fa2c9a2c"
      },
      "execution_count": null,
      "outputs": [
        {
          "output_type": "execute_result",
          "data": {
            "text/plain": [
              "[<matplotlib.lines.Line2D at 0x7effe10f8b10>]"
            ]
          },
          "metadata": {},
          "execution_count": 49
        },
        {
          "output_type": "display_data",
          "data": {
            "text/plain": [
              "<Figure size 432x288 with 1 Axes>"
            ],
            "image/png": "[encoded data removed]"
          },
          "metadata": {}
        }
      ]
    },
    {
      "cell_type": "markdown",
      "source": [
        "## 예제 데이터 세트"
      ],
      "metadata": {
        "id": "J2aKfgsE8DMK"
      }
    },
    {
      "cell_type": "markdown",
      "source": [
        "### 예제 데이터 세트 구조\n",
        "\n",
        "* 일반적으로 딕셔너리 형태로 구성\n",
        "* data: 특징 데이터 세트\n",
        "* target: 분류용은 레이블 값, 회귀용은 숫자 결과값 데이터\n",
        "* target_names: 개별 레이블의 이름 (분류용)\n",
        "* feature_names: 특징 이름\n",
        "* DESCR: 데이터 세트에 대한 설명과 각 특징 설명"
      ],
      "metadata": {
        "id": "BdYHm3E59xMp"
      }
    },
    {
      "cell_type": "code",
      "source": [
        "#사이킷 런 내부의 당뇨데이터를 사용해서 데이터 구조를 살펴보자."
      ],
      "metadata": {
        "id": "L4RWEZKprrlx"
      },
      "execution_count": null,
      "outputs": []
    },
    {
      "cell_type": "code",
      "source": [
        "#1. Scikit-Learn으로부터 적절한 estimator 클래스를 임포트해서 모델의 클래스 선택\n",
        "from sklearn.datasets import load_diabetes\n",
        "\n",
        "diabetes = load_diabetes()\n",
        "#딕셔너리 자료형에서 key값을 가져옵시다.\n",
        "#여기서는 diabetes에서의 키값을 보는 것. 즉 전체적인 자료 상태를 체크한다.\n",
        "print(diabetes.keys())"
      ],
      "metadata": {
        "colab": {
          "base_uri": "https://localhost:8080/"
        },
        "id": "so2vx8T_9-zc",
        "outputId": "823383ee-6ef2-4c0e-dd96-759fa4ec97a9"
      },
      "execution_count": null,
      "outputs": [
        {
          "output_type": "stream",
          "name": "stdout",
          "text": [
            "dict_keys(['data', 'target', 'frame', 'DESCR', 'feature_names', 'data_filename', 'target_filename', 'data_module'])\n"
          ]
        }
      ]
    },
    {
      "cell_type": "code",
      "source": [
        "#data: 특징 데이터 세트\n",
        "print(diabetes.data)"
      ],
      "metadata": {
        "colab": {
          "base_uri": "https://localhost:8080/"
        },
        "id": "jH4aoY4V-cLe",
        "outputId": "73b7e5b0-6d50-418b-ee94-ce57486c5261"
      },
      "execution_count": null,
      "outputs": [
        {
          "output_type": "stream",
          "name": "stdout",
          "text": [
            "[[ 0.03807591  0.05068012  0.06169621 ... -0.00259226  0.01990842\n",
            "  -0.01764613]\n",
            " [-0.00188202 -0.04464164 -0.05147406 ... -0.03949338 -0.06832974\n",
            "  -0.09220405]\n",
            " [ 0.08529891  0.05068012  0.04445121 ... -0.00259226  0.00286377\n",
            "  -0.02593034]\n",
            " ...\n",
            " [ 0.04170844  0.05068012 -0.01590626 ... -0.01107952 -0.04687948\n",
            "   0.01549073]\n",
            " [-0.04547248 -0.04464164  0.03906215 ...  0.02655962  0.04452837\n",
            "  -0.02593034]\n",
            " [-0.04547248 -0.04464164 -0.0730303  ... -0.03949338 -0.00421986\n",
            "   0.00306441]]\n"
          ]
        }
      ]
    },
    {
      "cell_type": "code",
      "source": [
        "#target: 분류용은 레이블 값, 회귀용은 숫자 결과값 데이터\n",
        "print(diabetes.target)"
      ],
      "metadata": {
        "colab": {
          "base_uri": "https://localhost:8080/"
        },
        "id": "pKqrHLGA-jOU",
        "outputId": "e35aad65-8652-4e6d-9fcc-993dbee43edd"
      },
      "execution_count": null,
      "outputs": [
        {
          "output_type": "stream",
          "name": "stdout",
          "text": [
            "[151.  75. 141. 206. 135.  97. 138.  63. 110. 310. 101.  69. 179. 185.\n",
            " 118. 171. 166. 144.  97. 168.  68.  49.  68. 245. 184. 202. 137.  85.\n",
            " 131. 283. 129.  59. 341.  87.  65. 102. 265. 276. 252.  90. 100.  55.\n",
            "  61.  92. 259.  53. 190. 142.  75. 142. 155. 225.  59. 104. 182. 128.\n",
            "  52.  37. 170. 170.  61. 144.  52. 128.  71. 163. 150.  97. 160. 178.\n",
            "  48. 270. 202. 111.  85.  42. 170. 200. 252. 113. 143.  51.  52. 210.\n",
            "  65. 141.  55. 134.  42. 111.  98. 164.  48.  96.  90. 162. 150. 279.\n",
            "  92.  83. 128. 102. 302. 198.  95.  53. 134. 144. 232.  81. 104.  59.\n",
            " 246. 297. 258. 229. 275. 281. 179. 200. 200. 173. 180.  84. 121. 161.\n",
            "  99. 109. 115. 268. 274. 158. 107.  83. 103. 272.  85. 280. 336. 281.\n",
            " 118. 317. 235.  60. 174. 259. 178. 128.  96. 126. 288.  88. 292.  71.\n",
            " 197. 186.  25.  84.  96. 195.  53. 217. 172. 131. 214.  59.  70. 220.\n",
            " 268. 152.  47.  74. 295. 101. 151. 127. 237. 225.  81. 151. 107.  64.\n",
            " 138. 185. 265. 101. 137. 143. 141.  79. 292. 178.  91. 116.  86. 122.\n",
            "  72. 129. 142.  90. 158.  39. 196. 222. 277.  99. 196. 202. 155.  77.\n",
            " 191.  70.  73.  49.  65. 263. 248. 296. 214. 185.  78.  93. 252. 150.\n",
            "  77. 208.  77. 108. 160.  53. 220. 154. 259.  90. 246. 124.  67.  72.\n",
            " 257. 262. 275. 177.  71.  47. 187. 125.  78.  51. 258. 215. 303. 243.\n",
            "  91. 150. 310. 153. 346.  63.  89.  50.  39. 103. 308. 116. 145.  74.\n",
            "  45. 115. 264.  87. 202. 127. 182. 241.  66.  94. 283.  64. 102. 200.\n",
            " 265.  94. 230. 181. 156. 233.  60. 219.  80.  68. 332. 248.  84. 200.\n",
            "  55.  85.  89.  31. 129.  83. 275.  65. 198. 236. 253. 124.  44. 172.\n",
            " 114. 142. 109. 180. 144. 163. 147.  97. 220. 190. 109. 191. 122. 230.\n",
            " 242. 248. 249. 192. 131. 237.  78. 135. 244. 199. 270. 164.  72.  96.\n",
            " 306.  91. 214.  95. 216. 263. 178. 113. 200. 139. 139.  88. 148.  88.\n",
            " 243.  71.  77. 109. 272.  60.  54. 221.  90. 311. 281. 182. 321.  58.\n",
            " 262. 206. 233. 242. 123. 167.  63. 197.  71. 168. 140. 217. 121. 235.\n",
            " 245.  40.  52. 104. 132.  88.  69. 219.  72. 201. 110.  51. 277.  63.\n",
            " 118.  69. 273. 258.  43. 198. 242. 232. 175.  93. 168. 275. 293. 281.\n",
            "  72. 140. 189. 181. 209. 136. 261. 113. 131. 174. 257.  55.  84.  42.\n",
            " 146. 212. 233.  91. 111. 152. 120.  67. 310.  94. 183.  66. 173.  72.\n",
            "  49.  64.  48. 178. 104. 132. 220.  57.]\n"
          ]
        }
      ]
    },
    {
      "cell_type": "code",
      "source": [
        "#DESCR: 데이터 세트에 대한 설명과 각 특징 설명\n",
        "print(diabetes.DESCR)"
      ],
      "metadata": {
        "colab": {
          "base_uri": "https://localhost:8080/"
        },
        "id": "9a_xCasZ_QZr",
        "outputId": "c33a6a25-c99f-4d3c-a987-4d22c9906794"
      },
      "execution_count": null,
      "outputs": [
        {
          "output_type": "stream",
          "name": "stdout",
          "text": [
            ".. _diabetes_dataset:\n",
            "\n",
            "Diabetes dataset\n",
            "----------------\n",
            "\n",
            "Ten baseline variables, age, sex, body mass index, average blood\n",
            "pressure, and six blood serum measurements were obtained for each of n =\n",
            "442 diabetes patients, as well as the response of interest, a\n",
            "quantitative measure of disease progression one year after baseline.\n",
            "\n",
            "**Data Set Characteristics:**\n",
            "\n",
            "  :Number of Instances: 442\n",
            "\n",
            "  :Number of Attributes: First 10 columns are numeric predictive values\n",
            "\n",
            "  :Target: Column 11 is a quantitative measure of disease progression one year after baseline\n",
            "\n",
            "  :Attribute Information:\n",
            "      - age     age in years\n",
            "      - sex\n",
            "      - bmi     body mass index\n",
            "      - bp      average blood pressure\n",
            "      - s1      tc, total serum cholesterol\n",
            "      - s2      ldl, low-density lipoproteins\n",
            "      - s3      hdl, high-density lipoproteins\n",
            "      - s4      tch, total cholesterol / HDL\n",
            "      - s5      ltg, possibly log of serum triglycerides level\n",
            "      - s6      glu, blood sugar level\n",
            "\n",
            "Note: Each of these 10 feature variables have been mean centered and scaled by the standard deviation times `n_samples` (i.e. the sum of squares of each column totals 1).\n",
            "\n",
            "Source URL:\n",
            "https://www4.stat.ncsu.edu/~boos/var.select/diabetes.html\n",
            "\n",
            "For more information see:\n",
            "Bradley Efron, Trevor Hastie, Iain Johnstone and Robert Tibshirani (2004) \"Least Angle Regression,\" Annals of Statistics (with discussion), 407-499.\n",
            "(https://web.stanford.edu/~hastie/Papers/LARS/LeastAngle_2002.pdf)\n"
          ]
        }
      ]
    },
    {
      "cell_type": "code",
      "source": [
        "#feature_names: 특징 이름\n",
        "print(diabetes.feature_names)"
      ],
      "metadata": {
        "colab": {
          "base_uri": "https://localhost:8080/"
        },
        "id": "Uako1XiVA2IN",
        "outputId": "43f77010-ca2f-49d0-c64b-9fb14e899212"
      },
      "execution_count": null,
      "outputs": [
        {
          "output_type": "stream",
          "name": "stdout",
          "text": [
            "['age', 'sex', 'bmi', 'bp', 's1', 's2', 's3', 's4', 's5', 's6']\n"
          ]
        }
      ]
    },
    {
      "cell_type": "code",
      "source": [
        "#파일이름\n",
        "print(diabetes.data_filename)\n",
        "print(diabetes.target_filename)"
      ],
      "metadata": {
        "colab": {
          "base_uri": "https://localhost:8080/"
        },
        "id": "WjlljqJTBJuV",
        "outputId": "bfe09800-4bd9-47ad-ede5-9911404b8ae8"
      },
      "execution_count": null,
      "outputs": [
        {
          "output_type": "stream",
          "name": "stdout",
          "text": [
            "diabetes_data.csv.gz\n",
            "diabetes_target.csv.gz\n"
          ]
        }
      ]
    },
    {
      "cell_type": "markdown",
      "source": [
        "## `model_selection` 모듈\n",
        "\n",
        "* 학습용 데이터와 테스트 데이터로 분리\n",
        "* 교차 검증 분할 및 평가\n",
        "* Estimator의 하이퍼 파라미터 튜닝을 위한 다양한 함수와 클래스 제공\n",
        "* 오버 히팅 방지"
      ],
      "metadata": {
        "id": "MzSWtBj4EEKz"
      }
    },
    {
      "cell_type": "markdown",
      "source": [
        "### `1. train_test_split()`: 학습/테스트 데이터 세트 분리"
      ],
      "metadata": {
        "id": "B9zjvf3WEJEK"
      }
    },
    {
      "cell_type": "markdown",
      "source": [
        "![image.png](data:image/png;base64,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)\n",
        "위의 그림과 같이 기존 train / test로 구분 되어 있었던 데이터 셋을 train에서 train / validation으로 일정 비율 쪼갠 다음에 학습 시에는 train 셋으로 학습 후 중간중간 validation 셋으로 내가 학습한 모델 평가를 해주는 것입니다.\n",
        "\n",
        "\n",
        "만약, 모델이 과적합되었다면, validation 셋으로 검증시 예측율이나 오차율이 떨어지는 현상을 확인할 수 있습니다."
      ],
      "metadata": {
        "id": "KjlnSYOkFB2P"
      }
    },
    {
      "cell_type": "code",
      "source": [
        "from sklearn.linear_model import LinearRegression\n",
        "from sklearn.model_selection import train_test_split\n",
        "from sklearn.datasets import load_diabetes\n",
        "\n",
        "diabetes = load_diabetes()\n",
        "\n",
        "X_train,X_test,y_train,y_test = train_test_split(diabetes.data,diabetes.target,test_size=0.3)\n",
        "\n",
        "\n",
        "#data와 target을 이용한다.\n",
        "#test_size: 테스트 셋 구성의 비율을 나타냅니다. train_size의 옵션과 반대 관계에 \n",
        "#있는 옵션 값이며, 주로 test_size를 지정해 줍니다. 0.2는 전체 데이터 셋의 20%를 test\n",
        "#(validation) 셋으로 지정하겠다는 의미입니다. default 값은 0.25 입니다.\n",
        "\n",
        "\n",
        "model = LinearRegression()\n",
        "model.fit(X_train,y_train)\n",
        "\n",
        "print(\"학습데이터 점수:{}\".format(model.score(X_train, y_train)))\n",
        "\n",
        "\n",
        "#점수는 1에 가까울수록 좋다"
      ],
      "metadata": {
        "colab": {
          "base_uri": "https://localhost:8080/"
        },
        "id": "EMixVbf3Bk7x",
        "outputId": "fbdc5ef5-f38b-49e2-b1d7-4271dc04c262"
      },
      "execution_count": null,
      "outputs": [
        {
          "output_type": "stream",
          "name": "stdout",
          "text": [
            "학습데이터 점수:0.5390978615732873\n"
          ]
        }
      ]
    },
    {
      "cell_type": "markdown",
      "source": [
        "### `cross_val_score()`: 교차 검증"
      ],
      "metadata": {
        "id": "X2ZRxDa5EvVA"
      }
    },
    {
      "cell_type": "markdown",
      "source": [
        "알고리즘을 학습시키는 학습 데이터와 이에 예측 성능을 평가하기 위한 별도의 테스트용 데이터가 필요하다고 했지만 이 방법은 과적합에 매우 취약하다.\n",
        "\n",
        "\n",
        "따라서 학습데이터에만 과도하게 적합하고, 다른 데이터로 접근하면 성능이 매우 떨어진다.\n",
        "\n",
        "\n",
        "따라서 교차검증을 통해 더 다양한 학습과 평가를 수행한다."
      ],
      "metadata": {
        "id": "udMrkndSIp1X"
      }
    },
    {
      "cell_type": "code",
      "source": [
        "from sklearn.model_selection import cross_val_score,cross_validate\n",
        "\n",
        "diabetes = load_diabetes()\n",
        "\n",
        "scores = cross_val_score(model, diabetes.data, diabetes.target, cv=5)\n",
        " # 파라미터는 (모델, Traingdata의 feature, Trainingdata의 target, 폴드수) 이다.\n",
        "\n",
        "print(\"교차 검증 정확도: {}\".format(scores)) \n",
        "print(\"교차 검증 정확도의 평균: {}\".format(scores.mean())) "
      ],
      "metadata": {
        "colab": {
          "base_uri": "https://localhost:8080/"
        },
        "id": "gW4_juCQEaDw",
        "outputId": "ef166fef-b210-4642-90d4-22d1890062d4"
      },
      "execution_count": null,
      "outputs": [
        {
          "output_type": "stream",
          "name": "stdout",
          "text": [
            "교차 검증 정확도: [0.42955643 0.52259828 0.4826784  0.42650827 0.55024923]\n",
            "교차 검증 정확도의 평균: 0.48231812211149394\n"
          ]
        }
      ]
    },
    {
      "cell_type": "code",
      "source": [
        ""
      ],
      "metadata": {
        "id": "_vmhICRCKLMj"
      },
      "execution_count": null,
      "outputs": []
    }
  ]
}